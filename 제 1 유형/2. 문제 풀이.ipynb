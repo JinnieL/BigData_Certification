{
 "cells": [
  {
   "cell_type": "code",
   "execution_count": 33,
   "metadata": {},
   "outputs": [
    {
     "data": {
      "text/html": [
       "<div>\n",
       "<style scoped>\n",
       "    .dataframe tbody tr th:only-of-type {\n",
       "        vertical-align: middle;\n",
       "    }\n",
       "\n",
       "    .dataframe tbody tr th {\n",
       "        vertical-align: top;\n",
       "    }\n",
       "\n",
       "    .dataframe thead th {\n",
       "        text-align: right;\n",
       "    }\n",
       "</style>\n",
       "<table border=\"1\" class=\"dataframe\">\n",
       "  <thead>\n",
       "    <tr style=\"text-align: right;\">\n",
       "      <th></th>\n",
       "      <th>car</th>\n",
       "      <th>mpg</th>\n",
       "      <th>cyl</th>\n",
       "      <th>disp</th>\n",
       "      <th>hp</th>\n",
       "      <th>drat</th>\n",
       "      <th>wt</th>\n",
       "      <th>qsec</th>\n",
       "      <th>vs</th>\n",
       "      <th>am</th>\n",
       "      <th>gear</th>\n",
       "      <th>carb</th>\n",
       "    </tr>\n",
       "  </thead>\n",
       "  <tbody>\n",
       "    <tr>\n",
       "      <th>0</th>\n",
       "      <td>Mazda RX4</td>\n",
       "      <td>21.0</td>\n",
       "      <td>6</td>\n",
       "      <td>160.0</td>\n",
       "      <td>110</td>\n",
       "      <td>3.90</td>\n",
       "      <td>2.620</td>\n",
       "      <td>16.46</td>\n",
       "      <td>0</td>\n",
       "      <td>1</td>\n",
       "      <td>4</td>\n",
       "      <td>4</td>\n",
       "    </tr>\n",
       "    <tr>\n",
       "      <th>1</th>\n",
       "      <td>Mazda RX4 Wag</td>\n",
       "      <td>21.0</td>\n",
       "      <td>6</td>\n",
       "      <td>160.0</td>\n",
       "      <td>110</td>\n",
       "      <td>3.90</td>\n",
       "      <td>2.875</td>\n",
       "      <td>17.02</td>\n",
       "      <td>0</td>\n",
       "      <td>1</td>\n",
       "      <td>4</td>\n",
       "      <td>4</td>\n",
       "    </tr>\n",
       "    <tr>\n",
       "      <th>2</th>\n",
       "      <td>Datsun 710</td>\n",
       "      <td>22.8</td>\n",
       "      <td>4</td>\n",
       "      <td>108.0</td>\n",
       "      <td>93</td>\n",
       "      <td>3.85</td>\n",
       "      <td>2.320</td>\n",
       "      <td>18.61</td>\n",
       "      <td>1</td>\n",
       "      <td>1</td>\n",
       "      <td>4</td>\n",
       "      <td>1</td>\n",
       "    </tr>\n",
       "    <tr>\n",
       "      <th>3</th>\n",
       "      <td>Hornet 4 Drive</td>\n",
       "      <td>21.4</td>\n",
       "      <td>6</td>\n",
       "      <td>258.0</td>\n",
       "      <td>110</td>\n",
       "      <td>3.08</td>\n",
       "      <td>3.215</td>\n",
       "      <td>19.44</td>\n",
       "      <td>1</td>\n",
       "      <td>0</td>\n",
       "      <td>3</td>\n",
       "      <td>1</td>\n",
       "    </tr>\n",
       "    <tr>\n",
       "      <th>4</th>\n",
       "      <td>Hornet Sportabout</td>\n",
       "      <td>18.7</td>\n",
       "      <td>8</td>\n",
       "      <td>360.0</td>\n",
       "      <td>175</td>\n",
       "      <td>3.15</td>\n",
       "      <td>3.440</td>\n",
       "      <td>17.02</td>\n",
       "      <td>0</td>\n",
       "      <td>0</td>\n",
       "      <td>3</td>\n",
       "      <td>2</td>\n",
       "    </tr>\n",
       "  </tbody>\n",
       "</table>\n",
       "</div>"
      ],
      "text/plain": [
       "                 car   mpg  cyl   disp   hp  drat     wt   qsec  vs  am  gear  \\\n",
       "0          Mazda RX4  21.0    6  160.0  110  3.90  2.620  16.46   0   1     4   \n",
       "1      Mazda RX4 Wag  21.0    6  160.0  110  3.90  2.875  17.02   0   1     4   \n",
       "2         Datsun 710  22.8    4  108.0   93  3.85  2.320  18.61   1   1     4   \n",
       "3     Hornet 4 Drive  21.4    6  258.0  110  3.08  3.215  19.44   1   0     3   \n",
       "4  Hornet Sportabout  18.7    8  360.0  175  3.15  3.440  17.02   0   0     3   \n",
       "\n",
       "   carb  \n",
       "0     4  \n",
       "1     4  \n",
       "2     1  \n",
       "3     1  \n",
       "4     2  "
      ]
     },
     "execution_count": 33,
     "metadata": {},
     "output_type": "execute_result"
    }
   ],
   "source": [
    "import pandas as pd\n",
    "import numpy as np\n",
    "\n",
    "df = pd.read_csv(\"/Users/jinyeonglee/BigData_Certification/Data/mtcars.csv\")\n",
    "df.head()"
   ]
  },
  {
   "cell_type": "code",
   "execution_count": 34,
   "metadata": {},
   "outputs": [
    {
     "data": {
      "text/plain": [
       "15"
      ]
     },
     "execution_count": 34,
     "metadata": {},
     "output_type": "execute_result"
    }
   ],
   "source": [
    "# ⭕️ 문제 1) mpg 변수의 제 1사분위수를 구하고 정수값으로 출력하시오\n",
    "mpg_q1 = df['mpg'].quantile(.25)\n",
    "round(mpg_q1)"
   ]
  },
  {
   "cell_type": "code",
   "execution_count": 35,
   "metadata": {},
   "outputs": [
    {
     "name": "stdout",
     "output_type": "stream",
     "text": [
      "15\n"
     ]
    }
   ],
   "source": [
    "# ⭕️ 문제 1 복습) mpg 변수의 제 1사분위수를 구하고 정수값으로 출력하시오.\n",
    "q1 = df['mpg'].quantile(0.25)\n",
    "print(int(q1))"
   ]
  },
  {
   "cell_type": "code",
   "execution_count": 36,
   "metadata": {},
   "outputs": [
    {
     "data": {
      "text/plain": [
       "5"
      ]
     },
     "execution_count": 36,
     "metadata": {},
     "output_type": "execute_result"
    }
   ],
   "source": [
    "# ⭕️ 문제 2) mpg 값이 19 이상 21 이하인 데이터의 수를 구하시오.\n",
    "cond1 = df['mpg'] >= 19\n",
    "cond2 = df['mpg'] <= 21\n",
    "len(df[cond1 & cond2])"
   ]
  },
  {
   "cell_type": "code",
   "execution_count": 37,
   "metadata": {},
   "outputs": [
    {
     "name": "stdout",
     "output_type": "stream",
     "text": [
      "5\n"
     ]
    }
   ],
   "source": [
    "# ⭕️ 문제 2 복습) mpg 값이 19 이상 21 이하인 데이터의 수를 구하시오.\n",
    "cond1 = (df['mpg'] >= 19)\n",
    "cond2 = (df['mpg'] <= 21)\n",
    "print(len(df[cond1 & cond2]))"
   ]
  },
  {
   "cell_type": "code",
   "execution_count": 38,
   "metadata": {},
   "outputs": [
    {
     "data": {
      "text/plain": [
       "83.5"
      ]
     },
     "execution_count": 38,
     "metadata": {},
     "output_type": "execute_result"
    }
   ],
   "source": [
    "# ⭕️ 문제 3) hp 변수의 IQR 값을 구하시오\n",
    "# IQR = Q3 - Q1\n",
    "hp_q1 = df['hp'].quantile(.25)\n",
    "hp_q3 = df['hp'].quantile(.75)\n",
    "hp_IQR = hp_q3 - hp_q1\n",
    "hp_IQR"
   ]
  },
  {
   "cell_type": "code",
   "execution_count": 39,
   "metadata": {},
   "outputs": [
    {
     "name": "stdout",
     "output_type": "stream",
     "text": [
      "83.5\n"
     ]
    }
   ],
   "source": [
    "# ⭕️ 문제 3 복습) hp 변수의 IQR 값을 구하시오\n",
    "hpQ1 = df['hp'].quantile(.25)\n",
    "hpQ3 = df['hp'].quantile(.75)\n",
    "hpIQR = hpQ3 - hpQ1\n",
    "print(hpIQR)"
   ]
  },
  {
   "cell_type": "code",
   "execution_count": 40,
   "metadata": {},
   "outputs": [
    {
     "data": {
      "text/plain": [
       "count    32.000000\n",
       "mean      3.217250\n",
       "std       0.978457\n",
       "min       1.513000\n",
       "25%       2.581250\n",
       "50%       3.325000\n",
       "75%       3.610000\n",
       "max       5.424000\n",
       "Name: wt, dtype: float64"
      ]
     },
     "execution_count": 40,
     "metadata": {},
     "output_type": "execute_result"
    }
   ],
   "source": [
    "df['wt'].describe()"
   ]
  },
  {
   "cell_type": "code",
   "execution_count": 41,
   "metadata": {},
   "outputs": [
    {
     "data": {
      "text/plain": [
       "42"
      ]
     },
     "execution_count": 41,
     "metadata": {},
     "output_type": "execute_result"
    }
   ],
   "source": [
    "# 🔺 문제 4) wt 변수의 상위 10개 값의 총합을 구하여 소수점을 버리고 정수로 출력하시오.\t\n",
    "# round(df['wt'].sort_values(ascending=False).head(10).sum())\n",
    "int(df['wt'].sort_values(ascending=False).head(10).sum())\n",
    "\n",
    "# ▶️ round()는 반올림하는 함수이기 때문에 소수점을 버리려면 int()가 더 적절하다."
   ]
  },
  {
   "cell_type": "code",
   "execution_count": 42,
   "metadata": {},
   "outputs": [
    {
     "name": "stdout",
     "output_type": "stream",
     "text": [
      "42\n"
     ]
    }
   ],
   "source": [
    "# ⭕️ 문제 4 복습) wt 변수의 상위 10개 값의 총합을 구하여 소수점을 버리고 정수로 출력하시오.\n",
    "top10wt = df.sort_values('wt', ascending=False).head(10)\n",
    "print(int(top10wt['wt'].sum()))"
   ]
  },
  {
   "cell_type": "code",
   "execution_count": 43,
   "metadata": {},
   "outputs": [
    {
     "data": {
      "text/plain": [
       "0.2"
      ]
     },
     "execution_count": 43,
     "metadata": {},
     "output_type": "execute_result"
    }
   ],
   "source": [
    "# ⭕️ 문제 5) 전체 자동차에서 cyl가 6인 비율이 얼마인지 소수점 첫째 자리까지 출력하시오.\n",
    "cond_cyl = (df['cyl'] == 6)\n",
    "round(len(df[cond_cyl]) / len(df['cyl']), 1)"
   ]
  },
  {
   "cell_type": "code",
   "execution_count": 44,
   "metadata": {},
   "outputs": [
    {
     "name": "stdout",
     "output_type": "stream",
     "text": [
      "0.2\n"
     ]
    }
   ],
   "source": [
    "# ⭕️ 문제 5 복습) 전체 자동차에서 cyl가 6인 비율이 얼마인지 소수점 첫째 자리까지 출력하시오.\n",
    "cyl_cond = (df['cyl'] == 6)\n",
    "print(round(len(df[cyl_cond]) / len(df), 1))"
   ]
  },
  {
   "cell_type": "code",
   "execution_count": 45,
   "metadata": {},
   "outputs": [
    {
     "data": {
      "text/plain": [
       "20"
      ]
     },
     "execution_count": 45,
     "metadata": {},
     "output_type": "execute_result"
    }
   ],
   "source": [
    "# ⭕️ 문제 6) 첫번째 행부터 순서대로 10개 뽑은 후 mpg 열의 평균값을 반올림하여 정수로 출력하시오.\n",
    "df10 = df.head(10)\n",
    "round(df10['mpg'].mean())"
   ]
  },
  {
   "cell_type": "code",
   "execution_count": 46,
   "metadata": {},
   "outputs": [
    {
     "name": "stdout",
     "output_type": "stream",
     "text": [
      "20\n"
     ]
    }
   ],
   "source": [
    "# ⭕️ 문제 6 복습) 첫번째 행부터 순서대로 10개 뽑은 후 mpg 열의 평균값을 반올림하여 정수로 출력하시오.\n",
    "print(round(df.head(10)['mpg'].mean()))"
   ]
  },
  {
   "cell_type": "code",
   "execution_count": 47,
   "metadata": {},
   "outputs": [
    {
     "data": {
      "text/plain": [
       "3.44"
      ]
     },
     "execution_count": 47,
     "metadata": {},
     "output_type": "execute_result"
    }
   ],
   "source": [
    "# ⭕️ 문제 7) 첫번째 행부터 순서대로 50%까지 데이터를 뽑아 wt 변수의 중앙값을 구하시오.\n",
    "df_half = df.head(int(len(df)*0.5))\n",
    "df_half['wt'].median()"
   ]
  },
  {
   "cell_type": "code",
   "execution_count": 48,
   "metadata": {},
   "outputs": [
    {
     "data": {
      "text/plain": [
       "3.44"
      ]
     },
     "execution_count": 48,
     "metadata": {},
     "output_type": "execute_result"
    }
   ],
   "source": [
    "# ⭕️ 문제 7 복습) 첫번째 행부터 순서대로 50%까지 데이터를 뽑아 wt 변수의 중앙값을 구하시오.\n",
    "df.head(int(len(df)*0.5))['wt'].median()"
   ]
  },
  {
   "cell_type": "code",
   "execution_count": 49,
   "metadata": {},
   "outputs": [
    {
     "data": {
      "text/plain": [
       "5"
      ]
     },
     "execution_count": 49,
     "metadata": {},
     "output_type": "execute_result"
    }
   ],
   "source": [
    "# ❌ 문제 8) 다음 데이터에서 결측값이 있는 데이터의 수를 출력하시오.\n",
    "\n",
    "# 데이터 생성\n",
    "df = pd.DataFrame( \n",
    "    {\n",
    "        '날짜': ['20220103','20220105', None,'20230127','20220203', '20220205', '20230210','20230223','20230312','20230422', '20220505', '20230511'],\n",
    "        '제품' : ['A','B', None, 'B', 'A', None,'A', 'B', 'A', 'B', 'A', 'A'],\n",
    "        '판매수': [3, None, 5, 10, 10, 10, 15, 15, 20, None, 30, 40],\n",
    "        '개당수익': [300, 400, 500, 600, 400, 500, 500, 600, 600, 700, 600, 600] \n",
    "    }\n",
    ")\n",
    "\n",
    "df.isnull().sum().sum()"
   ]
  },
  {
   "cell_type": "code",
   "execution_count": 50,
   "metadata": {},
   "outputs": [
    {
     "data": {
      "text/plain": [
       "5"
      ]
     },
     "execution_count": 50,
     "metadata": {},
     "output_type": "execute_result"
    }
   ],
   "source": [
    "# ⭕️ 문제 8 복습) 다음 데이터에서 결측값이 있는 데이터의 수를 출력하시오.\n",
    "\n",
    "# 데이터 생성\n",
    "df = pd.DataFrame( \n",
    "    {\n",
    "        '날짜': ['20220103','20220105', None,'20230127','20220203', '20220205', '20230210','20230223','20230312','20230422', '20220505', '20230511'],\n",
    "        '제품' : ['A','B', None, 'B', 'A', None,'A', 'B', 'A', 'B', 'A', 'A'],\n",
    "        '판매수': [3, None, 5, 10, 10, 10, 15, 15, 20, None, 30, 40],\n",
    "        '개당수익': [300, 400, 500, 600, 400, 500, 500, 600, 600, 700, 600, 600] \n",
    "    }\n",
    ")\n",
    "df.isnull().sum().sum()"
   ]
  },
  {
   "cell_type": "code",
   "execution_count": 51,
   "metadata": {},
   "outputs": [
    {
     "data": {
      "text/plain": [
       "15"
      ]
     },
     "execution_count": 51,
     "metadata": {},
     "output_type": "execute_result"
    }
   ],
   "source": [
    "# ❌ 문제 9) '판매수' 컬럼의 결측값을 판매수의 중앙값으로 대체하고 판매수의 평균값을 반올림하여 정수로 출력하시오.\n",
    "df = pd.DataFrame( \n",
    "    {\n",
    "        '날짜': ['20220103','20220105', None,'20230127','20220203', '20220205', '20230210','20230223','20230312','20230422', '20220505', '20230511'],\n",
    "        '제품' : ['A','B', None, 'B', 'A', None,'A', 'B', 'A', 'B', 'A', 'A'],\n",
    "        '판매수': [3, None, 5, 10, 10, 10, 15, 15, 20, None, 30, 40],\n",
    "        '개당수익': [300, 400, 500, 600, 400, 500, 500, 600, 600, 700, 600, 600] \n",
    "    }\n",
    ")\n",
    "\n",
    "# 판매수 중앙값 계산\n",
    "soldCounts_median = df['판매수'].median()\n",
    "soldCounts_median\n",
    "\n",
    "# 판매수 결측값 중앙값으로 대체\n",
    "df['판매수'] = df['판매수'].fillna(soldCounts_median)\n",
    "\n",
    "# 판매수의 평균값을 반올림하여 정수로 출력\n",
    "round(df['판매수'].mean())"
   ]
  },
  {
   "cell_type": "code",
   "execution_count": 52,
   "metadata": {},
   "outputs": [
    {
     "name": "stdout",
     "output_type": "stream",
     "text": [
      "15\n"
     ]
    }
   ],
   "source": [
    "# ⭕️ 문제 9 복습) '판매수' 컬럼의 결측값을 판매수의 중앙값으로 대체하고 판매수의 평균값을 반올림하여 정수로 출력하시오.\n",
    "df = pd.DataFrame( \n",
    "    {\n",
    "        '날짜': ['20220103','20220105', None,'20230127','20220203', '20220205', '20230210','20230223','20230312','20230422', '20220505', '20230511'],\n",
    "        '제품' : ['A','B', None, 'B', 'A', None,'A', 'B', 'A', 'B', 'A', 'A'],\n",
    "        '판매수': [3, None, 5, 10, 10, 10, 15, 15, 20, None, 30, 40],\n",
    "        '개당수익': [300, 400, 500, 600, 400, 500, 500, 600, 600, 700, 600, 600] \n",
    "    }\n",
    ")\n",
    "\n",
    "# 판매수의 중앙값\n",
    "sales_median = df['판매수'].median()\n",
    "\n",
    "# '판매수' 컬럼의 결측값 대체\n",
    "df['판매수'] = df['판매수'].fillna(sales_median)\n",
    "\n",
    "print(int(df['판매수'].mean()))"
   ]
  },
  {
   "cell_type": "code",
   "execution_count": 53,
   "metadata": {},
   "outputs": [
    {
     "data": {
      "text/plain": [
       "5"
      ]
     },
     "execution_count": 53,
     "metadata": {},
     "output_type": "execute_result"
    }
   ],
   "source": [
    "# ❌ 문제 10) 판매수 컬럼에 결측치가 있는 행을 제거하고, 첫번째 행부터 순서대로 50%까지의 데이터를 추출하여 판매수 변수의 Q1(제1사분위수)값을 반올림하여 정수로 출력하시오.\n",
    "df = pd.DataFrame( \n",
    "    {\n",
    "        '날짜': ['20220103','20220105', None,'20230127','20220203', '20220205', '20230210','20230223','20230312','20230422', '20220505', '20230511'],\n",
    "        '제품' : ['A','B', None, 'B', 'A', None,'A', 'B', 'A', 'B', 'A', 'A'],\n",
    "        '판매수': [3, None, 5, 10, 10, 10, 15, 15, 20, None, 30, 40],\n",
    "        '개당수익': [300, 400, 500, 600, 400, 500, 500, 600, 600, 700, 600, 600] \n",
    "    }\n",
    ")\n",
    "# df\n",
    "\n",
    "# 판매수 컬럼의 결측치 행 제거\n",
    "df.dropna(axis=0, subset=['판매수'], inplace=True)\n",
    "df\n",
    "\n",
    "# 첫번째 행부터 순서대로 50%까지의 데이터를 추출\n",
    "half_df = df.head(int(len(df)/2))\n",
    "half_df\n",
    "\n",
    "# 판매수 변수의 Q1(제1사분위수)값을 반올림하여 정수로 출력\n",
    "round(half_df['판매수'].quantile(0.25))\n"
   ]
  },
  {
   "cell_type": "code",
   "execution_count": 87,
   "metadata": {},
   "outputs": [
    {
     "data": {
      "text/plain": [
       "5"
      ]
     },
     "execution_count": 87,
     "metadata": {},
     "output_type": "execute_result"
    }
   ],
   "source": [
    "# ❌ 문제 10 복습) 판매수 컬럼에 결측치가 있는 행을 제거하고, 첫번째 행부터 순서대로 50%까지의 데이터를 추출하여 판매수 변수의 Q1(제1사분위수)값을 반올림하여 정수로 출력하시오.\n",
    "df = pd.DataFrame( \n",
    "    {\n",
    "        '날짜': ['20220103','20220105', None,'20230127','20220203', '20220205', '20230210','20230223','20230312','20230422', '20220505', '20230511'],\n",
    "        '제품' : ['A','B', None, 'B', 'A', None,'A', 'B', 'A', 'B', 'A', 'A'],\n",
    "        '판매수': [3, None, 5, 10, 10, 10, 15, 15, 20, None, 30, 40],\n",
    "        '개당수익': [300, 400, 500, 600, 400, 500, 500, 600, 600, 700, 600, 600] \n",
    "    }\n",
    ")\n",
    "\n",
    "# ⭐️⭐️⭐️ 판매수 컬럼의 결측치가 있는 행을 제거하고 인덱스 재설정\n",
    "df = df.dropna(subset=['판매수'], axis=0).reset_index(drop=True)\n",
    "df\n",
    "\n",
    "# 첫번째 행부터 순서대로 50%까지의 데이터를 추출\n",
    "int(df.head(int(len(df)/2))['판매수'].quantile(.25))"
   ]
  },
  {
   "cell_type": "code",
   "execution_count": 55,
   "metadata": {},
   "outputs": [
    {
     "data": {
      "text/plain": [
       "7"
      ]
     },
     "execution_count": 55,
     "metadata": {},
     "output_type": "execute_result"
    }
   ],
   "source": [
    "# ⭕️ 문제 11) cyl가 4인 자동차와 6인 자동차 그룹의 mpg 평균값 차이를 절대값으로 반올림하여 정수로 출력하시오.\n",
    "df = pd.read_csv(\"/Users/jinyeonglee/BigData_Certification/Data/mtcars.csv\")\n",
    "df.head()\n",
    "\n",
    "# cyl가 4인 자동차 mpg 평균값\n",
    "cond1 = (df['cyl'] == 4)\n",
    "cyl4_df = df[cond1]\n",
    "cyl4_df\n",
    "cyl4_mean = cyl4_df['mpg'].mean()\n",
    "cyl4_mean\n",
    "\n",
    "# cyl가 6인 자동차 mpg 평균값\n",
    "cond2 = (df['cyl'] == 6)\n",
    "cyl6_df = df[cond2]\n",
    "cyl6_df\n",
    "cyl6_mean = cyl6_df['mpg'].mean()\n",
    "cyl6_mean\n",
    "\n",
    "# 두 평균값의 차이를 절대값으로 반올림해서 정수로 출력\n",
    "round(abs(cyl4_mean - cyl6_mean))"
   ]
  },
  {
   "cell_type": "code",
   "execution_count": 91,
   "metadata": {},
   "outputs": [
    {
     "data": {
      "text/plain": [
       "7"
      ]
     },
     "execution_count": 91,
     "metadata": {},
     "output_type": "execute_result"
    }
   ],
   "source": [
    "# 🔺 문제 11 복습) cyl가 4인 자동차와 6인 자동차 그룹의 mpg 평균값 차이를 절대값으로 반올림하여 정수로 출력하시오.\n",
    "df = pd.read_csv(\"/Users/jinyeonglee/BigData_Certification/Data/mtcars.csv\")\n",
    "df\n",
    "\n",
    "cond4 = (df['cyl'] == 4)\n",
    "cond6 = (df['cyl'] == 6)\n",
    "round(abs(df[cond4]['mpg'].mean() - df[cond6]['mpg'].mean()))"
   ]
  },
  {
   "cell_type": "code",
   "execution_count": 56,
   "metadata": {},
   "outputs": [
    {
     "data": {
      "text/plain": [
       "2"
      ]
     },
     "execution_count": 56,
     "metadata": {},
     "output_type": "execute_result"
    }
   ],
   "source": [
    "# ❌ ⭐️ 문제 12) hp 변수에 대해 데이터표준화(Z-score)를 진행하고 이상치의 수를 구하시오. \n",
    "# (단, 이상치는 Z값이 1.5를 초과하거나 -1.5 미만인 값이다)\n",
    "df = pd.read_csv(\"/Users/jinyeonglee/BigData_Certification/Data/mtcars.csv\")\n",
    "df.head()\n",
    "\n",
    "# 데이터 표준화\n",
    "# z = (data - mean) / std\n",
    "hp_mean = df['hp'].mean()\n",
    "hp_std = df['hp'].std()\n",
    "z = (df['hp'] - hp_mean) / hp_std\n",
    "# z\n",
    "\n",
    "outlier_upper = z > 1.5\n",
    "outlier_lower = z < -1.5\n",
    "\n",
    "len(df[outlier_lower | outlier_upper])"
   ]
  },
  {
   "cell_type": "code",
   "execution_count": 93,
   "metadata": {},
   "outputs": [
    {
     "data": {
      "text/plain": [
       "2"
      ]
     },
     "execution_count": 93,
     "metadata": {},
     "output_type": "execute_result"
    }
   ],
   "source": [
    "# 🔺 ⭐️ 문제 12 복습) hp 변수에 대해 데이터표준화(Z-score)를 진행하고 이상치의 수를 구하시오. \n",
    "# (단, 이상치는 Z값이 1.5를 초과하거나 -1.5 미만인 값이다)\n",
    "df = pd.read_csv(\"/Users/jinyeonglee/BigData_Certification/Data/mtcars.csv\")\n",
    "df.head()\n",
    "\n",
    "znorm = (df['hp'] - df['hp'].mean()) / df['hp'].std()\n",
    "upper = znorm > 1.5\n",
    "lower = znorm < -1.5\n",
    "len(df[upper | lower])"
   ]
  },
  {
   "cell_type": "code",
   "execution_count": 98,
   "metadata": {},
   "outputs": [
    {
     "data": {
      "text/plain": [
       "5"
      ]
     },
     "execution_count": 98,
     "metadata": {},
     "output_type": "execute_result"
    }
   ],
   "source": [
    "# 🔺 문제 13\n",
    "# mpg 컬럼을 최소최대 Scaling을 진행한 후 0.7보다 큰 값을 가지는 레코드 수를 구하라.\n",
    "df = pd.read_csv(\"/Users/jinyeonglee/BigData_Certification/Data/mtcars.csv\")\n",
    "df.head()\n",
    "\n",
    "# ⭐️ min-max scaling : (x-min) / (max - min)\n",
    "mpg_min = df['mpg'].min()\n",
    "mpg_max = df['mpg'].max()\n",
    "\n",
    "minmax_df = (df['mpg'] - mpg_min) / (mpg_max - mpg_min)\n",
    "\n",
    "# 0.7보다 큰 값을 가지는 레코드 수\n",
    "cond1 = (minmax_df > 0.7)\n",
    "len(df[cond1])"
   ]
  },
  {
   "cell_type": "code",
   "execution_count": 105,
   "metadata": {},
   "outputs": [
    {
     "data": {
      "text/plain": [
       "5"
      ]
     },
     "execution_count": 105,
     "metadata": {},
     "output_type": "execute_result"
    }
   ],
   "source": [
    "# 🔺 문제 13 복습)\n",
    "# mpg 컬럼을 최소최대 Scaling을 진행한 후 0.7보다 큰 값을 가지는 레코드 수를 구하라.\n",
    "df = pd.read_csv(\"/Users/jinyeonglee/BigData_Certification/Data/mtcars.csv\")\n",
    "df\n",
    "\n",
    "# scaler 임포트해서 풀기\n",
    "# from sklearn.preprocessing import MinMaxScaler\n",
    "# scaler = MinMaxScaler()\n",
    "# df['mpg'] = scaler.fit_transform(df[['mpg']])\n",
    "\n",
    "# df.head()\n",
    "# len(df[df['mpg'] > 0.7])\n",
    "\n",
    "# 직접 공식 입력해서 풀기\n",
    "df['mpg'] = (df['mpg'] - df['mpg'].min()) / (df['mpg'].max() - df['mpg'].min())\n",
    "len(df[df['mpg'] > 0.7])"
   ]
  },
  {
   "cell_type": "code",
   "execution_count": 58,
   "metadata": {},
   "outputs": [
    {
     "data": {
      "text/plain": [
       "3"
      ]
     },
     "execution_count": 58,
     "metadata": {},
     "output_type": "execute_result"
    },
    {
     "data": {
      "image/png": "[encoded data removed]",
      "text/plain": [
       "<Figure size 640x480 with 1 Axes>"
      ]
     },
     "metadata": {},
     "output_type": "display_data"
    }
   ],
   "source": [
    "# ❌ 문제 14) wt컬럼에 대해 상자그림 기준으로 이상치의 개수를 구하시오.\n",
    "# 이상치 : Q1과 Q3으로부터 1.5*IQR 넘어가는 값\n",
    "\n",
    "# 상자그림을 위한 패키지 임포트\n",
    "import seaborn as sns\n",
    "\n",
    "df = pd.read_csv(\"/Users/jinyeonglee/BigData_Certification/Data/mtcars.csv\")\n",
    "df.head()\n",
    "\n",
    "sns.boxplot(df['wt'])\n",
    "\n",
    "wt_q1 = df['wt'].quantile(0.25)\n",
    "wt_q3 = df['wt'].quantile(.75)\n",
    "wt_iqr = wt_q3 - wt_q1\n",
    "\n",
    "outlier_upper = (df['wt'] > (wt_q3 + 1.5*wt_iqr))\n",
    "outlier_lower = (df['wt'] < (wt_q1 - 1.5*wt_iqr))\n",
    "len(df[outlier_lower | outlier_upper])"
   ]
  },
  {
   "cell_type": "code",
   "execution_count": 108,
   "metadata": {},
   "outputs": [
    {
     "data": {
      "text/plain": [
       "3"
      ]
     },
     "execution_count": 108,
     "metadata": {},
     "output_type": "execute_result"
    }
   ],
   "source": [
    "# ❌ 문제 14 복습) wt컬럼에 대해 상자그림 기준으로 이상치의 개수를 구하시오.\n",
    "df = pd.read_csv(\"/Users/jinyeonglee/BigData_Certification/Data/mtcars.csv\")\n",
    "df.head()\n",
    "\n",
    "q1 = df['wt'].quantile(.25)\n",
    "q3 = df['wt'].quantile(.75)\n",
    "iqr = q3 - q1\n",
    "\n",
    "upcond = (df['wt'] > (q3 + 1.5*iqr))\n",
    "lowcond = (df['wt'] < q1 - 1.5*iqr)\n",
    "len(df[upcond | lowcond])"
   ]
  },
  {
   "cell_type": "code",
   "execution_count": 59,
   "metadata": {},
   "outputs": [
    {
     "data": {
      "text/plain": [
       "2"
      ]
     },
     "execution_count": 59,
     "metadata": {},
     "output_type": "execute_result"
    }
   ],
   "source": [
    "# ⭕️ 문제 15) 판매수 컬럼의 결측치를 최소값으로 대체하고 결측치가 있을 때와 최소값으로 대체했을 때 평균값의 차이를 절대값으로 반올림하여 정수로 출력하시오\n",
    "df = pd.DataFrame( \n",
    "    {\n",
    "        '날짜': ['20220103','20220105', None,'20230127','20220203', '20220205',\n",
    "               '20230210','20230223','20230312','20230422', '20220505', '20230511'],\n",
    "        '제품' : ['A','B', None, 'B', 'A', None,'A', 'B', 'A', 'B', 'A', 'A'],\n",
    "        '판매수': [3, None, 5, 10, 10, 10, 15, 15, 20, None, 30, 40],\n",
    "        '개당수익': [300, 400, 500, 600, 400, 500, 500, 600, 600, 700, 600, 600] \n",
    "    }\n",
    ")\n",
    "\n",
    "# 판매수 컬럼의 최소값\n",
    "min_sales = df['판매수'].min()\n",
    "min_sales\n",
    "\n",
    "# 판매수 컬럼의 결측치를 최소값으로 대체후 평균값 계산\n",
    "df1 = df.copy()\n",
    "df1.head()\n",
    "df1['판매수'].fillna(min_sales, inplace=True)\n",
    "replace_mean = df1['판매수'].mean()\n",
    "replace_mean\n",
    "\n",
    "# 결측치가 있을 때와 대체했을 때 평균값의 차이를 절대값으로 반올림하여 정수로 출력\n",
    "round(abs(df['판매수'].mean() - replace_mean))"
   ]
  },
  {
   "cell_type": "code",
   "execution_count": 111,
   "metadata": {},
   "outputs": [
    {
     "name": "stdout",
     "output_type": "stream",
     "text": [
      "2\n"
     ]
    }
   ],
   "source": [
    "# ⭕️ 문제 15 복습) 판매수 컬럼의 결측치를 최소값으로 대체하고 결측치가 있을 때와 최소값으로 대체했을 때 평균값의 차이를 절대값으로 반올림하여 정수로 출력하시오\n",
    "df = pd.DataFrame( \n",
    "    {\n",
    "        '날짜': ['20220103','20220105', None,'20230127','20220203', '20220205',\n",
    "               '20230210','20230223','20230312','20230422', '20220505', '20230511'],\n",
    "        '제품' : ['A','B', None, 'B', 'A', None,'A', 'B', 'A', 'B', 'A', 'A'],\n",
    "        '판매수': [3, None, 5, 10, 10, 10, 15, 15, 20, None, 30, 40],\n",
    "        '개당수익': [300, 400, 500, 600, 400, 500, 500, 600, 600, 700, 600, 600] \n",
    "    }\n",
    ")\n",
    "df\n",
    "\n",
    "with_na_mean = df['판매수'].mean()\n",
    "df['판매수'] = df['판매수'].fillna(df['판매수'].min())\n",
    "without_na_mean = df['판매수'].mean()\n",
    "print(round(abs(with_na_mean - without_na_mean)))"
   ]
  },
  {
   "cell_type": "code",
   "execution_count": 60,
   "metadata": {},
   "outputs": [
    {
     "data": {
      "text/plain": [
       "65"
      ]
     },
     "execution_count": 60,
     "metadata": {},
     "output_type": "execute_result"
    }
   ],
   "source": [
    "# 🔺 문제 16) vs변수가 0이 아닌 차량 중에 mpg 값이 가장 큰 차량의 hp 값을 출력하시오.\n",
    "df = pd.read_csv(\"/Users/jinyeonglee/BigData_Certification/Data/mtcars.csv\")\n",
    "df.head()\n",
    "\n",
    "# vs변수가 0이 아닌 차량\n",
    "cond1 = (df['vs'] != 0)\n",
    "no_zero_vs = df[cond1]\n",
    "no_zero_vs\n",
    "\n",
    "# mpg 값이 가장 큰 차량\n",
    "cond2 = (no_zero_vs['mpg'] == no_zero_vs['mpg'].max())\n",
    "no_zero_vs[cond2]['hp'].iloc[0]         # iloc 안썼음"
   ]
  },
  {
   "cell_type": "code",
   "execution_count": 61,
   "metadata": {},
   "outputs": [
    {
     "data": {
      "text/plain": [
       "21.8"
      ]
     },
     "execution_count": 61,
     "metadata": {},
     "output_type": "execute_result"
    }
   ],
   "source": [
    "# ⭕️ 문제 17) gear 변수값이 3, 4인 두 그룹의 hp 표준편차값의 차이를 절대값으로 반올림하여 소수점 첫째자리까지 출력하시오.\n",
    "df = pd.read_csv(\"/Users/jinyeonglee/BigData_Certification/Data/mtcars.csv\")\n",
    "df.head()\n",
    "\n",
    "# gear 변수 값이 3인 그룹의 표준편차\n",
    "gear3 = df[df['gear'] == 3]\n",
    "gear3_std = gear3['hp'].std()\n",
    "\n",
    "# gear 변수 값이 4인 그룹\n",
    "gear4 = df[df['gear'] == 4]\n",
    "gear4_std = gear4['hp'].std()\n",
    "\n",
    "# 표준편차값의 차이를 절대값으로 반올림 소수점 첫째자리까지\n",
    "round(abs(gear3_std - gear4_std), 1)"
   ]
  },
  {
   "cell_type": "code",
   "execution_count": 62,
   "metadata": {},
   "outputs": [
    {
     "data": {
      "text/plain": [
       "28.075"
      ]
     },
     "execution_count": 62,
     "metadata": {},
     "output_type": "execute_result"
    }
   ],
   "source": [
    "# ⭕️ 문제 18) gear 변수의 값별로 그룹화하여 mpg평균값을 산출하고 평균값이 높은 그룹의 mpg 제3사분위수 값을 구하시오.\n",
    "df = pd.read_csv(\"/Users/jinyeonglee/BigData_Certification/Data/mtcars.csv\")\n",
    "df.head()\n",
    "\n",
    "df1 = df.iloc[:, 1:]\n",
    "df1\n",
    "grouped_df1 = df1.groupby('gear').mean()\n",
    "\n",
    "# mpg 평균값 계산 결과 gear == 4인 그룹의 mpg 평균이 가장 높음\n",
    "cond1 = (df['gear'] == 4)\n",
    "df[cond1]['mpg'].quantile(.75)"
   ]
  },
  {
   "cell_type": "code",
   "execution_count": 63,
   "metadata": {},
   "outputs": [
    {
     "name": "stdout",
     "output_type": "stream",
     "text": [
      "hp 항목의 상위 7번째 값 :  205\n"
     ]
    },
    {
     "data": {
      "text/plain": [
       "187"
      ]
     },
     "execution_count": 63,
     "metadata": {},
     "output_type": "execute_result"
    }
   ],
   "source": [
    "# ⭕️ 문제 19) hp 항목의 상위 7번째 값으로 상위 7개 값을 변환한 후, hp가 150 이상인 데이터를 추출하여 hp의 평균값을 반올림하여 정수로 출력하시오.\n",
    "df = pd.read_csv(\"/Users/jinyeonglee/BigData_Certification/Data/mtcars.csv\")\n",
    "df.head()\n",
    "\n",
    "# hp 항목의 상위 7번째 값\n",
    "top7hp = df.sort_values('hp', ascending=False)\n",
    "top7hp_value = top7hp['hp'].iloc[6]\n",
    "print(\"hp 항목의 상위 7번째 값 : \", top7hp_value)\n",
    "\n",
    "# hp 항목의 상위 7번째 값으로 상위 7개 값을 변환\n",
    "top7hp.iloc[:6, 4] = top7hp_value\n",
    "top7hp\n",
    "\n",
    "cond1 = (top7hp['hp'] >= 150)\n",
    "round(top7hp[cond1]['hp'].mean())"
   ]
  },
  {
   "cell_type": "code",
   "execution_count": 64,
   "metadata": {},
   "outputs": [
    {
     "data": {
      "text/plain": [
       "19"
      ]
     },
     "execution_count": 64,
     "metadata": {},
     "output_type": "execute_result"
    }
   ],
   "source": [
    "# ❌ 문제 20) car변수에 Merc 문구가 포함된 자동차의 mpg 평균값을 반올림하여 정수로 출력하시오.\n",
    "df = pd.read_csv(\"/Users/jinyeonglee/BigData_Certification/Data/mtcars.csv\")\n",
    "df.head()\n",
    "\n",
    "cond1 = df['car'].str.contains(\"Merc\")\n",
    "round(df[cond1]['mpg'].mean())"
   ]
  },
  {
   "cell_type": "code",
   "execution_count": 65,
   "metadata": {},
   "outputs": [
    {
     "data": {
      "text/plain": [
       "11900"
      ]
     },
     "execution_count": 65,
     "metadata": {},
     "output_type": "execute_result"
    }
   ],
   "source": [
    "# ❌ 문제 21) '22년 1분기 매출액을 구하시오 \n",
    "# (매출액 = 판매수*개당수익)\n",
    "import datetime as dt\n",
    "import pandas as pd\n",
    "df = pd.DataFrame( \n",
    "    {\n",
    "        '날짜': ['20220103','20220105', '20230105','20230127','20220203', '20220205',\n",
    "               '20230210','20230223','20230312','20230422', '20220505', '20230511'],\n",
    "        '제품' : ['A','B', 'A', 'B', 'A', 'B','A', 'B', 'A', 'B', 'A', 'A'],\n",
    "        '판매수': [3, 5, 5, 10, 10, 10, 15, 15, 20, 25, 30, 40],\n",
    "        '개당수익': [300, 400, 500, 600, 400, 500, 500, 600, 600, 700, 600, 600] \n",
    "    }\n",
    ")\n",
    "df\n",
    "df['날짜'] = pd.to_datetime(df['날짜'])\n",
    "df['year'] = df['날짜'].dt.year\n",
    "df['month'] = df['날짜'].dt.month\n",
    "df['day'] = df['날짜'].dt.day\n",
    "\n",
    "# 22년 1분기\n",
    "cond1 = ((df['year'] == 2022) & (df['month'] <= 3))\n",
    "df1 = df[cond1]\n",
    "sales = df1['판매수']\n",
    "profit = df1['개당수익']\n",
    "(sales * profit).sum()"
   ]
  },
  {
   "cell_type": "code",
   "execution_count": 66,
   "metadata": {},
   "outputs": [
    {
     "data": {
      "text/plain": [
       "48600"
      ]
     },
     "execution_count": 66,
     "metadata": {},
     "output_type": "execute_result"
    }
   ],
   "source": [
    "# ⭕️ 문제 22) '22년과 '23년의 총 매출액 차이를 절대값으로 구하시오. \n",
    "# (매출액 = 판매수*개당수익)\n",
    "df = pd.DataFrame( \n",
    "    {\n",
    "        '날짜': ['20220103','20220105', '20230105','20230127','20220203', '20220205',\n",
    "               '20230210','20230223','20230312','20230422', '20220505', '20230511'],\n",
    "        '제품' : ['A','B', 'A', 'B', 'A', 'B','A', 'B', 'A', 'B', 'A', 'A'],\n",
    "        '판매수': [3, 5, 5, 10, 10, 10, 15, 15, 20, 25, 30, 40],\n",
    "        '개당수익': [300, 400, 500, 600, 400, 500, 500, 600, 600, 700, 600, 600] \n",
    "    }\n",
    ")\n",
    "df\n",
    "\n",
    "# 날짜 분리\n",
    "import pandas as pd\n",
    "import datetime as dt\n",
    "df['날짜'] = pd.to_datetime(df['날짜'])\n",
    "df['year'] = df['날짜'].dt.year\n",
    "df['month'] = df['날짜'].dt.month\n",
    "df['day'] = df['날짜'].dt.day\n",
    "\n",
    "# 2022년 매출액\n",
    "cond1 = (df['year'] == 2022)\n",
    "df22 = df[cond1]\n",
    "df22\n",
    "\n",
    "# 2023년 매출액\n",
    "cond2 = (df['year'] == 2023)\n",
    "df23 = df[cond2]\n",
    "df23\n",
    "\n",
    "# 총 매출액 차이\n",
    "abs((df22['판매수'] * df22['개당수익']).sum() - (df23['판매수'] * df23['개당수익']).sum())"
   ]
  },
  {
   "cell_type": "code",
   "execution_count": 67,
   "metadata": {},
   "outputs": [
    {
     "name": "stdout",
     "output_type": "stream",
     "text": [
      "80\n"
     ]
    }
   ],
   "source": [
    "# ❌ 문제 23) '23년 총 매출액이 큰 제품의 23년 판매수를 구하시오. \n",
    "df = pd.DataFrame( \n",
    "    {\n",
    "        '날짜': ['20220103','20220105', '20230105','20230127','20220203', '20220205',\n",
    "               '20230210','20230223','20230312','20230422', '20220505', '20230511'],\n",
    "        '제품' : ['A','B', 'A', 'B', 'A', 'B','A', 'B', 'A', 'B', 'A', 'A'],\n",
    "        '판매수': [3, 5, 5, 10, 10, 10, 15, 15, 20, 25, 30, 40],\n",
    "        '개당수익': [300, 400, 500, 600, 400, 500, 500, 600, 600, 700, 600, 600] \n",
    "    }\n",
    ")\n",
    "df\n",
    "\n",
    "import pandas as pd\n",
    "import numpy as np\n",
    "import datetime as dt\n",
    "df['날짜'] = pd.to_datetime(df['날짜'])\n",
    "df['year'] = df['날짜'].dt.year\n",
    "df['month'] = df['날짜'].dt.month\n",
    "df['day'] = df['날짜'].dt.day\n",
    "df['매출액'] = df['판매수'] * df['개당수익']\n",
    "df\n",
    "\n",
    "# 제품별 총 매출액 계산\n",
    "condA = ((df['제품'] == 'A') & (df['year'] == 2023))\n",
    "condB = ((df['제품'] == 'B') & (df['year'] == 2023))\n",
    "totalA = df[condA]['매출액'].sum()\n",
    "totalB = df[condB]['매출액'].sum()\n",
    "\n",
    "# 23년 총 매출액이 큰 제품의 23년 판매수\n",
    "if totalA > totalB : \n",
    "    print(df[condA]['판매수'].sum())\n",
    "else : \n",
    "    print(df[condB]['판매수'].sum())"
   ]
  },
  {
   "cell_type": "code",
   "execution_count": 68,
   "metadata": {},
   "outputs": [
    {
     "data": {
      "text/plain": [
       "4"
      ]
     },
     "execution_count": 68,
     "metadata": {},
     "output_type": "execute_result"
    }
   ],
   "source": [
    "# ⭕️ 문제 24) 매출액이 4천원 초과, 1만원 미만인 데이터 수를 출력하시오. \n",
    "# (매출액 = 판매수*개당수익)\n",
    "df = pd.DataFrame( \n",
    "    {\n",
    "        '날짜': ['20220103','20220105', '20230105','20230127','20220203', '20220205',\n",
    "               '20230210','20230223','20230312','20230422', '20220505', '20230511'],\n",
    "        '제품' : ['A','B', 'A', 'B', 'A', 'B','A', 'B', 'A', 'B', 'A', 'A'],\n",
    "        '판매수': [3, 5, 5, 10, 10, 10, 15, 15, 20, 25, 30, 40],\n",
    "        '개당수익': [300, 400, 500, 600, 400, 500, 500, 600, 600, 700, 600, 600] \n",
    "    }\n",
    ")\n",
    "df['매출액'] = df['판매수'] * df['개당수익']\n",
    "df\n",
    "\n",
    "cond1 = ((df['매출액'] > 4000) & (df['매출액'] < 10000))\n",
    "len(df[cond1])"
   ]
  },
  {
   "cell_type": "code",
   "execution_count": 69,
   "metadata": {},
   "outputs": [],
   "source": [
    "# # 문제 25) 23년 9월 24일 16:00~22:00 사이에 전체 제품의 판매수를 구하시오.\n",
    "# df = pd.DataFrame( \n",
    "#     {\n",
    "#         '물품' : ['A', 'B', 'A', 'B', 'A', 'B', 'A'], \n",
    "#         '판매수': [5, 10, 15, 15, 20, 25, 40],\n",
    "#         '개당수익': [500, 600, 500, 600, 600, 700, 600] \n",
    "#     }\n",
    "# )\n",
    "# time = pd.date_range('2023-09-24 12:25:00','2023-09-25 14:45:30', periods= 7) \n",
    "# df['time']=time\n",
    "# df = df[ ['time','물품','판매수','개당수익']]\n",
    "# df\n",
    "\n",
    "# import datetime as dt\n",
    "# cond1 = (df['time'].dt.day == 24)\n",
    "# df = df.between_time(start_time='16:00', end_time='22:00')\n",
    "# df"
   ]
  },
  {
   "cell_type": "code",
   "execution_count": 70,
   "metadata": {},
   "outputs": [
    {
     "name": "stdout",
     "output_type": "stream",
     "text": [
      "문제 26 : \n"
     ]
    }
   ],
   "source": [
    "# 문제 26\n",
    "# 9월 25일 00:00~12:00 까지의 B물품의 매출액 총합을 구하시오. \n",
    "# (매출액 = 판매수*개당수익)\n",
    "df = pd.DataFrame( \n",
    "    {\n",
    "        '물품' : ['A', 'B', 'A', 'B', 'A', 'B', 'A'], \n",
    "        '판매수': [5, 10, 15, 15, 20, 25, 40],\n",
    "        '개당수익': [500, 600, 500, 600, 600, 700, 600] \n",
    "    }\n",
    ")\n",
    "df['time'] = pd.date_range('2023-09-24 12:25:00','2023-09-25 14:45:30', periods= 7) \n",
    "df = df[ ['time','물품','판매수','개당수익'] ]\n",
    "df = df.set_index('time', drop=True)\n",
    "df\n",
    "\n",
    "print(\"문제 26 : \", )"
   ]
  },
  {
   "cell_type": "code",
   "execution_count": 71,
   "metadata": {},
   "outputs": [
    {
     "name": "stdout",
     "output_type": "stream",
     "text": [
      "문제 27 : \n"
     ]
    }
   ],
   "source": [
    "# 문제 27\n",
    "# 9월 24일 12:00~24:00 까지의 A물품의 매출액 총합을 구하시오. \n",
    "# (매출액 = 판매수*개당수익)\n",
    "df = pd.DataFrame( \n",
    "    {\n",
    "        '물품' : ['A', 'B', 'A', 'B', 'A', 'B', 'A'], \n",
    "        '판매수': [5, 10, 15, 15, 20, 25, 40],\n",
    "        '개당수익': [500, 600, 500, 600, 600, 700, 600] \n",
    "    } \n",
    ")\n",
    "df['time'] = pd.date_range('2023-09-24 12:25:00','2023-09-25 14:45:30', periods= 7) \n",
    "df = df[ ['time','물품','판매수','개당수익'] ]\n",
    "df = df.set_index('time', drop=True)\n",
    "df\n",
    "print(\"문제 27 : \", )"
   ]
  },
  {
   "cell_type": "markdown",
   "metadata": {},
   "source": [
    "------------------\n",
    "### 🔺 T1-1. 이상치를 찾아라(IQR활용)\n",
    "https://www.kaggle.com/code/agileteam/py-t1-1-iqr-expected-questions                \n",
    "\n",
    "데이터에서 IQR을 활용해 Fare컬럼의 이상치를 찾고, 이상치 데이터의 여성 수를 구하시오.\n",
    "\n",
    "✅ 이상치 범위 : Q1 - 1.5 * IQR 미만, Q3 + 1.5 * IQR 초과"
   ]
  },
  {
   "cell_type": "code",
   "execution_count": 72,
   "metadata": {},
   "outputs": [
    {
     "data": {
      "text/html": [
       "<div>\n",
       "<style scoped>\n",
       "    .dataframe tbody tr th:only-of-type {\n",
       "        vertical-align: middle;\n",
       "    }\n",
       "\n",
       "    .dataframe tbody tr th {\n",
       "        vertical-align: top;\n",
       "    }\n",
       "\n",
       "    .dataframe thead th {\n",
       "        text-align: right;\n",
       "    }\n",
       "</style>\n",
       "<table border=\"1\" class=\"dataframe\">\n",
       "  <thead>\n",
       "    <tr style=\"text-align: right;\">\n",
       "      <th></th>\n",
       "      <th>PassengerId</th>\n",
       "      <th>Survived</th>\n",
       "      <th>Pclass</th>\n",
       "      <th>Name</th>\n",
       "      <th>Gender</th>\n",
       "      <th>Age</th>\n",
       "      <th>SibSp</th>\n",
       "      <th>Parch</th>\n",
       "      <th>Ticket</th>\n",
       "      <th>Fare</th>\n",
       "      <th>Cabin</th>\n",
       "      <th>Embarked</th>\n",
       "    </tr>\n",
       "  </thead>\n",
       "  <tbody>\n",
       "    <tr>\n",
       "      <th>0</th>\n",
       "      <td>1</td>\n",
       "      <td>0</td>\n",
       "      <td>3</td>\n",
       "      <td>Braund, Mr. Owen Harris</td>\n",
       "      <td>male</td>\n",
       "      <td>22.0</td>\n",
       "      <td>1</td>\n",
       "      <td>0</td>\n",
       "      <td>A/5 21171</td>\n",
       "      <td>7.2500</td>\n",
       "      <td>NaN</td>\n",
       "      <td>S</td>\n",
       "    </tr>\n",
       "    <tr>\n",
       "      <th>1</th>\n",
       "      <td>2</td>\n",
       "      <td>1</td>\n",
       "      <td>1</td>\n",
       "      <td>Cumings, Mrs. John Bradley (Florence Briggs Th...</td>\n",
       "      <td>female</td>\n",
       "      <td>38.0</td>\n",
       "      <td>1</td>\n",
       "      <td>0</td>\n",
       "      <td>PC 17599</td>\n",
       "      <td>71.2833</td>\n",
       "      <td>C85</td>\n",
       "      <td>C</td>\n",
       "    </tr>\n",
       "    <tr>\n",
       "      <th>2</th>\n",
       "      <td>3</td>\n",
       "      <td>1</td>\n",
       "      <td>3</td>\n",
       "      <td>Heikkinen, Miss. Laina</td>\n",
       "      <td>female</td>\n",
       "      <td>26.0</td>\n",
       "      <td>0</td>\n",
       "      <td>0</td>\n",
       "      <td>STON/O2. 3101282</td>\n",
       "      <td>7.9250</td>\n",
       "      <td>NaN</td>\n",
       "      <td>S</td>\n",
       "    </tr>\n",
       "    <tr>\n",
       "      <th>3</th>\n",
       "      <td>4</td>\n",
       "      <td>1</td>\n",
       "      <td>1</td>\n",
       "      <td>Futrelle, Mrs. Jacques Heath (Lily May Peel)</td>\n",
       "      <td>female</td>\n",
       "      <td>35.0</td>\n",
       "      <td>1</td>\n",
       "      <td>0</td>\n",
       "      <td>113803</td>\n",
       "      <td>53.1000</td>\n",
       "      <td>C123</td>\n",
       "      <td>S</td>\n",
       "    </tr>\n",
       "    <tr>\n",
       "      <th>4</th>\n",
       "      <td>5</td>\n",
       "      <td>0</td>\n",
       "      <td>3</td>\n",
       "      <td>Allen, Mr. William Henry</td>\n",
       "      <td>male</td>\n",
       "      <td>35.0</td>\n",
       "      <td>0</td>\n",
       "      <td>0</td>\n",
       "      <td>373450</td>\n",
       "      <td>8.0500</td>\n",
       "      <td>NaN</td>\n",
       "      <td>S</td>\n",
       "    </tr>\n",
       "  </tbody>\n",
       "</table>\n",
       "</div>"
      ],
      "text/plain": [
       "   PassengerId  Survived  Pclass  \\\n",
       "0            1         0       3   \n",
       "1            2         1       1   \n",
       "2            3         1       3   \n",
       "3            4         1       1   \n",
       "4            5         0       3   \n",
       "\n",
       "                                                Name  Gender   Age  SibSp  \\\n",
       "0                            Braund, Mr. Owen Harris    male  22.0      1   \n",
       "1  Cumings, Mrs. John Bradley (Florence Briggs Th...  female  38.0      1   \n",
       "2                             Heikkinen, Miss. Laina  female  26.0      0   \n",
       "3       Futrelle, Mrs. Jacques Heath (Lily May Peel)  female  35.0      1   \n",
       "4                           Allen, Mr. William Henry    male  35.0      0   \n",
       "\n",
       "   Parch            Ticket     Fare Cabin Embarked  \n",
       "0      0         A/5 21171   7.2500   NaN        S  \n",
       "1      0          PC 17599  71.2833   C85        C  \n",
       "2      0  STON/O2. 3101282   7.9250   NaN        S  \n",
       "3      0            113803  53.1000  C123        S  \n",
       "4      0            373450   8.0500   NaN        S  "
      ]
     },
     "execution_count": 72,
     "metadata": {},
     "output_type": "execute_result"
    }
   ],
   "source": [
    "import pandas as pd\n",
    "\n",
    "df = pd.read_csv(\"/Users/jinyeonglee/BigData_Certification/Data/Titanic.csv\")\n",
    "df.head()"
   ]
  },
  {
   "cell_type": "code",
   "execution_count": 73,
   "metadata": {},
   "outputs": [
    {
     "name": "stdout",
     "output_type": "stream",
     "text": [
      "<class 'pandas.core.frame.DataFrame'>\n",
      "RangeIndex: 891 entries, 0 to 890\n",
      "Data columns (total 12 columns):\n",
      " #   Column       Non-Null Count  Dtype  \n",
      "---  ------       --------------  -----  \n",
      " 0   PassengerId  891 non-null    int64  \n",
      " 1   Survived     891 non-null    int64  \n",
      " 2   Pclass       891 non-null    int64  \n",
      " 3   Name         891 non-null    object \n",
      " 4   Gender       891 non-null    object \n",
      " 5   Age          714 non-null    float64\n",
      " 6   SibSp        891 non-null    int64  \n",
      " 7   Parch        891 non-null    int64  \n",
      " 8   Ticket       891 non-null    object \n",
      " 9   Fare         891 non-null    float64\n",
      " 10  Cabin        204 non-null    object \n",
      " 11  Embarked     889 non-null    object \n",
      "dtypes: float64(2), int64(5), object(5)\n",
      "memory usage: 83.7+ KB\n"
     ]
    }
   ],
   "source": [
    "df.info()"
   ]
  },
  {
   "cell_type": "code",
   "execution_count": 74,
   "metadata": {},
   "outputs": [
    {
     "data": {
      "text/plain": [
       "70"
      ]
     },
     "execution_count": 74,
     "metadata": {},
     "output_type": "execute_result"
    }
   ],
   "source": [
    "# Fare 컬럼의 IQR 계산\n",
    "fare_q1 = df['Fare'].quantile(.25)\n",
    "fare_q3 = df['Fare'].quantile(.75)\n",
    "fare_iqr = fare_q3 - fare_q1\n",
    "fare_iqr\n",
    "\n",
    "# 이상치 계산을 위한 경계값 계산\n",
    "upper_cond = fare_q3 + 1.5*fare_iqr\n",
    "lower_cond = fare_q1 - 1.5*fare_iqr\n",
    "\n",
    "# fare 컬럼의 이상치 찾기\n",
    "filtered_fare_df = df[(df['Fare'] > upper_cond) | (df['Fare'] < lower_cond)]\n",
    "\n",
    "# 이상치 데이터의 여성 수 계산\n",
    "len(filtered_fare_df[filtered_fare_df['Gender'] == 'female'])"
   ]
  },
  {
   "cell_type": "code",
   "execution_count": null,
   "metadata": {},
   "outputs": [],
   "source": []
  }
 ],
 "metadata": {
  "kernelspec": {
   "display_name": "tensorflow",
   "language": "python",
   "name": "python3"
  },
  "language_info": {
   "codemirror_mode": {
    "name": "ipython",
    "version": 3
   },
   "file_extension": ".py",
   "mimetype": "text/x-python",
   "name": "python",
   "nbconvert_exporter": "python",
   "pygments_lexer": "ipython3",
   "version": "3.10.12"
  }
 },
 "nbformat": 4,
 "nbformat_minor": 2
}
