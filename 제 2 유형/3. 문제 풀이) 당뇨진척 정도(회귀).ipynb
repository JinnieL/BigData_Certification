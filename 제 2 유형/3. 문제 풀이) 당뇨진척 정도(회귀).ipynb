{
 "cells": [
  {
   "cell_type": "markdown",
   "metadata": {},
   "source": [
    "# 제 2유형_연습하기_당뇨진척정도(회귀)\n",
    "\n",
    "✅ 데이터 분석 순서             \n",
    "1. 라이브러리 및 데이터 확인\n",
    "2. 데이터 탐색 (EDA)\n",
    "3. 데이터 전처리 및 분리 (train data → train / validation data)\n",
    "4. 모델링 및 성능 평가\n",
    "5. 예측값 제출"
   ]
  },
  {
   "cell_type": "markdown",
   "metadata": {},
   "source": [
    "### ✅ 1. 라이브러리 및 데이터 확인"
   ]
  },
  {
   "cell_type": "code",
   "execution_count": 1,
   "metadata": {},
   "outputs": [],
   "source": [
    "import pandas as pd \n",
    "import numpy as np"
   ]
  },
  {
   "cell_type": "code",
   "execution_count": 6,
   "metadata": {},
   "outputs": [],
   "source": [
    "############### 실기환경 복사 영역 ############### import pandas as pd\n",
    "import numpy as np\n",
    "# 실기 시험 데이터셋으로 셋팅하기 (수정금지)\n",
    "from sklearn.datasets import load_diabetes\n",
    "# diabetes 데이터셋 로드\n",
    "diabetes = load_diabetes()\n",
    "x = pd.DataFrame(diabetes.data, columns=diabetes.feature_names) \n",
    "y = pd.DataFrame(diabetes.target)\n",
    "\n",
    "# 실기 시험 데이터셋으로 셋팅하기 (수정금지)\n",
    "from sklearn.model_selection import train_test_split\n",
    "x_train, x_test, y_train, y_test = train_test_split(x, y, test_size=0.2, random_state=2023)\n",
    "\n",
    "x_test = pd.DataFrame(x_test.reset_index())\n",
    "x_train = pd.DataFrame(x_train.reset_index())\n",
    "y_train = pd.DataFrame(y_train.reset_index())\n",
    "\n",
    "x_test.rename(columns={'index':'cust_id'}, inplace=True) \n",
    "x_train.rename(columns={'index':'cust_id'}, inplace=True) \n",
    "y_train.columns = ['cust_id', 'target']\n",
    "\n",
    "\n",
    "### 참고사항 ###\n",
    "# y_test 는 실기 문제상에 주어지지 않음\n",
    "# ★Tip : X를 대문자로 쓰지말고 소문자 x로 쓰세요. 시험에서 실수하기 쉽습니다.(문제풀기 전에 소문자로 변경!) \n",
    "# # (참고 : 보통 X는 2차원 배열(행렬)이기 때문에 대문자로 쓰고, y는 1차원 배열(벡터)이기 때문에 소문자로 씀)\n",
    "# (~23년 10월말) 실기시험 데이터 형식 (실제 시험장에서는 다를 수 있으니 반드시 체크) \n",
    "# # X_test = pd.read_csv(\"data/X_test.csv\")\n",
    "# X_train = pd.read_csv(\"data/X_train.csv\")\n",
    "# y_train = pd.read_csv(\"data/y_train.csv\")\n",
    "\n",
    "# ★(23년 10월말~) 기준으로 체험환경에서 제공되는 데이터셋이 조금 변경되었습니다. \n",
    "# train = pd.read_csv(\"data/customer_train.csv\")\n",
    "# test = pd.read_csv(\"data/customer_test.csv\")          # 제출할 때만 쓰는 데이터. 분리하지마!\n",
    "# (x_train과 y_train, x_test를 별도로 할당해주셔야 합니다.)\n",
    "# 주어진 train 데이터만 train / validation 데이터셋으로 분리해서 예측 모델 만들기\n",
    "# pandas 라이브러리이므로 iloc나 loc를 사용하여 컬럼 확인해서 넣기\n",
    "# x_train, x_val, y_train, y_val = (train[:, 타겟데이터 제외한 모든 열], train[:, 타겟데이터 열], test_size=0.2, random_state=2023)"
   ]
  },
  {
   "cell_type": "markdown",
   "metadata": {},
   "source": [
    "당뇨병 환자의 질병 진행 정도를 예측해보자.          \n",
    "- 데이터의 결측치, 이상치, 변수들에 대해 전처리하고         \n",
    "- 회귀모델을 사용하여 Rsq, MSE 값을 산출하시오.         \n",
    "- 제출은 cust_id, target 변수를 가진 dataframe 형태로 제출하시오."
   ]
  },
  {
   "cell_type": "code",
   "execution_count": 7,
   "metadata": {},
   "outputs": [
    {
     "name": "stdout",
     "output_type": "stream",
     "text": [
      ".. _diabetes_dataset:\n",
      "\n",
      "Diabetes dataset\n",
      "----------------\n",
      "\n",
      "Ten baseline variables, age, sex, body mass index, average blood\n",
      "pressure, and six blood serum measurements were obtained for each of n =\n",
      "442 diabetes patients, as well as the response of interest, a\n",
      "quantitative measure of disease progression one year after baseline.\n",
      "\n",
      "**Data Set Characteristics:**\n",
      "\n",
      "  :Number of Instances: 442\n",
      "\n",
      "  :Number of Attributes: First 10 columns are numeric predictive values\n",
      "\n",
      "  :Target: Column 11 is a quantitative measure of disease progression one year after baseline\n",
      "\n",
      "  :Attribute Information:\n",
      "      - age     age in years\n",
      "      - sex\n",
      "      - bmi     body mass index\n",
      "      - bp      average blood pressure\n",
      "      - s1      tc, total serum cholesterol\n",
      "      - s2      ldl, low-density lipoproteins\n",
      "      - s3      hdl, high-density lipoproteins\n",
      "      - s4      tch, total cholesterol / HDL\n",
      "      - s5      ltg, possibly log of serum triglycerides level\n",
      "      - s6      glu, blood sugar level\n",
      "\n",
      "Note: Each of these 10 feature variables have been mean centered and scaled by the standard deviation times the square root of `n_samples` (i.e. the sum of squares of each column totals 1).\n",
      "\n",
      "Source URL:\n",
      "https://www4.stat.ncsu.edu/~boos/var.select/diabetes.html\n",
      "\n",
      "For more information see:\n",
      "Bradley Efron, Trevor Hastie, Iain Johnstone and Robert Tibshirani (2004) \"Least Angle Regression,\" Annals of Statistics (with discussion), 407-499.\n",
      "(https://web.stanford.edu/~hastie/Papers/LARS/LeastAngle_2002.pdf)\n",
      "\n"
     ]
    }
   ],
   "source": [
    "# 데이터 설명\n",
    "print(diabetes.DESCR)\n",
    "\n",
    "# target : 1년이 지난 후 당뇨가 얼마나 진척되었는지 알려주는 지표(수치)"
   ]
  },
  {
   "cell_type": "markdown",
   "metadata": {},
   "source": [
    "### ✅ 2. 데이터 탐색(EDA)"
   ]
  },
  {
   "cell_type": "code",
   "execution_count": 8,
   "metadata": {},
   "outputs": [
    {
     "name": "stdout",
     "output_type": "stream",
     "text": [
      "(353, 11)\n",
      "(89, 11)\n",
      "(353, 2)\n"
     ]
    }
   ],
   "source": [
    "# 데이터의 행 / 열 확인\n",
    "print(x_train.shape)\n",
    "print(x_test.shape)\n",
    "print(y_train.shape)"
   ]
  },
  {
   "cell_type": "code",
   "execution_count": 9,
   "metadata": {},
   "outputs": [
    {
     "name": "stdout",
     "output_type": "stream",
     "text": [
      "   cust_id       age       sex       bmi        bp        s1        s2  \\\n",
      "0        4  0.005383 -0.044642 -0.036385  0.021872  0.003935  0.015596   \n",
      "1      318  0.088931 -0.044642  0.006728  0.025315  0.030078  0.008707   \n",
      "2      301 -0.001882  0.050680 -0.024529  0.052858  0.027326  0.030001   \n",
      "\n",
      "         s3        s4        s5        s6  \n",
      "0  0.008142 -0.002592 -0.031988 -0.046641  \n",
      "1  0.063367 -0.039493  0.009434  0.032059  \n",
      "2  0.030232 -0.002592 -0.021395  0.036201  \n",
      "   cust_id       age       sex       bmi        bp        s1        s2  \\\n",
      "0      280  0.009016  0.050680  0.018584  0.039087  0.017694  0.010586   \n",
      "1      412  0.074401 -0.044642  0.085408  0.063187  0.014942  0.013091   \n",
      "2       68  0.038076  0.050680 -0.029918 -0.040099 -0.033216 -0.024174   \n",
      "\n",
      "         s3        s4        s5        s6  \n",
      "0  0.019187 -0.002592  0.016307 -0.017646  \n",
      "1  0.015505 -0.002592  0.006207  0.085907  \n",
      "2 -0.010266 -0.002592 -0.012909  0.003064  \n",
      "   cust_id  target\n",
      "0        4   135.0\n",
      "1      318   109.0\n",
      "2      301    65.0\n"
     ]
    }
   ],
   "source": [
    "# 초기 데이터 확인\n",
    "print(x_train.head(3))\n",
    "print(x_test.head(3))\n",
    "print(y_train.head(3))"
   ]
  },
  {
   "cell_type": "code",
   "execution_count": 11,
   "metadata": {},
   "outputs": [
    {
     "name": "stdout",
     "output_type": "stream",
     "text": [
      "<class 'pandas.core.frame.DataFrame'>\n",
      "RangeIndex: 353 entries, 0 to 352\n",
      "Data columns (total 11 columns):\n",
      " #   Column   Non-Null Count  Dtype  \n",
      "---  ------   --------------  -----  \n",
      " 0   cust_id  353 non-null    int64  \n",
      " 1   age      353 non-null    float64\n",
      " 2   sex      353 non-null    float64\n",
      " 3   bmi      353 non-null    float64\n",
      " 4   bp       353 non-null    float64\n",
      " 5   s1       353 non-null    float64\n",
      " 6   s2       353 non-null    float64\n",
      " 7   s3       353 non-null    float64\n",
      " 8   s4       353 non-null    float64\n",
      " 9   s5       353 non-null    float64\n",
      " 10  s6       353 non-null    float64\n",
      "dtypes: float64(10), int64(1)\n",
      "memory usage: 30.5 KB\n",
      "None\n",
      "<class 'pandas.core.frame.DataFrame'>\n",
      "RangeIndex: 89 entries, 0 to 88\n",
      "Data columns (total 11 columns):\n",
      " #   Column   Non-Null Count  Dtype  \n",
      "---  ------   --------------  -----  \n",
      " 0   cust_id  89 non-null     int64  \n",
      " 1   age      89 non-null     float64\n",
      " 2   sex      89 non-null     float64\n",
      " 3   bmi      89 non-null     float64\n",
      " 4   bp       89 non-null     float64\n",
      " 5   s1       89 non-null     float64\n",
      " 6   s2       89 non-null     float64\n",
      " 7   s3       89 non-null     float64\n",
      " 8   s4       89 non-null     float64\n",
      " 9   s5       89 non-null     float64\n",
      " 10  s6       89 non-null     float64\n",
      "dtypes: float64(10), int64(1)\n",
      "memory usage: 7.8 KB\n",
      "None\n",
      "<class 'pandas.core.frame.DataFrame'>\n",
      "RangeIndex: 353 entries, 0 to 352\n",
      "Data columns (total 2 columns):\n",
      " #   Column   Non-Null Count  Dtype  \n",
      "---  ------   --------------  -----  \n",
      " 0   cust_id  353 non-null    int64  \n",
      " 1   target   353 non-null    float64\n",
      "dtypes: float64(1), int64(1)\n",
      "memory usage: 5.6 KB\n",
      "None\n"
     ]
    }
   ],
   "source": [
    "# 변수명과 데이터 타입이 매칭이 되는지, 결측치가 있는지 확인\n",
    "# 특히 target data의 경우 target 컬럼만 사용이 되어야 하므로 다른 컬럼이 있는지 잘 확인해봐야 함\n",
    "print(x_train.info())\n",
    "print(x_test.info())\n",
    "print(y_train.info())"
   ]
  },
  {
   "cell_type": "markdown",
   "metadata": {},
   "source": [
    "실제 sex 컬럼의 경우 범주형 데이터이지만 scaling 되어 입력된 듯."
   ]
  },
  {
   "cell_type": "code",
   "execution_count": 12,
   "metadata": {},
   "outputs": [
    {
     "name": "stdout",
     "output_type": "stream",
     "text": [
      "          cust_id         age         sex         bmi          bp          s1  \\\n",
      "count  353.000000  353.000000  353.000000  353.000000  353.000000  353.000000   \n",
      "mean   212.634561    0.000804    0.000724    0.000640   -0.000326    0.001179   \n",
      "std    126.668903    0.047617    0.047673    0.048141    0.046585    0.047891   \n",
      "min      0.000000   -0.107226   -0.044642   -0.084886   -0.112399   -0.126781   \n",
      "25%    105.000000   -0.038207   -0.044642   -0.035307   -0.033213   -0.033216   \n",
      "50%    210.000000    0.005383   -0.044642   -0.006206   -0.005670   -0.002945   \n",
      "75%    322.000000    0.038076    0.050680    0.030440    0.032201    0.027326   \n",
      "max    441.000000    0.110727    0.050680    0.170555    0.125158    0.153914   \n",
      "\n",
      "               s2          s3          s4          s5          s6  \n",
      "count  353.000000  353.000000  353.000000  353.000000  353.000000  \n",
      "mean     0.001110   -0.000452    0.000901    0.001446    0.000589  \n",
      "std      0.048248    0.048600    0.048045    0.047160    0.048122  \n",
      "min     -0.115613   -0.102307   -0.076395   -0.126097   -0.137767  \n",
      "25%     -0.029184   -0.039719   -0.039493   -0.033246   -0.034215  \n",
      "50%     -0.001314   -0.006584   -0.002592    0.000272    0.003064  \n",
      "75%      0.031567    0.030232    0.034309    0.033654    0.032059  \n",
      "max      0.198788    0.181179    0.185234    0.133597    0.135612  \n",
      "          cust_id        age        sex        bmi         bp         s1  \\\n",
      "count   89.000000  89.000000  89.000000  89.000000  89.000000  89.000000   \n",
      "mean   251.696629  -0.003188  -0.002871  -0.002537   0.001292  -0.004676   \n",
      "std    127.901365   0.047761   0.047563   0.045665   0.051777   0.046493   \n",
      "min      9.000000  -0.099961  -0.044642  -0.090275  -0.108956  -0.091006   \n",
      "25%    148.000000  -0.034575  -0.044642  -0.030996  -0.036656  -0.037344   \n",
      "50%    280.000000  -0.001882  -0.044642  -0.009439  -0.005670  -0.009825   \n",
      "75%    366.000000   0.030811   0.050680   0.034751   0.042529   0.031454   \n",
      "max    436.000000   0.096197   0.050680   0.137143   0.132044   0.119515   \n",
      "\n",
      "              s2         s3         s4         s5         s6  \n",
      "count  89.000000  89.000000  89.000000  89.000000  89.000000  \n",
      "mean   -0.004401   0.001792  -0.003575  -0.005737  -0.002334  \n",
      "std     0.045030   0.043723   0.045980   0.049252   0.045757  \n",
      "min    -0.089935  -0.080217  -0.076395  -0.104366  -0.129483  \n",
      "25%    -0.030437  -0.028674  -0.039493  -0.038460  -0.030072  \n",
      "50%    -0.014153  -0.002903  -0.002592  -0.014960  -0.005220  \n",
      "75%     0.020607   0.022869   0.003312   0.024055   0.019633  \n",
      "max     0.130208   0.122273   0.141322   0.133597   0.135612  \n",
      "          cust_id      target\n",
      "count  353.000000  353.000000\n",
      "mean   212.634561  152.943343\n",
      "std    126.668903   75.324692\n",
      "min      0.000000   37.000000\n",
      "25%    105.000000   90.000000\n",
      "50%    210.000000  141.000000\n",
      "75%    322.000000  208.000000\n",
      "max    441.000000  346.000000\n"
     ]
    }
   ],
   "source": [
    "# x_train과 x_test 데이터의 기초통계량 비교 (분포가 비슷한지 꼭 확인!)\n",
    "print(x_train.describe())\n",
    "print(x_test.describe())\n",
    "print(y_train.describe())"
   ]
  },
  {
   "cell_type": "code",
   "execution_count": 16,
   "metadata": {},
   "outputs": [
    {
     "name": "stdout",
     "output_type": "stream",
     "text": [
      "   cust_id  target\n",
      "0        4   135.0\n",
      "1      318   109.0\n",
      "2      301    65.0\n",
      "3      189    79.0\n",
      "4      288    80.0\n",
      "         count        mean         std   min    25%    50%    75%    max\n",
      "cust_id  353.0  212.634561  126.668903   0.0  105.0  210.0  322.0  441.0\n",
      "target   353.0  152.943343   75.324692  37.0   90.0  141.0  208.0  346.0\n"
     ]
    }
   ],
   "source": [
    "# y 데이터도 확인\n",
    "print(y_train.head())\n",
    "print(y_train.describe().T)"
   ]
  },
  {
   "cell_type": "markdown",
   "metadata": {},
   "source": [
    "### ✅ 3. 데이터 전처리 및 분리\n",
    "#### 1) 결측치, 2) 이상치, 3) 변수 처리하기"
   ]
  },
  {
   "cell_type": "code",
   "execution_count": 17,
   "metadata": {},
   "outputs": [
    {
     "name": "stdout",
     "output_type": "stream",
     "text": [
      "cust_id    0\n",
      "age        0\n",
      "sex        0\n",
      "bmi        0\n",
      "bp         0\n",
      "s1         0\n",
      "s2         0\n",
      "s3         0\n",
      "s4         0\n",
      "s5         0\n",
      "s6         0\n",
      "dtype: int64\n",
      "cust_id    0\n",
      "age        0\n",
      "sex        0\n",
      "bmi        0\n",
      "bp         0\n",
      "s1         0\n",
      "s2         0\n",
      "s3         0\n",
      "s4         0\n",
      "s5         0\n",
      "s6         0\n",
      "dtype: int64\n",
      "cust_id    0\n",
      "target     0\n",
      "dtype: int64\n"
     ]
    }
   ],
   "source": [
    "# 결측치 확인\n",
    "print(x_train.isnull().sum())\n",
    "print(x_test.isnull().sum())\n",
    "print(y_train.isnull().sum())"
   ]
  },
  {
   "cell_type": "code",
   "execution_count": null,
   "metadata": {},
   "outputs": [],
   "source": [
    "# 결측치 제거\n",
    "# df = df.dropna()\n",
    "# print(df)\n",
    "\n",
    "# 행 기준 삭제\n",
    "# print(df.dropna().shape)\n",
    "\n",
    "# ★주의사항\n",
    "# x_train의 행을 제거해야 하는 경우, 그에 해당하는 y_train 행도 제거해야 함.\n",
    "# ⭐️ train data 전처리를 완료한 뒤에 train & valid data 분리하기!"
   ]
  },
  {
   "cell_type": "code",
   "execution_count": null,
   "metadata": {},
   "outputs": [],
   "source": [
    "# 결측치 대체 (평균, 중앙값, 최빈값) : 데이터 분포에 따라 어떤 값으로 대체하느냐가 다르긴 하지만 보통 중앙값을 많이 사용. (국단값의 영향을 덜 받음)\n",
    "# 연속형 변수 : 중앙값, 평균\n",
    "    # df['변수명'].median()\n",
    "    # df['변수명'].mean()\n",
    "# 범주형 변수 : 최빈값\n",
    "    # df['변수명'].mode()\n",
    "\n",
    "# 결측치 대체\n",
    "# df['변수명'] = df['변수명'].fillna(대체할 값)\n",
    "\n",
    "# ⭐️ 주의사항 : train 데이터의 중앙값/평균값/최빈값 등으로 test 데이터의 결측치도 변경해줘야 함\n",
    "# → 전처리 완료 후 데이터 결측치 대체까지 하고 데이터 분리하자"
   ]
  },
  {
   "cell_type": "code",
   "execution_count": null,
   "metadata": {},
   "outputs": [],
   "source": [
    "# 이상치 확인 및 대체 : describe()로 확인\n",
    "# df['변수명'] = np.where(df['변수명'] >= 5, 대체할 값, df['변수명'])"
   ]
  },
  {
   "cell_type": "code",
   "execution_count": null,
   "metadata": {},
   "outputs": [],
   "source": []
  },
  {
   "cell_type": "code",
   "execution_count": null,
   "metadata": {},
   "outputs": [],
   "source": []
  },
  {
   "cell_type": "code",
   "execution_count": null,
   "metadata": {},
   "outputs": [],
   "source": []
  },
  {
   "cell_type": "code",
   "execution_count": null,
   "metadata": {},
   "outputs": [],
   "source": []
  },
  {
   "cell_type": "code",
   "execution_count": null,
   "metadata": {},
   "outputs": [],
   "source": []
  },
  {
   "cell_type": "markdown",
   "metadata": {},
   "source": [
    "### ✅ 1. 라이브러리 및 데이터 확인"
   ]
  },
  {
   "cell_type": "markdown",
   "metadata": {},
   "source": [
    "### ✅ 1. 라이브러리 및 데이터 확인"
   ]
  }
 ],
 "metadata": {
  "kernelspec": {
   "display_name": "tensorflow",
   "language": "python",
   "name": "python3"
  },
  "language_info": {
   "codemirror_mode": {
    "name": "ipython",
    "version": 3
   },
   "file_extension": ".py",
   "mimetype": "text/x-python",
   "name": "python",
   "nbconvert_exporter": "python",
   "pygments_lexer": "ipython3",
   "version": "3.10.12"
  }
 },
 "nbformat": 4,
 "nbformat_minor": 2
}
