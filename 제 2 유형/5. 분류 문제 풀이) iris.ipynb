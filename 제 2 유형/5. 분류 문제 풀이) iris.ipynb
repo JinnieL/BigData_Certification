{
 "cells": [
  {
   "cell_type": "markdown",
   "metadata": {},
   "source": [
    "# 제 2유형 연습하기 : iris 종 분류 (이진분류)"
   ]
  },
  {
   "cell_type": "markdown",
   "metadata": {},
   "source": [
    "## ✅ 데이터 분석 순서\n",
    "1. 라이브러리 및 데이터 탐색\n",
    "2. 데이터 탐색 (EDA)\n",
    "3. 데이터 전처리 및 분리\n",
    "4. 모델링 및 성능 평가\n",
    "5. 예측값 제출"
   ]
  },
  {
   "cell_type": "markdown",
   "metadata": {},
   "source": [
    "### ✅ 1. 라이브러리 및 데이터 탐색"
   ]
  },
  {
   "cell_type": "code",
   "execution_count": 54,
   "metadata": {},
   "outputs": [],
   "source": [
    "import pandas as pd\n",
    "import numpy as np"
   ]
  },
  {
   "cell_type": "code",
   "execution_count": 55,
   "metadata": {},
   "outputs": [],
   "source": [
    "############### 실기환경 복사 영역 ############### \n",
    "import pandas as pd\n",
    "import numpy as np\n",
    "# 실기 시험 데이터셋으로 셋팅하기 (수정금지)\n",
    "from sklearn.datasets import load_iris\n",
    "# Iris 데이터셋을 로드\n",
    "iris = load_iris()\n",
    "x = pd.DataFrame(iris.data, columns=['sepal_length', 'sepal_width', 'petal_length', 'petal_width']) \n",
    "y = iris.target # 'setosa'=0, 'versicolor'=1, 'virginica'=2\n",
    "y = np.where(y>0, 1, 0) # setosa 종은 0, 나머지 종은 1로 변경\n",
    "\n",
    "\n",
    "# 실기 시험 데이터셋으로 셋팅하기 (수정금지)\n",
    "from sklearn.model_selection import train_test_split\n",
    "x_train, x_test, y_train, y_test = train_test_split(x, y, test_size=0.2, stratify=y, random_state=2023)\n",
    "\n",
    "x_test = pd.DataFrame(x_test) \n",
    "x_train = pd.DataFrame(x_train) \n",
    "y_train = pd.DataFrame(y_train) \n",
    "y_train.columns = ['species']\n",
    "\n",
    "# 결측치 삽입\n",
    "x_test['sepal_length'].iloc[0] = None \n",
    "x_train['sepal_length'].iloc[0] = None\n",
    "\n",
    "# 이상치 삽입\n",
    "x_train['sepal_width'].iloc[0] = 150 \n",
    "\n",
    "############### 실기환경 복사 영역 ###############\n",
    "### 참고사항 ###\n",
    "# y_test 는 실기 문제상에 주어지지 않음\n",
    "# ★Tip : X를 대문자로 쓰지말고 소문자 x로 쓰세요. 시험에서 실수하기 쉽습니다.(문제풀기 전에 소문자로 변경!) # (참고 : 보통 X는 2차원 배열(행렬)이기 때문에 대문자로 쓰고, y는 1차원 배열(벡터)이기 때문에 소문자로 씀)\n",
    "# (~23년 10월말) 실기시험 데이터 형식 (실제 시험장에서는 다를 수 있으니 반드시 체크) # X_test = pd.read_csv(\"data/X_test.csv\")\n",
    "# X_train = pd.read_csv(\"data/X_train.csv\")\n",
    "# y_train = pd.read_csv(\"data/y_train.csv\")\n",
    "# ★(23년 10월말~) 기준으로 체험환경에서 제공되는 데이터셋이 조금 변경되었습니다. # train = pd.read_csv(\"data/customer_train.csv\")\n",
    "# test = pd.read_csv(\"data/customer_test.csv\")\n",
    "# x_train과 y_train, x_test를 별도로 할당해주셔야 합니다."
   ]
  },
  {
   "cell_type": "markdown",
   "metadata": {},
   "source": [
    "붓꽃의 종(Species)를 분류해보자.                \n",
    "- 데이터의 결측치, 이상치에 대해 처리하고               \n",
    "- 분류 모델을 사용하여 정확도, F1 score, AUC 값을 산출하시오.           \n",
    "- 제출은 result 변수에 담아 양식에 맞게 제출하시오"
   ]
  },
  {
   "cell_type": "code",
   "execution_count": 56,
   "metadata": {},
   "outputs": [
    {
     "name": "stdout",
     "output_type": "stream",
     "text": [
      ".. _iris_dataset:\n",
      "\n",
      "Iris plants dataset\n",
      "--------------------\n",
      "\n",
      "**Data Set Characteristics:**\n",
      "\n",
      "    :Number of Instances: 150 (50 in each of three classes)\n",
      "    :Number of Attributes: 4 numeric, predictive attributes and the class\n",
      "    :Attribute Information:\n",
      "        - sepal length in cm\n",
      "        - sepal width in cm\n",
      "        - petal length in cm\n",
      "        - petal width in cm\n",
      "        - class:\n",
      "                - Iris-Setosa\n",
      "                - Iris-Versicolour\n",
      "                - Iris-Virginica\n",
      "                \n",
      "    :Summary Statistics:\n",
      "\n",
      "    ============== ==== ==== ======= ===== ====================\n",
      "                    Min  Max   Mean    SD   Class Correlation\n",
      "    ============== ==== ==== ======= ===== ====================\n",
      "    sepal length:   4.3  7.9   5.84   0.83    0.7826\n",
      "    sepal width:    2.0  4.4   3.05   0.43   -0.4194\n",
      "    petal length:   1.0  6.9   3.76   1.76    0.9490  (high!)\n",
      "    petal width:    0.1  2.5   1.20   0.76    0.9565  (high!)\n",
      "    ============== ==== ==== ======= ===== ====================\n",
      "\n",
      "    :Missing Attribute Values: None\n",
      "    :Class Distribution: 33.3% for each of 3 classes.\n",
      "    :Creator: R.A. Fisher\n",
      "    :Donor: Michael Marshall (MARSHALL%PLU@io.arc.nasa.gov)\n",
      "    :Date: July, 1988\n",
      "\n",
      "The famous Iris database, first used by Sir R.A. Fisher. The dataset is taken\n",
      "from Fisher's paper. Note that it's the same as in R, but not as in the UCI\n",
      "Machine Learning Repository, which has two wrong data points.\n",
      "\n",
      "This is perhaps the best known database to be found in the\n",
      "pattern recognition literature.  Fisher's paper is a classic in the field and\n",
      "is referenced frequently to this day.  (See Duda & Hart, for example.)  The\n",
      "data set contains 3 classes of 50 instances each, where each class refers to a\n",
      "type of iris plant.  One class is linearly separable from the other 2; the\n",
      "latter are NOT linearly separable from each other.\n",
      "\n",
      "|details-start|\n",
      "**References**\n",
      "|details-split|\n",
      "\n",
      "- Fisher, R.A. \"The use of multiple measurements in taxonomic problems\"\n",
      "  Annual Eugenics, 7, Part II, 179-188 (1936); also in \"Contributions to\n",
      "  Mathematical Statistics\" (John Wiley, NY, 1950).\n",
      "- Duda, R.O., & Hart, P.E. (1973) Pattern Classification and Scene Analysis.\n",
      "  (Q327.D83) John Wiley & Sons.  ISBN 0-471-22361-1.  See page 218.\n",
      "- Dasarathy, B.V. (1980) \"Nosing Around the Neighborhood: A New System\n",
      "  Structure and Classification Rule for Recognition in Partially Exposed\n",
      "  Environments\".  IEEE Transactions on Pattern Analysis and Machine\n",
      "  Intelligence, Vol. PAMI-2, No. 1, 67-71.\n",
      "- Gates, G.W. (1972) \"The Reduced Nearest Neighbor Rule\".  IEEE Transactions\n",
      "  on Information Theory, May 1972, 431-433.\n",
      "- See also: 1988 MLC Proceedings, 54-64.  Cheeseman et al\"s AUTOCLASS II\n",
      "  conceptual clustering system finds 3 classes in the data.\n",
      "- Many, many more ...\n",
      "\n",
      "|details-end|\n"
     ]
    }
   ],
   "source": [
    "# 데이터 설명\n",
    "print(iris.DESCR)"
   ]
  },
  {
   "cell_type": "markdown",
   "metadata": {},
   "source": [
    "### ✅ 2. 데이터 탐색 (EDA)"
   ]
  },
  {
   "cell_type": "code",
   "execution_count": 57,
   "metadata": {},
   "outputs": [
    {
     "name": "stdout",
     "output_type": "stream",
     "text": [
      "(120, 4)\n",
      "(30, 4)\n",
      "(120, 1)\n"
     ]
    }
   ],
   "source": [
    "print(x_train.shape)\n",
    "print(x_test.shape)\n",
    "print(y_train.shape)"
   ]
  },
  {
   "cell_type": "code",
   "execution_count": 58,
   "metadata": {},
   "outputs": [
    {
     "name": "stdout",
     "output_type": "stream",
     "text": [
      "     sepal_length  sepal_width  petal_length  petal_width\n",
      "2             NaN        150.0           1.3          0.2\n",
      "49            5.0          3.3           1.4          0.2\n",
      "66            5.6          3.0           4.5          1.5\n",
      "118           7.7          2.6           6.9          2.3\n",
      "138           6.0          3.0           4.8          1.8\n",
      "     sepal_length  sepal_width  petal_length  petal_width\n",
      "93            NaN          2.3           3.3          1.0\n",
      "69            5.6          2.5           3.9          1.1\n",
      "137           6.4          3.1           5.5          1.8\n",
      "43            5.0          3.5           1.6          0.6\n",
      "60            5.0          2.0           3.5          1.0\n",
      "   species\n",
      "0        0\n",
      "1        0\n",
      "2        1\n",
      "3        1\n",
      "4        1\n"
     ]
    }
   ],
   "source": [
    "# 초기 데이터 확인\n",
    "print(x_train.head())\n",
    "print(x_test.head())\n",
    "print(y_train.head())"
   ]
  },
  {
   "cell_type": "code",
   "execution_count": 59,
   "metadata": {},
   "outputs": [
    {
     "name": "stdout",
     "output_type": "stream",
     "text": [
      "<class 'pandas.core.frame.DataFrame'>\n",
      "Index: 120 entries, 2 to 44\n",
      "Data columns (total 4 columns):\n",
      " #   Column        Non-Null Count  Dtype  \n",
      "---  ------        --------------  -----  \n",
      " 0   sepal_length  119 non-null    float64\n",
      " 1   sepal_width   120 non-null    float64\n",
      " 2   petal_length  120 non-null    float64\n",
      " 3   petal_width   120 non-null    float64\n",
      "dtypes: float64(4)\n",
      "memory usage: 4.7 KB\n",
      "None\n",
      "<class 'pandas.core.frame.DataFrame'>\n",
      "Index: 30 entries, 93 to 55\n",
      "Data columns (total 4 columns):\n",
      " #   Column        Non-Null Count  Dtype  \n",
      "---  ------        --------------  -----  \n",
      " 0   sepal_length  29 non-null     float64\n",
      " 1   sepal_width   30 non-null     float64\n",
      " 2   petal_length  30 non-null     float64\n",
      " 3   petal_width   30 non-null     float64\n",
      "dtypes: float64(4)\n",
      "memory usage: 1.2 KB\n",
      "None\n",
      "<class 'pandas.core.frame.DataFrame'>\n",
      "RangeIndex: 120 entries, 0 to 119\n",
      "Data columns (total 1 columns):\n",
      " #   Column   Non-Null Count  Dtype\n",
      "---  ------   --------------  -----\n",
      " 0   species  120 non-null    int64\n",
      "dtypes: int64(1)\n",
      "memory usage: 1.1 KB\n",
      "None\n"
     ]
    }
   ],
   "source": [
    "# 변수명과 데이터 타입이 매칭이 맞는지, 결측치가 있는지 확인 → info()\n",
    "print(x_train.info())\n",
    "print(x_test.info())\n",
    "print(y_train.info())"
   ]
  },
  {
   "cell_type": "code",
   "execution_count": 60,
   "metadata": {},
   "outputs": [
    {
     "name": "stdout",
     "output_type": "stream",
     "text": [
      "              count      mean        std  min    25%   50%    75%    max\n",
      "sepal_length  119.0  5.920168   0.841667  4.3  5.150  6.00  6.500    7.9\n",
      "sepal_width   120.0  4.295000  13.419100  2.2  2.800  3.00  3.400  150.0\n",
      "petal_length  120.0  3.816667   1.798848  1.1  1.575  4.40  5.225    6.9\n",
      "petal_width   120.0  1.226667   0.780512  0.1  0.300  1.35  1.800    2.5\n",
      "              count      mean       std  min    25%   50%    75%  max\n",
      "sepal_length   29.0  5.596552  0.709367  4.6  5.000  5.50  5.900  7.6\n",
      "sepal_width    30.0  3.000000  0.522593  2.0  2.625  3.00  3.300  4.2\n",
      "petal_length   30.0  3.523333  1.631518  1.0  1.600  4.05  4.925  6.6\n",
      "petal_width    30.0  1.090000  0.685490  0.1  0.350  1.15  1.575  2.3\n",
      "          species\n",
      "count  120.000000\n",
      "mean     0.666667\n",
      "std      0.473381\n",
      "min      0.000000\n",
      "25%      0.000000\n",
      "50%      1.000000\n",
      "75%      1.000000\n",
      "max      1.000000\n"
     ]
    }
   ],
   "source": [
    "# x_train과 x_test의 기초통계량 비교\n",
    "print(x_train.describe().T)\n",
    "print(x_test.describe().T)\n",
    "print(y_train.describe())"
   ]
  },
  {
   "cell_type": "code",
   "execution_count": 61,
   "metadata": {},
   "outputs": [
    {
     "name": "stdout",
     "output_type": "stream",
     "text": [
      "   species\n",
      "0        0\n",
      "1        0\n",
      "2        1\n",
      "3        1\n",
      "4        1\n",
      "species\n",
      "1          80\n",
      "0          40\n",
      "Name: count, dtype: int64\n"
     ]
    }
   ],
   "source": [
    "# y데이터도 확인 (분류모델의 경우엔 value_counts() / 회귀 모델이면 describe())\n",
    "print(y_train.head())\n",
    "print(y_train.value_counts())"
   ]
  },
  {
   "cell_type": "markdown",
   "metadata": {},
   "source": [
    "### ✅ 3. 데이터 전처리 및 분리\n",
    "#### 1) 결측치, 2) 이상치, 3) 변수 처리하기"
   ]
  },
  {
   "cell_type": "code",
   "execution_count": 62,
   "metadata": {},
   "outputs": [
    {
     "name": "stdout",
     "output_type": "stream",
     "text": [
      "sepal_length    1\n",
      "sepal_width     0\n",
      "petal_length    0\n",
      "petal_width     0\n",
      "dtype: int64\n",
      "sepal_length    1\n",
      "sepal_width     0\n",
      "petal_length    0\n",
      "petal_width     0\n",
      "dtype: int64\n",
      "species    0\n",
      "dtype: int64\n"
     ]
    }
   ],
   "source": [
    "# 결측치 확인\n",
    "print(x_train.isnull().sum())\n",
    "print(x_test.isnull().sum())\n",
    "print(y_train.isnull().sum())"
   ]
  },
  {
   "cell_type": "code",
   "execution_count": 63,
   "metadata": {},
   "outputs": [],
   "source": [
    "# 결측치 제거\n",
    "# df = df.dropna()\n",
    "# print(df)"
   ]
  },
  {
   "cell_type": "code",
   "execution_count": 64,
   "metadata": {},
   "outputs": [],
   "source": [
    "# 결측치 대체\n",
    "# 연속형 변수 - 평균, 중앙값\n",
    "# 평균 : df['변수명'].mean()\n",
    "# 중앙값 : df['변수명'].median()\n",
    "\n",
    "# 이산형 변수 : 최빈값\n",
    "# df['변수명'].mode()\n",
    "\n",
    "# 대체하기\n",
    "# df['변수명'] = df['변수명'].fillna(대체할 값)"
   ]
  },
  {
   "cell_type": "markdown",
   "metadata": {},
   "source": [
    "### ※결측치 대체시 주의사항 : train data의 중앙값(혹은 다른 대체할 값)으로 test data도 똑같이 na를 대체해야 함!!\n",
    "모델의 일관성과 일반화를 유지하기 위해서.           \n",
    "- 일관성 유지           \n",
    "    - x_train 데이터셋은 모델이 학습하는 데이터인데, 이 데이터의 통계적 특성(중앙값, 평균 등)을 모델이 학습하는 동안 사용함. 따라서 x_train 데이터셋의 중앙값을 사용하면 모델이 훈련중에 본 데이터의 특성과 일치하게 됨.            \n",
    "    - x_test는 모델을 평가할때 사용하는데 이의 결측치를 x_train의 통계값으로 대체하면 모델이 학습한 특성과 일치하는 방식으로 결측치를 처리하므로 훈련과 테스트 환경을 일관되게 유지함.\n",
    "- 일반화 보장           \n",
    "    - 데이터 누수 방지 : x_test의 중앙값을 사용하게 될 경우 테스트 데이터셋의 정보를 훈련 과정에 사용하게 되어 데이터 누수가 발생할 수 있음. 이는 모델이 실제로 새로운 데이터를 처리할 때 일반화 성능이 떨어질 가능성이 있으므로 x_train의 통계값을 사용하여 미연에 방지함.\n",
    "\n",
    "→ 본 데이터의 특성을 유지하고 데이터의 누수를 방지하며 일반화 성능을 보장하기 위해 train data의 통계값을 test data의 결측치 대체 등에 사용한다.\n",
    "\n",
    "Test data는 unseen data이기 때문에 훈련에 사용하지 않는다!! test data는 나중에 성능 평가 할때\"만\" 사용"
   ]
  },
  {
   "cell_type": "code",
   "execution_count": 65,
   "metadata": {},
   "outputs": [],
   "source": [
    "# 결측치 대체 - 중앙값\n",
    "median = x_train['sepal_length'].median()\n",
    "\n",
    "x_train['sepal_length'] = x_train['sepal_length'].fillna(median)\n",
    "x_test['sepal_length'] = x_test['sepal_length'].fillna(median)"
   ]
  },
  {
   "cell_type": "code",
   "execution_count": 66,
   "metadata": {},
   "outputs": [
    {
     "name": "stdout",
     "output_type": "stream",
     "text": [
      "1\n"
     ]
    }
   ],
   "source": [
    "# 이상치 확인\n",
    "cond1 = (x_train['sepal_width'] >= 10)\n",
    "print(len(x_train[cond1]))"
   ]
  },
  {
   "cell_type": "code",
   "execution_count": 67,
   "metadata": {},
   "outputs": [
    {
     "name": "stdout",
     "output_type": "stream",
     "text": [
      "4.4\n",
      "       sepal_length  sepal_width  petal_length  petal_width\n",
      "count    120.000000   120.000000    120.000000   120.000000\n",
      "mean       5.920833     3.081667      3.816667     1.226667\n",
      "std        0.838155     0.429966      1.798848     0.780512\n",
      "min        4.300000     2.200000      1.100000     0.100000\n",
      "25%        5.175000     2.800000      1.575000     0.300000\n",
      "50%        6.000000     3.000000      4.400000     1.350000\n",
      "75%        6.500000     3.400000      5.225000     1.800000\n",
      "max        7.900000     4.400000      6.900000     2.500000\n"
     ]
    }
   ],
   "source": [
    "# 이상치 대체 : np.where(조건, 조건에 해당시 대체할 값, 조건에 해당하지 않으면 사용할 값)\n",
    "# (참고) df['변수명'] = np.where(df['변수명'] >=5, 대체할 값, df['변수명'])\n",
    "\n",
    "# 예를 들어 'sepal_width' 값이 10이 넘으면 이상치라고 가정할 때 이상치를 제외한 Max 값을 구해서 대체하기.\n",
    "# 내 코드 : x_train['sepal_width'] = np.where(x_train['sepal_width'] >= 10, x_train['sepal_width'].max(), x_train['sepal_width'])\n",
    "# max() 함수의 경우 데이터 내의 모든 값(이상치나 결측치 포함) 중에서 최댓값을 계산하기 때문에 이상치를 제외하는 조건식을 써야 함.\n",
    "\n",
    "# 이상치를 제외하는 조건식\n",
    "cond1 = (x_train['sepal_width'] <= 10)\n",
    "max_sw = x_train[cond1]['sepal_width'].max()            # 4.4\n",
    "print(max_sw)\n",
    "# 이상치를 제외한 max 값으로 이상치 대체하기\n",
    "x_train['sepal_width'] = np.where(x_train['sepal_width'] > 10, max_sw, x_train['sepal_width'])\n",
    "print(x_train.describe())"
   ]
  },
  {
   "cell_type": "code",
   "execution_count": 68,
   "metadata": {},
   "outputs": [],
   "source": [
    "# 변수처리\n",
    "# 불필요한 변수 제거\n",
    "# df = df.drop(columns = ['변수1','변수2']) # df = df.drop(['변수1','변수2'], axis=1)\n",
    "# 필요시 변수 추가(파생변수 생성)\n",
    "# df['파생변수명'] = df['A'] * df['B'] (파생변수 생성 수식)\n",
    "# 원핫인코딩(가변수 처리)\n",
    "# x_train = pd.get_dummies(x_train) \n",
    "# # x_test = pd.get_dummies(x_test)\n",
    "# print(x_train.info())\n",
    "# print(x_test.info())"
   ]
  },
  {
   "cell_type": "markdown",
   "metadata": {},
   "source": [
    "#### 데이터 분리"
   ]
  },
  {
   "cell_type": "code",
   "execution_count": 69,
   "metadata": {},
   "outputs": [
    {
     "name": "stdout",
     "output_type": "stream",
     "text": [
      "(96, 4)\n",
      "(24, 4)\n",
      "(96,)\n",
      "(24,)\n"
     ]
    }
   ],
   "source": [
    "# 데이터를 훈련 세트와 검증 세트로 분할 (훈련 80%, 검증 20%)\n",
    "from sklearn.model_selection import train_test_split\n",
    "x_train, x_val, y_train, y_val = train_test_split(x_train, y_train['species'], test_size=0.2, random_state=2023, stratify=y_train['species'])\n",
    "print(x_train.shape)\n",
    "print(x_val.shape)\n",
    "print(y_train.shape)\n",
    "print(y_val.shape)"
   ]
  },
  {
   "cell_type": "markdown",
   "metadata": {},
   "source": [
    "### ✅ 4. 모델링 및 성능평가"
   ]
  },
  {
   "cell_type": "code",
   "execution_count": 70,
   "metadata": {},
   "outputs": [
    {
     "data": {
      "text/html": [
       "<style>#sk-container-id-2 {color: black;}#sk-container-id-2 pre{padding: 0;}#sk-container-id-2 div.sk-toggleable {background-color: white;}#sk-container-id-2 label.sk-toggleable__label {cursor: pointer;display: block;width: 100%;margin-bottom: 0;padding: 0.3em;box-sizing: border-box;text-align: center;}#sk-container-id-2 label.sk-toggleable__label-arrow:before {content: \"▸\";float: left;margin-right: 0.25em;color: #696969;}#sk-container-id-2 label.sk-toggleable__label-arrow:hover:before {color: black;}#sk-container-id-2 div.sk-estimator:hover label.sk-toggleable__label-arrow:before {color: black;}#sk-container-id-2 div.sk-toggleable__content {max-height: 0;max-width: 0;overflow: hidden;text-align: left;background-color: #f0f8ff;}#sk-container-id-2 div.sk-toggleable__content pre {margin: 0.2em;color: black;border-radius: 0.25em;background-color: #f0f8ff;}#sk-container-id-2 input.sk-toggleable__control:checked~div.sk-toggleable__content {max-height: 200px;max-width: 100%;overflow: auto;}#sk-container-id-2 input.sk-toggleable__control:checked~label.sk-toggleable__label-arrow:before {content: \"▾\";}#sk-container-id-2 div.sk-estimator input.sk-toggleable__control:checked~label.sk-toggleable__label {background-color: #d4ebff;}#sk-container-id-2 div.sk-label input.sk-toggleable__control:checked~label.sk-toggleable__label {background-color: #d4ebff;}#sk-container-id-2 input.sk-hidden--visually {border: 0;clip: rect(1px 1px 1px 1px);clip: rect(1px, 1px, 1px, 1px);height: 1px;margin: -1px;overflow: hidden;padding: 0;position: absolute;width: 1px;}#sk-container-id-2 div.sk-estimator {font-family: monospace;background-color: #f0f8ff;border: 1px dotted black;border-radius: 0.25em;box-sizing: border-box;margin-bottom: 0.5em;}#sk-container-id-2 div.sk-estimator:hover {background-color: #d4ebff;}#sk-container-id-2 div.sk-parallel-item::after {content: \"\";width: 100%;border-bottom: 1px solid gray;flex-grow: 1;}#sk-container-id-2 div.sk-label:hover label.sk-toggleable__label {background-color: #d4ebff;}#sk-container-id-2 div.sk-serial::before {content: \"\";position: absolute;border-left: 1px solid gray;box-sizing: border-box;top: 0;bottom: 0;left: 50%;z-index: 0;}#sk-container-id-2 div.sk-serial {display: flex;flex-direction: column;align-items: center;background-color: white;padding-right: 0.2em;padding-left: 0.2em;position: relative;}#sk-container-id-2 div.sk-item {position: relative;z-index: 1;}#sk-container-id-2 div.sk-parallel {display: flex;align-items: stretch;justify-content: center;background-color: white;position: relative;}#sk-container-id-2 div.sk-item::before, #sk-container-id-2 div.sk-parallel-item::before {content: \"\";position: absolute;border-left: 1px solid gray;box-sizing: border-box;top: 0;bottom: 0;left: 50%;z-index: -1;}#sk-container-id-2 div.sk-parallel-item {display: flex;flex-direction: column;z-index: 1;position: relative;background-color: white;}#sk-container-id-2 div.sk-parallel-item:first-child::after {align-self: flex-end;width: 50%;}#sk-container-id-2 div.sk-parallel-item:last-child::after {align-self: flex-start;width: 50%;}#sk-container-id-2 div.sk-parallel-item:only-child::after {width: 0;}#sk-container-id-2 div.sk-dashed-wrapped {border: 1px dashed gray;margin: 0 0.4em 0.5em 0.4em;box-sizing: border-box;padding-bottom: 0.4em;background-color: white;}#sk-container-id-2 div.sk-label label {font-family: monospace;font-weight: bold;display: inline-block;line-height: 1.2em;}#sk-container-id-2 div.sk-label-container {text-align: center;}#sk-container-id-2 div.sk-container {/* jupyter's `normalize.less` sets `[hidden] { display: none; }` but bootstrap.min.css set `[hidden] { display: none !important; }` so we also need the `!important` here to be able to override the default hidden behavior on the sphinx rendered scikit-learn.org. See: https://github.com/scikit-learn/scikit-learn/issues/21755 */display: inline-block !important;position: relative;}#sk-container-id-2 div.sk-text-repr-fallback {display: none;}</style><div id=\"sk-container-id-2\" class=\"sk-top-container\"><div class=\"sk-text-repr-fallback\"><pre>RandomForestClassifier()</pre><b>In a Jupyter environment, please rerun this cell to show the HTML representation or trust the notebook. <br />On GitHub, the HTML representation is unable to render, please try loading this page with nbviewer.org.</b></div><div class=\"sk-container\" hidden><div class=\"sk-item\"><div class=\"sk-estimator sk-toggleable\"><input class=\"sk-toggleable__control sk-hidden--visually\" id=\"sk-estimator-id-2\" type=\"checkbox\" checked><label for=\"sk-estimator-id-2\" class=\"sk-toggleable__label sk-toggleable__label-arrow\">RandomForestClassifier</label><div class=\"sk-toggleable__content\"><pre>RandomForestClassifier()</pre></div></div></div></div></div>"
      ],
      "text/plain": [
       "RandomForestClassifier()"
      ]
     },
     "execution_count": 70,
     "metadata": {},
     "output_type": "execute_result"
    }
   ],
   "source": [
    "from sklearn.ensemble import RandomForestClassifier\n",
    "model = RandomForestClassifier()\n",
    "model.fit(x_train, y_train)"
   ]
  },
  {
   "cell_type": "code",
   "execution_count": 71,
   "metadata": {},
   "outputs": [],
   "source": [
    "# 검증용 데이터로 예측\n",
    "y_pred = model.predict(x_val)"
   ]
  },
  {
   "cell_type": "code",
   "execution_count": 72,
   "metadata": {},
   "outputs": [],
   "source": [
    "# 성능 검증 : 정확도(accuracy_score), F1score(f1_score), AUC(roc_auc_score) // + recall_score, precision_score\n",
    "from sklearn.metrics import accuracy_score, f1_score, roc_auc_score\n",
    "acc = accuracy_score(y_val, y_pred)\n",
    "f1 = f1_score(y_val, y_pred)\n",
    "# 다중분류일 경우 f1_score(y_true, y_pred, average=’macro’)\n",
    "auc = roc_auc_score(y_val, y_pred)"
   ]
  },
  {
   "cell_type": "code",
   "execution_count": 73,
   "metadata": {},
   "outputs": [
    {
     "name": "stdout",
     "output_type": "stream",
     "text": [
      "1.0\n"
     ]
    }
   ],
   "source": [
    "# 정확도 (Accuracy score)\n",
    "print(acc)"
   ]
  },
  {
   "cell_type": "code",
   "execution_count": 74,
   "metadata": {},
   "outputs": [
    {
     "name": "stdout",
     "output_type": "stream",
     "text": [
      "1.0\n"
     ]
    }
   ],
   "source": [
    "# f1 score\n",
    "print(f1)"
   ]
  },
  {
   "cell_type": "code",
   "execution_count": 75,
   "metadata": {},
   "outputs": [
    {
     "name": "stdout",
     "output_type": "stream",
     "text": [
      "1.0\n"
     ]
    }
   ],
   "source": [
    "# auc\n",
    "print(auc)"
   ]
  },
  {
   "cell_type": "code",
   "execution_count": 76,
   "metadata": {},
   "outputs": [
    {
     "name": "stdout",
     "output_type": "stream",
     "text": [
      "[[ 8  0]\n",
      " [ 0 16]]\n"
     ]
    }
   ],
   "source": [
    "# 참고 : 혼동행렬\n",
    "from sklearn.metrics import confusion_matrix\n",
    "cm = confusion_matrix(y_val, y_pred)\n",
    "print(cm)\n",
    "\n",
    "# ##### 예측\n",
    "# ##### 0  1\n",
    "# 실제 0 TN FP \n",
    "# 실제 1 FN TP"
   ]
  },
  {
   "cell_type": "markdown",
   "metadata": {},
   "source": [
    "### ✅ 5. 예측값 제출\n",
    "#### (주의) x_test를 모델에 넣어 나온 예측값 제출"
   ]
  },
  {
   "cell_type": "code",
   "execution_count": 77,
   "metadata": {},
   "outputs": [
    {
     "name": "stdout",
     "output_type": "stream",
     "text": [
      "[1 1 1 0 1]\n",
      "[[0.   1.  ]\n",
      " [0.   1.  ]\n",
      " [0.   1.  ]\n",
      " [1.   0.  ]\n",
      " [0.03 0.97]]\n",
      "   result  prob_0  prob_1\n",
      "0       1    0.00    1.00\n",
      "1       1    0.00    1.00\n",
      "2       1    0.00    1.00\n",
      "3       0    1.00    0.00\n",
      "4       1    0.03    0.97\n"
     ]
    }
   ],
   "source": [
    "# (실기시험 안내사항)\n",
    "# 아래 코드 예측변수와 수험번호를 개인별로 변경하여 활용\n",
    "# pd.DataFrame({ 'result': y_result }).to_csv('수험번호.csv', index=False)\n",
    "# 모델을 사용하여 테스트 데이터 예측\n",
    "\n",
    "# 1. 특정 클래스로 분류할 경우 : predict\n",
    "y_result = model.predict(x_test)\n",
    "print(y_result[:5])\n",
    "\n",
    "# 2. 특정 클래스로 분류될 확률을 구할 경우 : predict_proba\n",
    "y_result_prob = model.predict_proba(x_test)\n",
    "print(y_result_prob[:5])\n",
    "\n",
    "# 예측 결과 이해해보기\n",
    "result_prob = pd.DataFrame({\n",
    "    'result' : y_result,\n",
    "    'prob_0' : y_result_prob[:, 0],\n",
    "    'prob_1' : y_result_prob[:, 1]\n",
    "})\n",
    "\n",
    "# setosa 일 확률 : y_result_prob[:, 0]\n",
    "# 그 외의 종일 확률 : y_result_prob[:, 1]\n",
    "print(result_prob[:5])"
   ]
  },
  {
   "cell_type": "code",
   "execution_count": null,
   "metadata": {},
   "outputs": [],
   "source": [
    "# ★tip : 데이터를 저장한다음 불러와서 제대로 제출했는지 확인해보자\n",
    "# pd.DataFrame({'result': y_result}).to_csv('수험번호.csv', index=False) # df2 = pd.read_csv(\"수험번호.csv\")\n",
    "# print(df2.head())"
   ]
  }
 ],
 "metadata": {
  "kernelspec": {
   "display_name": "tensorflow",
   "language": "python",
   "name": "python3"
  },
  "language_info": {
   "codemirror_mode": {
    "name": "ipython",
    "version": 3
   },
   "file_extension": ".py",
   "mimetype": "text/x-python",
   "name": "python",
   "nbconvert_exporter": "python",
   "pygments_lexer": "ipython3",
   "version": "3.10.12"
  }
 },
 "nbformat": 4,
 "nbformat_minor": 2
}
