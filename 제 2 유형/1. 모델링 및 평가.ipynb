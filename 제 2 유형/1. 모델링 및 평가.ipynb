{
 "cells": [
  {
   "cell_type": "markdown",
   "metadata": {},
   "source": [
    "# 지도학습, Supervised Learning\n",
    "- 지도 학습 : 종속변수 (y값) 예측  \n",
    "\n",
    "## 쓰이는 분석 방법\n",
    "- 회귀 분석 (Regression): 종속변수가 연속형         \n",
    "- 분류 분석 (Classification) : 종속변수가 이산(범주)형 범수 (이진 or 다중 분류)         "
   ]
  },
  {
   "cell_type": "markdown",
   "metadata": {},
   "source": [
    "## 데이터 분석 순서 \n",
    "1. 원 데이터 -> 데이터 탐색 (EDA, 그래프 그려보거나 기초통계량 등)           \n",
    "2. 전처리(결측치, 이상치, 변수 처리 등)                       \n",
    "3. 전처리 완료 -> output = 독립변수와 종속변수로 구성된 데이터 프레임           \n",
    "4. 데이터 분리 (data split)         \n",
    "    4-1) Train Data (80%)           \n",
    "        4-1-1) Train Data : 모델 학습           \n",
    "        4-1-2) Val Data : hyper parameter 최적화 및 검증            \n",
    "    4-2) Test Data (20%) : 절대 학습에 사용되면 안된다. only 성능 평가용. Traind Model(Test Data의 독립변수만 입력) -> Y값 예측 및 성능 평가(실제 Y(Test Data의 Y)와 Test Data의 X를 넣어 예측된 Y 비교)          \n",
    "5. 분석         \n",
    "    5-1) 회귀 : R², MSE, ...            \n",
    "    5-2) 분류 : 정확도, 민감도(재현율), 특이도, F1 Score            "
   ]
  },
  {
   "cell_type": "markdown",
   "metadata": {},
   "source": [
    "### 최신 문제 현황\n",
    "분류 - 성능 지표 : macro F1 score, Accuracy, AUC,...            \n",
    "회귀 - RMSE,...         "
   ]
  },
  {
   "cell_type": "markdown",
   "metadata": {},
   "source": [
    "### ⭐️ 2 유형의 목표 : 적절한 예측값 (y)를 제출. 성능 평가는 출제 기관에서 진행함.\n",
    "-> train data를 꼭 train / validation set으로 나눠서 성능평가 해보기!\n",
    "\n",
    "#### 실기 시험에서 주어지는 데이터 set\n",
    "- X_test : pd.read_csv(\"data/X_test.csv\")\n",
    "- X_train : pd.read_csv(\"data/X_train.csv\")\n",
    "- y_train : pd.read_csv(\"data/y_train.csv\")"
   ]
  },
  {
   "cell_type": "markdown",
   "metadata": {},
   "source": [
    "### 분류 분석시 주의 사항\n",
    "종속변수(y)를 분리할 때 종속변수의 범주 데이터의 개수가 불균형 할 때가 있으므로 꼭 stratify 옵션을 해야함."
   ]
  },
  {
   "cell_type": "markdown",
   "metadata": {},
   "source": [
    "### 분석 모형 평가_회귀 성능\n",
    "실제값과 예측값의 차이를 계산하는게 핵심 (여러 성능 평가 지표들이 공통으로 가짐)"
   ]
  },
  {
   "cell_type": "markdown",
   "metadata": {},
   "source": [
    "### 분석 모형 평가_분류 성능\n",
    "주로 정확도와 F1 Score를 성능 평가 지표로 많이 씀.          \n",
    "이진 분류(0 or 1)에서 나올 수 있는 경우의 수 4가지로 계산한 값들이 혼동행렬(정확도, 민감도, 특이도, F1 Score)           \n",
    "\n",
    "혼동 행렬\n",
    "예측값이 Positive(1) / Negative(0)에 따라 뒤의 값 (P/N)이 정해지고, 실제 값과 예측값의 맞고 틀림에 따라 T/F가 정해져 TP(O), FN(X), FP(X), TN(O)이 계산된다.\n",
    "- 정확도 : 전체 중 잘 분류한 비율. (TP + TN) / 전체\n",
    "- 민감도 : 실제 Positive 중 잘 분류한 비율 (= 재현율). TP / (TP + FN)\n",
    "- 특이도 : 실제 Negative 중 잘 분류한 비율. TN / (FP + TN)\n",
    "- 정밀도 : 예측 Positive 중 잘 분류한 비율. TP / (TP + FP)\n",
    "- F1 Score = 2 * 정밀도 * 재현율 / (정밀도 + 재현율)\n",
    "\n",
    "ROC Curve\n",
    "- AUC(Area Under the Curve) : ROC 커브의 아래쪽 면적으로 0.5 ~ 1의 값을 가지며 1에 가까울수록 분류의 성능이 좋음."
   ]
  },
  {
   "cell_type": "markdown",
   "metadata": {},
   "source": [
    "## 데이터 전처리\n",
    "\n",
    "### 데이터 탐색 (EDA)\n",
    "1. 행/열 확인 : df.shape\n",
    "2. 초기 데이터 확인 : df.head()\n",
    "3. 데이터 정보 확인 : df.info()\n",
    "    변수명, 데이터 수, 결측치 수, 데이터 타입 등\n",
    "4. 기초 통계량 확인 : df.describe()\n",
    "    - 체험환경에서 모든 열 보기 : pd.options.display.max_columns=None\n",
    "5. 범주형 변수 빈도 : df.value_counts()\n",
    "\n",
    "\n",
    "### 결측치 확인 및 처리\n",
    "1. 결측치 확인 : df.isnull().sum()\n",
    "2. 결측치 삭제 (행 기준) : df.dropna()\n",
    "    - 전체 데이터 수에 비해 결측값이나 이상값 비율이 작다면 삭제.\n",
    "    - 정보 손실이 발생하기 때문에 감안해야함.\n",
    "    - 최대한 삭제보다는 대체하는걸 추천\n",
    "3. 결측치 대체 \n",
    "- 연속형 데이터 : \n",
    "    df['A'].median() : 중위수 대체 (이상치에 민감하지 않기 때문에 보통 중위수로 많이 대체함)\n",
    "    df['A'].mean() : 평균 대체\n",
    "- 범주형 데이터 : \n",
    "    df['A'].mode() : 최빈값으로 대체\n",
    "\n",
    "### 이상값 확인 및 처리\n",
    "1. 이상값 확인 : df.describe()\n",
    "    - train, test 데이터의 데이터 분포 형태를 확인해서 이상치 여부 확인\n",
    "    - 논리적으로 설명할 수 없는 데이터 (보통 min, max 값에서 확인). ex> 중고차 생산 연도 2060년, 나이 -20세, 성별 T 등\n",
    "2. 이상값 처리 (train / test data 둘 다 살펴보기!)\n",
    "    - 연속형 데이터 대체 : 극빈값은 최소값이나 최대값으로 대체\n",
    "    - 범주형 데이터 대체 : 최빈값으로 대체\n",
    "\n",
    "### 분석 변수 처리\n",
    "1. 불필요한 변수 삭제\n",
    "    - df = df.drop(columns=['변수1', '변수2'])\n",
    "    - df = df.drop(['변수1', '변수2'], axis=1)\n",
    "2. 필요시 파생변수 생성\n",
    "3. 원핫 인코딩 : 머신러닝 모델이 문자를 인식할 수 없으므로 문자형 데이터 처리에 씀\n",
    "    - x_train = pd.get_dummies(x_train)\n",
    "    - x_test = pd.get_dummies(x_test)"
   ]
  },
  {
   "cell_type": "markdown",
   "metadata": {},
   "source": [
    "## 모델 선정 : RandomForest\n",
    "- 분류, 회귀 문제에 모두 사용 가능\n",
    "- 모형 자체가 앙상블 모형이라 성능이 좋음\n",
    "- 이상치에 민감하지 않고 분석속도도 적절함.\n",
    "\n",
    "다수의 의사결정 나무를 모은 앙상블 모형.            \n",
    "분류의 경우 다수결의 법칙으로 결과 예측.            \n",
    "회귀의 경우 나온 값들의 평균으로 예측값을 줌"
   ]
  }
 ],
 "metadata": {
  "language_info": {
   "name": "python"
  }
 },
 "nbformat": 4,
 "nbformat_minor": 2
}
