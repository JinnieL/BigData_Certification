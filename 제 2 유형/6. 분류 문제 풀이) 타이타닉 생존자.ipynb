{
 "cells": [
  {
   "cell_type": "markdown",
   "metadata": {},
   "source": [
    "# 제 2유형 연습하기 : 타이타닉 생존자 분류"
   ]
  },
  {
   "cell_type": "markdown",
   "metadata": {},
   "source": [
    "## ✅ 데이터 분석 순서\n",
    "1. 라이브러리 및 데이터 탐색\n",
    "2. 데이터 탐색 (EDA)\n",
    "3. 데이터 전처리 및 분리\n",
    "4. 모델링 및 성능 평가\n",
    "5. 예측값 제출"
   ]
  },
  {
   "cell_type": "markdown",
   "metadata": {},
   "source": [
    "### ✅ 1. 라이브러리 및 데이터 탐색"
   ]
  },
  {
   "cell_type": "code",
   "execution_count": 195,
   "metadata": {},
   "outputs": [],
   "source": [
    "import pandas as pd\n",
    "import numpy as np"
   ]
  },
  {
   "cell_type": "code",
   "execution_count": 196,
   "metadata": {},
   "outputs": [],
   "source": [
    "############### 복사 영역 ############### \n",
    "# # 실기 시험 데이터셋으로 셋팅하기 (수정금지)\n",
    "# Seaborn의 내장 타이타닉 데이터셋을 불러옵니다. \n",
    "import seaborn as sns\n",
    "df = sns.load_dataset('titanic')\n",
    "x = df.drop('survived', axis=1) \n",
    "y = df['survived']\n",
    "# 실기 시험 데이터셋으로 셋팅하기 (수정금지)\n",
    "from sklearn.model_selection import train_test_split\n",
    "x_train, x_test, y_train, y_test = train_test_split(x, y, test_size=0.2, stratify=y, random_state=2023)\n",
    "\n",
    "x_test = pd.DataFrame(x_test)\n",
    "x_train = pd.DataFrame(x_train) \n",
    "y_train = pd.DataFrame(y_train) \n",
    "y_test = pd.DataFrame(y_test) # 평가용\n",
    "x_test.reset_index()\n",
    "y_train.columns = ['target'] \n",
    "y_test.columns = ['target'] \n",
    "############### 복사 영역 ###############\n",
    "### 참고사항 ###\n",
    "# y_test 는 실기 문제상에 주어지지 않음\n",
    "# ★Tip : X를 대문자로 쓰지말고 소문자 x로 쓰세요. 시험에서 실수하기 쉽습니다.(문제풀기 전에 소문자로 변경!) \n",
    "# # (참고 : 보통 X는 2차원 배열(행렬)이기 때문에 대문자로 쓰고, y는 1차원 배열(벡터)이기 때문에 소문자로 씀)\n",
    "# (~23년 10월말) 실기시험 데이터 형식 (실제 시험장에서는 다를 수 있으니 반드시 체크) \n",
    "# # X_test = pd.read_csv(\"data/X_test.csv\")\n",
    "# X_train = pd.read_csv(\"data/X_train.csv\")\n",
    "# y_train = pd.read_csv(\"data/y_train.csv\")\n",
    "# ★(23년 10월말~) 기준으로 체험환경에서 제공되는 데이터셋이 조금 변경되었습니다. \n",
    "# # train = pd.read_csv(\"data/customer_train.csv\")\n",
    "# test = pd.read_csv(\"data/customer_test.csv\")\n",
    "# x_train과 y_train, x_test를 별도로 할당해주셔야 합니다."
   ]
  },
  {
   "cell_type": "markdown",
   "metadata": {},
   "source": [
    "타이타닉 생존자 예측 문제\n",
    "- 데이터의 결측치, 중복 변수값에 대해 처리하고 \n",
    "- 분류모델을 사용하여 Accuracy, F1 score, AUC 값을 산출하시오.\n",
    "\n",
    "데이터 설명\n",
    "> - survival : 0 = No, 1 = Yes\n",
    "> - pclass : 객실 등급 (1, 2, 3)\n",
    "> - sex  : 성별\n",
    "> - age : 나이\n",
    "> - sibsp : 타이타닉호에 탑승한 형제/배우자의 수\n",
    "> - parch : 타이타닉호에 탑승한 부모/자녀의 수\n",
    "> - fare : 요금\n",
    "> - embarked : 탑승지 이름(C, Q, S : Cherbourg / Queenstown / Southampton)\n",
    "> - (중복) class : 객실 등급 (First, Second, Third)\n",
    "> - who : man, woman, child\n",
    "> - adult_male : 성인남자인지 여부(True=성인 남자, False= 그외)\n",
    "> - deck : 선실번호 첫 알파벳(A, B, C, D, E, F, G)\n",
    "> - (중복) embark_town : 탑승지 이름(Cherbourg, Queenstown, Southampton) \n",
    "> - (중복) alive : 생존여부(no:사망, yes:생존)\n",
    "> - alone : 혼자 탑승했는지 여부(True=혼자, False=가족과 함께)"
   ]
  },
  {
   "cell_type": "markdown",
   "metadata": {},
   "source": [
    "### ✅ 2. 데이터 탐색 (EDA)"
   ]
  },
  {
   "cell_type": "code",
   "execution_count": 197,
   "metadata": {},
   "outputs": [
    {
     "name": "stdout",
     "output_type": "stream",
     "text": [
      "(712, 14)\n",
      "(179, 14)\n",
      "(712, 1)\n"
     ]
    }
   ],
   "source": [
    "print(x_train.shape)\n",
    "print(x_test.shape)\n",
    "print(y_train.shape)"
   ]
  },
  {
   "cell_type": "code",
   "execution_count": 198,
   "metadata": {},
   "outputs": [
    {
     "name": "stdout",
     "output_type": "stream",
     "text": [
      "     pclass     sex   age  sibsp  parch   fare embarked   class    who  \\\n",
      "3         1  female  35.0      1      0  53.10        S   First  woman   \n",
      "517       3    male   NaN      0      0  24.15        Q   Third    man   \n",
      "861       2    male  21.0      1      0  11.50        S  Second    man   \n",
      "487       1    male  58.0      0      0  29.70        C   First    man   \n",
      "58        2  female   5.0      1      2  27.75        S  Second  child   \n",
      "\n",
      "     adult_male deck  embark_town alive  alone  \n",
      "3         False    C  Southampton   yes  False  \n",
      "517        True  NaN   Queenstown    no   True  \n",
      "861        True  NaN  Southampton    no  False  \n",
      "487        True    B    Cherbourg    no   True  \n",
      "58        False  NaN  Southampton   yes  False  \n",
      "     pclass     sex   age  sibsp  parch      fare embarked   class    who  \\\n",
      "800       2    male  34.0      0      0   13.0000        S  Second    man   \n",
      "341       1  female  24.0      3      2  263.0000        S   First  woman   \n",
      "413       2    male   NaN      0      0    0.0000        S  Second    man   \n",
      "575       3    male  19.0      0      0   14.5000        S   Third    man   \n",
      "202       3    male  34.0      0      0    6.4958        S   Third    man   \n",
      "\n",
      "     adult_male deck  embark_town alive  alone  \n",
      "800        True  NaN  Southampton    no   True  \n",
      "341       False    C  Southampton   yes  False  \n",
      "413        True  NaN  Southampton    no   True  \n",
      "575        True  NaN  Southampton    no   True  \n",
      "202        True  NaN  Southampton    no   True  \n",
      "     target\n",
      "3         1\n",
      "517       0\n",
      "861       0\n",
      "487       0\n",
      "58        1\n"
     ]
    }
   ],
   "source": [
    "print(x_train.head())\n",
    "print(x_test.head())\n",
    "print(y_train.head())"
   ]
  },
  {
   "cell_type": "code",
   "execution_count": 199,
   "metadata": {},
   "outputs": [
    {
     "name": "stdout",
     "output_type": "stream",
     "text": [
      "<class 'pandas.core.frame.DataFrame'>\n",
      "Index: 712 entries, 3 to 608\n",
      "Data columns (total 14 columns):\n",
      " #   Column       Non-Null Count  Dtype   \n",
      "---  ------       --------------  -----   \n",
      " 0   pclass       712 non-null    int64   \n",
      " 1   sex          712 non-null    object  \n",
      " 2   age          579 non-null    float64 \n",
      " 3   sibsp        712 non-null    int64   \n",
      " 4   parch        712 non-null    int64   \n",
      " 5   fare         712 non-null    float64 \n",
      " 6   embarked     710 non-null    object  \n",
      " 7   class        712 non-null    category\n",
      " 8   who          712 non-null    object  \n",
      " 9   adult_male   712 non-null    bool    \n",
      " 10  deck         164 non-null    category\n",
      " 11  embark_town  710 non-null    object  \n",
      " 12  alive        712 non-null    object  \n",
      " 13  alone        712 non-null    bool    \n",
      "dtypes: bool(2), category(2), float64(2), int64(3), object(5)\n",
      "memory usage: 64.4+ KB\n",
      "None\n",
      "<class 'pandas.core.frame.DataFrame'>\n",
      "Index: 179 entries, 800 to 410\n",
      "Data columns (total 14 columns):\n",
      " #   Column       Non-Null Count  Dtype   \n",
      "---  ------       --------------  -----   \n",
      " 0   pclass       179 non-null    int64   \n",
      " 1   sex          179 non-null    object  \n",
      " 2   age          135 non-null    float64 \n",
      " 3   sibsp        179 non-null    int64   \n",
      " 4   parch        179 non-null    int64   \n",
      " 5   fare         179 non-null    float64 \n",
      " 6   embarked     179 non-null    object  \n",
      " 7   class        179 non-null    category\n",
      " 8   who          179 non-null    object  \n",
      " 9   adult_male   179 non-null    bool    \n",
      " 10  deck         39 non-null     category\n",
      " 11  embark_town  179 non-null    object  \n",
      " 12  alive        179 non-null    object  \n",
      " 13  alone        179 non-null    bool    \n",
      "dtypes: bool(2), category(2), float64(2), int64(3), object(5)\n",
      "memory usage: 16.6+ KB\n",
      "None\n",
      "<class 'pandas.core.frame.DataFrame'>\n",
      "Index: 712 entries, 3 to 608\n",
      "Data columns (total 1 columns):\n",
      " #   Column  Non-Null Count  Dtype\n",
      "---  ------  --------------  -----\n",
      " 0   target  712 non-null    int64\n",
      "dtypes: int64(1)\n",
      "memory usage: 11.1 KB\n",
      "None\n"
     ]
    }
   ],
   "source": [
    "print(x_train.info())\n",
    "print(x_test.info())\n",
    "print(y_train.info())"
   ]
  },
  {
   "cell_type": "code",
   "execution_count": 200,
   "metadata": {},
   "outputs": [
    {
     "name": "stdout",
     "output_type": "stream",
     "text": [
      "        count       mean        std   min      25%      50%     75%       max\n",
      "pclass  712.0   2.307584   0.834926  1.00   2.0000   3.0000   3.000    3.0000\n",
      "age     579.0  29.479568  14.355304  0.42  20.0000  28.0000  38.000   74.0000\n",
      "sibsp   712.0   0.518258   1.094522  0.00   0.0000   0.0000   1.000    8.0000\n",
      "parch   712.0   0.372191   0.792341  0.00   0.0000   0.0000   0.000    6.0000\n",
      "fare    712.0  31.741836  45.403910  0.00   7.8958  14.4542  31.275  512.3292\n",
      "        count       mean        std  min     25%   50%      75%       max\n",
      "pclass  179.0   2.312849   0.842950  1.0   2.000   3.0   3.0000    3.0000\n",
      "age     135.0  30.640741  15.258427  1.0  22.000  29.0  39.0000   80.0000\n",
      "sibsp   179.0   0.541899   1.137797  0.0   0.000   0.0   1.0000    8.0000\n",
      "parch   179.0   0.418994   0.859760  0.0   0.000   0.0   0.0000    5.0000\n",
      "fare    179.0  34.043364  64.097184  0.0   7.925  14.5  30.2854  512.3292\n"
     ]
    }
   ],
   "source": [
    "# train, test 데이터의 기초통계량 비교 \n",
    "print(x_train.describe().T)\n",
    "print(x_test.describe().T)"
   ]
  },
  {
   "cell_type": "code",
   "execution_count": 201,
   "metadata": {},
   "outputs": [
    {
     "name": "stdout",
     "output_type": "stream",
     "text": [
      "         sex embarked  who  embark_town alive\n",
      "count    712      710  712          710   712\n",
      "unique     2        3    3            3     2\n",
      "top     male        S  man  Southampton    no\n",
      "freq     469      518  432          518   439\n",
      "         sex embarked  who  embark_town alive\n",
      "count    179      179  179          179   179\n",
      "unique     2        3    3            3     2\n",
      "top     male        S  man  Southampton    no\n",
      "freq     108      126  105          126   110\n",
      "        class deck\n",
      "count     712  164\n",
      "unique      3    7\n",
      "top     Third    C\n",
      "freq      391   47\n",
      "        class deck\n",
      "count     179   39\n",
      "unique      3    7\n",
      "top     Third    C\n",
      "freq      100   12\n"
     ]
    }
   ],
   "source": [
    "# object, category 데이터도 추가 확인\n",
    "print(x_train.describe(include='object'))\n",
    "print(x_test.describe(include='object'))\n",
    "\n",
    "print(x_train.describe(include='category'))\n",
    "print(x_test.describe(include='category'))"
   ]
  },
  {
   "cell_type": "code",
   "execution_count": 202,
   "metadata": {},
   "outputs": [
    {
     "data": {
      "text/html": [
       "<div>\n",
       "<style scoped>\n",
       "    .dataframe tbody tr th:only-of-type {\n",
       "        vertical-align: middle;\n",
       "    }\n",
       "\n",
       "    .dataframe tbody tr th {\n",
       "        vertical-align: top;\n",
       "    }\n",
       "\n",
       "    .dataframe thead th {\n",
       "        text-align: right;\n",
       "    }\n",
       "</style>\n",
       "<table border=\"1\" class=\"dataframe\">\n",
       "  <thead>\n",
       "    <tr style=\"text-align: right;\">\n",
       "      <th></th>\n",
       "      <th>target</th>\n",
       "    </tr>\n",
       "  </thead>\n",
       "  <tbody>\n",
       "    <tr>\n",
       "      <th>3</th>\n",
       "      <td>1</td>\n",
       "    </tr>\n",
       "    <tr>\n",
       "      <th>517</th>\n",
       "      <td>0</td>\n",
       "    </tr>\n",
       "    <tr>\n",
       "      <th>861</th>\n",
       "      <td>0</td>\n",
       "    </tr>\n",
       "    <tr>\n",
       "      <th>487</th>\n",
       "      <td>0</td>\n",
       "    </tr>\n",
       "    <tr>\n",
       "      <th>58</th>\n",
       "      <td>1</td>\n",
       "    </tr>\n",
       "  </tbody>\n",
       "</table>\n",
       "</div>"
      ],
      "text/plain": [
       "     target\n",
       "3         1\n",
       "517       0\n",
       "861       0\n",
       "487       0\n",
       "58        1"
      ]
     },
     "execution_count": 202,
     "metadata": {},
     "output_type": "execute_result"
    }
   ],
   "source": [
    "# target 데이터도 상세 확인\n",
    "y_train.head()"
   ]
  },
  {
   "cell_type": "code",
   "execution_count": 203,
   "metadata": {},
   "outputs": [
    {
     "data": {
      "text/html": [
       "<div>\n",
       "<style scoped>\n",
       "    .dataframe tbody tr th:only-of-type {\n",
       "        vertical-align: middle;\n",
       "    }\n",
       "\n",
       "    .dataframe tbody tr th {\n",
       "        vertical-align: top;\n",
       "    }\n",
       "\n",
       "    .dataframe thead th {\n",
       "        text-align: right;\n",
       "    }\n",
       "</style>\n",
       "<table border=\"1\" class=\"dataframe\">\n",
       "  <thead>\n",
       "    <tr style=\"text-align: right;\">\n",
       "      <th></th>\n",
       "      <th>target</th>\n",
       "    </tr>\n",
       "  </thead>\n",
       "  <tbody>\n",
       "    <tr>\n",
       "      <th>count</th>\n",
       "      <td>712.000000</td>\n",
       "    </tr>\n",
       "    <tr>\n",
       "      <th>mean</th>\n",
       "      <td>0.383427</td>\n",
       "    </tr>\n",
       "    <tr>\n",
       "      <th>std</th>\n",
       "      <td>0.486563</td>\n",
       "    </tr>\n",
       "    <tr>\n",
       "      <th>min</th>\n",
       "      <td>0.000000</td>\n",
       "    </tr>\n",
       "    <tr>\n",
       "      <th>25%</th>\n",
       "      <td>0.000000</td>\n",
       "    </tr>\n",
       "    <tr>\n",
       "      <th>50%</th>\n",
       "      <td>0.000000</td>\n",
       "    </tr>\n",
       "    <tr>\n",
       "      <th>75%</th>\n",
       "      <td>1.000000</td>\n",
       "    </tr>\n",
       "    <tr>\n",
       "      <th>max</th>\n",
       "      <td>1.000000</td>\n",
       "    </tr>\n",
       "  </tbody>\n",
       "</table>\n",
       "</div>"
      ],
      "text/plain": [
       "           target\n",
       "count  712.000000\n",
       "mean     0.383427\n",
       "std      0.486563\n",
       "min      0.000000\n",
       "25%      0.000000\n",
       "50%      0.000000\n",
       "75%      1.000000\n",
       "max      1.000000"
      ]
     },
     "execution_count": 203,
     "metadata": {},
     "output_type": "execute_result"
    }
   ],
   "source": [
    "y_train.describe()"
   ]
  },
  {
   "cell_type": "code",
   "execution_count": 204,
   "metadata": {},
   "outputs": [
    {
     "name": "stdout",
     "output_type": "stream",
     "text": [
      "target\n",
      "0         439\n",
      "1         273\n",
      "Name: count, dtype: int64\n"
     ]
    }
   ],
   "source": [
    "print(y_train.value_counts())"
   ]
  },
  {
   "cell_type": "markdown",
   "metadata": {},
   "source": [
    "### ✅ 3. 데이터 전처리 및 분리\n",
    "#### 1) 결측치, 2) 이상치, 3) 변수 처리하기"
   ]
  },
  {
   "cell_type": "code",
   "execution_count": 205,
   "metadata": {},
   "outputs": [
    {
     "name": "stdout",
     "output_type": "stream",
     "text": [
      "pclass           0\n",
      "sex              0\n",
      "age            133\n",
      "sibsp            0\n",
      "parch            0\n",
      "fare             0\n",
      "embarked         2\n",
      "class            0\n",
      "who              0\n",
      "adult_male       0\n",
      "deck           548\n",
      "embark_town      2\n",
      "alive            0\n",
      "alone            0\n",
      "dtype: int64\n",
      "pclass           0\n",
      "sex              0\n",
      "age             44\n",
      "sibsp            0\n",
      "parch            0\n",
      "fare             0\n",
      "embarked         0\n",
      "class            0\n",
      "who              0\n",
      "adult_male       0\n",
      "deck           140\n",
      "embark_town      0\n",
      "alive            0\n",
      "alone            0\n",
      "dtype: int64\n",
      "target    0\n",
      "dtype: int64\n"
     ]
    }
   ],
   "source": [
    "# 결측치 확인 : isnull().sum()\n",
    "print(x_train.isnull().sum())\n",
    "print(x_test.isnull().sum())\n",
    "print(y_train.isnull().sum())"
   ]
  },
  {
   "cell_type": "code",
   "execution_count": 206,
   "metadata": {},
   "outputs": [],
   "source": [
    "# 결측치 제거\n",
    "# df = df.dropna()\n",
    "# print(df)"
   ]
  },
  {
   "cell_type": "code",
   "execution_count": 207,
   "metadata": {},
   "outputs": [],
   "source": [
    "# 결측치 대체\n",
    "# x_train(712, 14) : age(133), embarked(2), deck(548)\n",
    "# x_test(179, 14) : age(44), deck(140)\n",
    "\n",
    "# 변수 제거\n",
    "# (중복) class\n",
    "# (중복) embark_town\n",
    "# (중복) alive\n",
    "# (결측치 다수) deck"
   ]
  },
  {
   "cell_type": "markdown",
   "metadata": {},
   "source": [
    "변수를 제거하고 결측치를 대체할지, 결측치를 대체하고 변수를 제거할 지는 내 선택..?"
   ]
  },
  {
   "cell_type": "code",
   "execution_count": 208,
   "metadata": {},
   "outputs": [],
   "source": [
    "# 중복 변수 제거\n",
    "x_train = x_train.drop(columns=['class', 'embark_town', 'alive', 'deck'])\n",
    "x_test = x_test.drop(['class', 'embark_town', 'alive', 'deck'], axis=1)"
   ]
  },
  {
   "cell_type": "code",
   "execution_count": 209,
   "metadata": {},
   "outputs": [
    {
     "name": "stdout",
     "output_type": "stream",
     "text": [
      "<class 'pandas.core.frame.DataFrame'>\n",
      "Index: 712 entries, 3 to 608\n",
      "Data columns (total 10 columns):\n",
      " #   Column      Non-Null Count  Dtype  \n",
      "---  ------      --------------  -----  \n",
      " 0   pclass      712 non-null    int64  \n",
      " 1   sex         712 non-null    object \n",
      " 2   age         579 non-null    float64\n",
      " 3   sibsp       712 non-null    int64  \n",
      " 4   parch       712 non-null    int64  \n",
      " 5   fare        712 non-null    float64\n",
      " 6   embarked    710 non-null    object \n",
      " 7   who         712 non-null    object \n",
      " 8   adult_male  712 non-null    bool   \n",
      " 9   alone       712 non-null    bool   \n",
      "dtypes: bool(2), float64(2), int64(3), object(3)\n",
      "memory usage: 51.5+ KB\n",
      "None\n",
      "<class 'pandas.core.frame.DataFrame'>\n",
      "Index: 179 entries, 800 to 410\n",
      "Data columns (total 10 columns):\n",
      " #   Column      Non-Null Count  Dtype  \n",
      "---  ------      --------------  -----  \n",
      " 0   pclass      179 non-null    int64  \n",
      " 1   sex         179 non-null    object \n",
      " 2   age         135 non-null    float64\n",
      " 3   sibsp       179 non-null    int64  \n",
      " 4   parch       179 non-null    int64  \n",
      " 5   fare        179 non-null    float64\n",
      " 6   embarked    179 non-null    object \n",
      " 7   who         179 non-null    object \n",
      " 8   adult_male  179 non-null    bool   \n",
      " 9   alone       179 non-null    bool   \n",
      "dtypes: bool(2), float64(2), int64(3), object(3)\n",
      "memory usage: 12.9+ KB\n",
      "None\n"
     ]
    }
   ],
   "source": [
    "# 변수 제거 확인\n",
    "print(x_train.info())\n",
    "print(x_test.info())"
   ]
  },
  {
   "cell_type": "code",
   "execution_count": 210,
   "metadata": {},
   "outputs": [],
   "source": [
    "# 결측치 대체\n",
    "# x_train(712, 14) : age(133), embarked(2)\n",
    "# x_test(179, 14) : age(44)\n",
    "\n",
    "# age 변수\n",
    "median_age = x_train['age'].median()\n",
    "x_train['age'] = x_train['age'].fillna(median_age)\n",
    "x_test['age'] = x_test['age'].fillna(median_age)\n",
    "\n",
    "# embarked 변수\n",
    "mode_embarked = x_train['embarked'].mode()\n",
    "x_train['embarked'] = x_train['embarked'].fillna(mode_embarked[0])"
   ]
  },
  {
   "cell_type": "code",
   "execution_count": 211,
   "metadata": {},
   "outputs": [
    {
     "name": "stdout",
     "output_type": "stream",
     "text": [
      "pclass        0\n",
      "sex           0\n",
      "age           0\n",
      "sibsp         0\n",
      "parch         0\n",
      "fare          0\n",
      "embarked      0\n",
      "who           0\n",
      "adult_male    0\n",
      "alone         0\n",
      "dtype: int64\n",
      "pclass        0\n",
      "sex           0\n",
      "age           0\n",
      "sibsp         0\n",
      "parch         0\n",
      "fare          0\n",
      "embarked      0\n",
      "who           0\n",
      "adult_male    0\n",
      "alone         0\n",
      "dtype: int64\n"
     ]
    }
   ],
   "source": [
    "# 결측치 대체 여부 확인\n",
    "print(x_train.isnull().sum())\n",
    "print(x_test.isnull().sum())"
   ]
  },
  {
   "cell_type": "code",
   "execution_count": 212,
   "metadata": {},
   "outputs": [
    {
     "name": "stdout",
     "output_type": "stream",
     "text": [
      "<class 'pandas.core.frame.DataFrame'>\n",
      "Index: 712 entries, 3 to 608\n",
      "Data columns (total 15 columns):\n",
      " #   Column      Non-Null Count  Dtype  \n",
      "---  ------      --------------  -----  \n",
      " 0   pclass      712 non-null    int64  \n",
      " 1   age         712 non-null    float64\n",
      " 2   sibsp       712 non-null    int64  \n",
      " 3   parch       712 non-null    int64  \n",
      " 4   fare        712 non-null    float64\n",
      " 5   adult_male  712 non-null    bool   \n",
      " 6   alone       712 non-null    bool   \n",
      " 7   sex_female  712 non-null    bool   \n",
      " 8   sex_male    712 non-null    bool   \n",
      " 9   embarked_C  712 non-null    bool   \n",
      " 10  embarked_Q  712 non-null    bool   \n",
      " 11  embarked_S  712 non-null    bool   \n",
      " 12  who_child   712 non-null    bool   \n",
      " 13  who_man     712 non-null    bool   \n",
      " 14  who_woman   712 non-null    bool   \n",
      "dtypes: bool(10), float64(2), int64(3)\n",
      "memory usage: 40.3 KB\n",
      "None\n",
      "<class 'pandas.core.frame.DataFrame'>\n",
      "Index: 179 entries, 800 to 410\n",
      "Data columns (total 15 columns):\n",
      " #   Column      Non-Null Count  Dtype  \n",
      "---  ------      --------------  -----  \n",
      " 0   pclass      179 non-null    int64  \n",
      " 1   age         179 non-null    float64\n",
      " 2   sibsp       179 non-null    int64  \n",
      " 3   parch       179 non-null    int64  \n",
      " 4   fare        179 non-null    float64\n",
      " 5   adult_male  179 non-null    bool   \n",
      " 6   alone       179 non-null    bool   \n",
      " 7   sex_female  179 non-null    bool   \n",
      " 8   sex_male    179 non-null    bool   \n",
      " 9   embarked_C  179 non-null    bool   \n",
      " 10  embarked_Q  179 non-null    bool   \n",
      " 11  embarked_S  179 non-null    bool   \n",
      " 12  who_child   179 non-null    bool   \n",
      " 13  who_man     179 non-null    bool   \n",
      " 14  who_woman   179 non-null    bool   \n",
      "dtypes: bool(10), float64(2), int64(3)\n",
      "memory usage: 10.1 KB\n",
      "None\n"
     ]
    }
   ],
   "source": [
    "# 변수 처리 (원핫인코딩)\n",
    "x_train = pd.get_dummies(x_train)\n",
    "x_test = pd.get_dummies(x_test)\n",
    "\n",
    "print(x_train.info())\n",
    "print(x_test.info())\n",
    "\n",
    "# 하이퍼파라미터 튜닝을 위한 advanced 버전 저장\n",
    "x_train_ad = x_train.copy()\n",
    "x_test_ad = x_test.copy()\n",
    "y_train_ad = y_train.copy()"
   ]
  },
  {
   "cell_type": "code",
   "execution_count": 213,
   "metadata": {},
   "outputs": [],
   "source": [
    "# (참고) 원핫인코딩 후 feature 컬럼 변수의 개수가 다른 경우\n",
    "# x_train = pd.get_dummies(x_train)\n",
    "# x_test = pd.get_dummies(x_test)\n",
    "# x_train.info()\n",
    "# x_test.info()\n",
    "\n",
    "# 해결방법(x_test의 변수가 더 많은 경우의 코드)\n",
    "# x_train = x_train.reindex(columns=x_test.columns, fill_value=0)\n",
    "# x_train.info()"
   ]
  },
  {
   "cell_type": "markdown",
   "metadata": {},
   "source": [
    "#### 데이터 분리"
   ]
  },
  {
   "cell_type": "code",
   "execution_count": 214,
   "metadata": {},
   "outputs": [
    {
     "name": "stdout",
     "output_type": "stream",
     "text": [
      "(569, 15)\n",
      "(143, 15)\n",
      "(569,)\n",
      "(143,)\n"
     ]
    }
   ],
   "source": [
    "# 데이터를 훈련 세트와 검증용 세트로 분할 (훈련용 80%, 검증용 20%)\n",
    "from sklearn.model_selection import train_test_split\n",
    "x_train, x_val, y_train, y_val = train_test_split(x_train, y_train['target'], test_size=0.2, stratify=y_train['target'], random_state=2023)\n",
    "\n",
    "print(x_train.shape)\n",
    "print(x_val.shape)\n",
    "print(y_train.shape)\n",
    "print(y_val.shape)"
   ]
  },
  {
   "cell_type": "markdown",
   "metadata": {},
   "source": [
    "### ✅ 4. 모델링 및 성능 평가"
   ]
  },
  {
   "cell_type": "code",
   "execution_count": 215,
   "metadata": {},
   "outputs": [
    {
     "data": {
      "text/html": [
       "<style>#sk-container-id-6 {color: black;}#sk-container-id-6 pre{padding: 0;}#sk-container-id-6 div.sk-toggleable {background-color: white;}#sk-container-id-6 label.sk-toggleable__label {cursor: pointer;display: block;width: 100%;margin-bottom: 0;padding: 0.3em;box-sizing: border-box;text-align: center;}#sk-container-id-6 label.sk-toggleable__label-arrow:before {content: \"▸\";float: left;margin-right: 0.25em;color: #696969;}#sk-container-id-6 label.sk-toggleable__label-arrow:hover:before {color: black;}#sk-container-id-6 div.sk-estimator:hover label.sk-toggleable__label-arrow:before {color: black;}#sk-container-id-6 div.sk-toggleable__content {max-height: 0;max-width: 0;overflow: hidden;text-align: left;background-color: #f0f8ff;}#sk-container-id-6 div.sk-toggleable__content pre {margin: 0.2em;color: black;border-radius: 0.25em;background-color: #f0f8ff;}#sk-container-id-6 input.sk-toggleable__control:checked~div.sk-toggleable__content {max-height: 200px;max-width: 100%;overflow: auto;}#sk-container-id-6 input.sk-toggleable__control:checked~label.sk-toggleable__label-arrow:before {content: \"▾\";}#sk-container-id-6 div.sk-estimator input.sk-toggleable__control:checked~label.sk-toggleable__label {background-color: #d4ebff;}#sk-container-id-6 div.sk-label input.sk-toggleable__control:checked~label.sk-toggleable__label {background-color: #d4ebff;}#sk-container-id-6 input.sk-hidden--visually {border: 0;clip: rect(1px 1px 1px 1px);clip: rect(1px, 1px, 1px, 1px);height: 1px;margin: -1px;overflow: hidden;padding: 0;position: absolute;width: 1px;}#sk-container-id-6 div.sk-estimator {font-family: monospace;background-color: #f0f8ff;border: 1px dotted black;border-radius: 0.25em;box-sizing: border-box;margin-bottom: 0.5em;}#sk-container-id-6 div.sk-estimator:hover {background-color: #d4ebff;}#sk-container-id-6 div.sk-parallel-item::after {content: \"\";width: 100%;border-bottom: 1px solid gray;flex-grow: 1;}#sk-container-id-6 div.sk-label:hover label.sk-toggleable__label {background-color: #d4ebff;}#sk-container-id-6 div.sk-serial::before {content: \"\";position: absolute;border-left: 1px solid gray;box-sizing: border-box;top: 0;bottom: 0;left: 50%;z-index: 0;}#sk-container-id-6 div.sk-serial {display: flex;flex-direction: column;align-items: center;background-color: white;padding-right: 0.2em;padding-left: 0.2em;position: relative;}#sk-container-id-6 div.sk-item {position: relative;z-index: 1;}#sk-container-id-6 div.sk-parallel {display: flex;align-items: stretch;justify-content: center;background-color: white;position: relative;}#sk-container-id-6 div.sk-item::before, #sk-container-id-6 div.sk-parallel-item::before {content: \"\";position: absolute;border-left: 1px solid gray;box-sizing: border-box;top: 0;bottom: 0;left: 50%;z-index: -1;}#sk-container-id-6 div.sk-parallel-item {display: flex;flex-direction: column;z-index: 1;position: relative;background-color: white;}#sk-container-id-6 div.sk-parallel-item:first-child::after {align-self: flex-end;width: 50%;}#sk-container-id-6 div.sk-parallel-item:last-child::after {align-self: flex-start;width: 50%;}#sk-container-id-6 div.sk-parallel-item:only-child::after {width: 0;}#sk-container-id-6 div.sk-dashed-wrapped {border: 1px dashed gray;margin: 0 0.4em 0.5em 0.4em;box-sizing: border-box;padding-bottom: 0.4em;background-color: white;}#sk-container-id-6 div.sk-label label {font-family: monospace;font-weight: bold;display: inline-block;line-height: 1.2em;}#sk-container-id-6 div.sk-label-container {text-align: center;}#sk-container-id-6 div.sk-container {/* jupyter's `normalize.less` sets `[hidden] { display: none; }` but bootstrap.min.css set `[hidden] { display: none !important; }` so we also need the `!important` here to be able to override the default hidden behavior on the sphinx rendered scikit-learn.org. See: https://github.com/scikit-learn/scikit-learn/issues/21755 */display: inline-block !important;position: relative;}#sk-container-id-6 div.sk-text-repr-fallback {display: none;}</style><div id=\"sk-container-id-6\" class=\"sk-top-container\"><div class=\"sk-text-repr-fallback\"><pre>RandomForestClassifier(random_state=2023)</pre><b>In a Jupyter environment, please rerun this cell to show the HTML representation or trust the notebook. <br />On GitHub, the HTML representation is unable to render, please try loading this page with nbviewer.org.</b></div><div class=\"sk-container\" hidden><div class=\"sk-item\"><div class=\"sk-estimator sk-toggleable\"><input class=\"sk-toggleable__control sk-hidden--visually\" id=\"sk-estimator-id-6\" type=\"checkbox\" checked><label for=\"sk-estimator-id-6\" class=\"sk-toggleable__label sk-toggleable__label-arrow\">RandomForestClassifier</label><div class=\"sk-toggleable__content\"><pre>RandomForestClassifier(random_state=2023)</pre></div></div></div></div></div>"
      ],
      "text/plain": [
       "RandomForestClassifier(random_state=2023)"
      ]
     },
     "execution_count": 215,
     "metadata": {},
     "output_type": "execute_result"
    }
   ],
   "source": [
    "# 랜덤포레스트 모델 사용\n",
    "from sklearn.ensemble import RandomForestClassifier\n",
    "model = RandomForestClassifier(random_state=2023)\n",
    "model.fit(x_train, y_train)"
   ]
  },
  {
   "cell_type": "code",
   "execution_count": 216,
   "metadata": {},
   "outputs": [],
   "source": [
    "# 예측\n",
    "y_pred = model.predict(x_val)"
   ]
  },
  {
   "cell_type": "code",
   "execution_count": 217,
   "metadata": {},
   "outputs": [],
   "source": [
    "# accuracy, f1 score, auc 이용한 성능 평가\n",
    "from sklearn.metrics import accuracy_score, f1_score, roc_auc_score\n",
    "acc = accuracy_score(y_val, y_pred)\n",
    "f1 = f1_score(y_val, y_pred)\n",
    "auc = roc_auc_score(y_val, y_pred)"
   ]
  },
  {
   "cell_type": "code",
   "execution_count": 218,
   "metadata": {},
   "outputs": [
    {
     "name": "stdout",
     "output_type": "stream",
     "text": [
      "0.8531468531468531\n",
      "0.8108108108108109\n",
      "0.8465909090909092\n"
     ]
    }
   ],
   "source": [
    "print(acc)\n",
    "print(f1)\n",
    "print(auc)"
   ]
  },
  {
   "cell_type": "markdown",
   "metadata": {},
   "source": [
    "##### 실제 test 셋으로 성능평가를 한다면?"
   ]
  },
  {
   "cell_type": "code",
   "execution_count": 219,
   "metadata": {},
   "outputs": [],
   "source": [
    "y_pred_f = model.predict(x_test)\n",
    "\n",
    "from sklearn.metrics import accuracy_score, f1_score, roc_auc_score, recall_score, precision_score\n",
    "acc_f = accuracy_score(y_test, y_pred_f)\n",
    "f1_f = f1_score(y_test, y_pred_f)\n",
    "auc_f = roc_auc_score(y_test, y_pred_f)"
   ]
  },
  {
   "cell_type": "code",
   "execution_count": 220,
   "metadata": {},
   "outputs": [
    {
     "name": "stdout",
     "output_type": "stream",
     "text": [
      "0.7821229050279329\n",
      "0.7153284671532847\n",
      "0.7687088274044797\n"
     ]
    }
   ],
   "source": [
    "print(acc_f)\n",
    "print(f1_f)\n",
    "print(auc_f)"
   ]
  },
  {
   "cell_type": "code",
   "execution_count": 221,
   "metadata": {},
   "outputs": [],
   "source": [
    "# 하이퍼파라미터 튜닝 : 37분 ~ 41분"
   ]
  },
  {
   "cell_type": "markdown",
   "metadata": {},
   "source": [
    "### ✅ 5. 예측값 제출"
   ]
  },
  {
   "cell_type": "code",
   "execution_count": 222,
   "metadata": {},
   "outputs": [
    {
     "name": "stdout",
     "output_type": "stream",
     "text": [
      "[1 1 0 0 0]\n",
      "[[0.32 0.68]\n",
      " [0.24 0.76]\n",
      " [1.   0.  ]\n",
      " [0.93 0.07]\n",
      " [0.93 0.07]]\n",
      "   result  prob_0 (class_0)  prob_1 (class_1)\n",
      "0       1              0.32              0.68\n",
      "1       1              0.24              0.76\n",
      "2       0              1.00              0.00\n",
      "3       0              0.93              0.07\n",
      "4       0              0.93              0.07\n"
     ]
    }
   ],
   "source": [
    "# (실기시험 안내사항)\n",
    "# 아래 코드 예측변수와 수험번호를 개인별로 변경하여 활용\n",
    "# pd.DataFrame({ 'result': y_result }).to_csv('수험번호.csv', index=False)\n",
    "# 모델을 사용하여 테스트 데이터 예측\n",
    "\n",
    "# 1. 특정 클래스로 분류할 경우 : predict\n",
    "y_result = model.predict(x_test)\n",
    "print(y_result[:5])\n",
    "\n",
    "# 2. 특정 클래스로 분류될 확률을 계산하는 경우 : predict_proba()\n",
    "y_result_prob = model.predict_proba(x_test)\n",
    "print(y_result_prob[:5])\n",
    "\n",
    "# 이해해보기\n",
    "df = pd.DataFrame({'result' : y_result, 'prob_0 (class_0)' : y_result_prob[:, 0], 'prob_1 (class_1)' : y_result_prob[:, 1]})\n",
    "print(df.head())"
   ]
  }
 ],
 "metadata": {
  "kernelspec": {
   "display_name": "tensorflow",
   "language": "python",
   "name": "python3"
  },
  "language_info": {
   "codemirror_mode": {
    "name": "ipython",
    "version": 3
   },
   "file_extension": ".py",
   "mimetype": "text/x-python",
   "name": "python",
   "nbconvert_exporter": "python",
   "pygments_lexer": "ipython3",
   "version": "3.10.12"
  }
 },
 "nbformat": 4,
 "nbformat_minor": 2
}
