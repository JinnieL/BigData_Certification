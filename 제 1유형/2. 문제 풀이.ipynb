{
 "cells": [
  {
   "cell_type": "code",
   "execution_count": 74,
   "metadata": {},
   "outputs": [
    {
     "data": {
      "text/html": [
       "<div>\n",
       "<style scoped>\n",
       "    .dataframe tbody tr th:only-of-type {\n",
       "        vertical-align: middle;\n",
       "    }\n",
       "\n",
       "    .dataframe tbody tr th {\n",
       "        vertical-align: top;\n",
       "    }\n",
       "\n",
       "    .dataframe thead th {\n",
       "        text-align: right;\n",
       "    }\n",
       "</style>\n",
       "<table border=\"1\" class=\"dataframe\">\n",
       "  <thead>\n",
       "    <tr style=\"text-align: right;\">\n",
       "      <th></th>\n",
       "      <th>car</th>\n",
       "      <th>mpg</th>\n",
       "      <th>cyl</th>\n",
       "      <th>disp</th>\n",
       "      <th>hp</th>\n",
       "      <th>drat</th>\n",
       "      <th>wt</th>\n",
       "      <th>qsec</th>\n",
       "      <th>vs</th>\n",
       "      <th>am</th>\n",
       "      <th>gear</th>\n",
       "      <th>carb</th>\n",
       "    </tr>\n",
       "  </thead>\n",
       "  <tbody>\n",
       "    <tr>\n",
       "      <th>0</th>\n",
       "      <td>Mazda RX4</td>\n",
       "      <td>21.0</td>\n",
       "      <td>6</td>\n",
       "      <td>160.0</td>\n",
       "      <td>110</td>\n",
       "      <td>3.90</td>\n",
       "      <td>2.620</td>\n",
       "      <td>16.46</td>\n",
       "      <td>0</td>\n",
       "      <td>1</td>\n",
       "      <td>4</td>\n",
       "      <td>4</td>\n",
       "    </tr>\n",
       "    <tr>\n",
       "      <th>1</th>\n",
       "      <td>Mazda RX4 Wag</td>\n",
       "      <td>21.0</td>\n",
       "      <td>6</td>\n",
       "      <td>160.0</td>\n",
       "      <td>110</td>\n",
       "      <td>3.90</td>\n",
       "      <td>2.875</td>\n",
       "      <td>17.02</td>\n",
       "      <td>0</td>\n",
       "      <td>1</td>\n",
       "      <td>4</td>\n",
       "      <td>4</td>\n",
       "    </tr>\n",
       "    <tr>\n",
       "      <th>2</th>\n",
       "      <td>Datsun 710</td>\n",
       "      <td>22.8</td>\n",
       "      <td>4</td>\n",
       "      <td>108.0</td>\n",
       "      <td>93</td>\n",
       "      <td>3.85</td>\n",
       "      <td>2.320</td>\n",
       "      <td>18.61</td>\n",
       "      <td>1</td>\n",
       "      <td>1</td>\n",
       "      <td>4</td>\n",
       "      <td>1</td>\n",
       "    </tr>\n",
       "    <tr>\n",
       "      <th>3</th>\n",
       "      <td>Hornet 4 Drive</td>\n",
       "      <td>21.4</td>\n",
       "      <td>6</td>\n",
       "      <td>258.0</td>\n",
       "      <td>110</td>\n",
       "      <td>3.08</td>\n",
       "      <td>3.215</td>\n",
       "      <td>19.44</td>\n",
       "      <td>1</td>\n",
       "      <td>0</td>\n",
       "      <td>3</td>\n",
       "      <td>1</td>\n",
       "    </tr>\n",
       "    <tr>\n",
       "      <th>4</th>\n",
       "      <td>Hornet Sportabout</td>\n",
       "      <td>18.7</td>\n",
       "      <td>8</td>\n",
       "      <td>360.0</td>\n",
       "      <td>175</td>\n",
       "      <td>3.15</td>\n",
       "      <td>3.440</td>\n",
       "      <td>17.02</td>\n",
       "      <td>0</td>\n",
       "      <td>0</td>\n",
       "      <td>3</td>\n",
       "      <td>2</td>\n",
       "    </tr>\n",
       "  </tbody>\n",
       "</table>\n",
       "</div>"
      ],
      "text/plain": [
       "                 car   mpg  cyl   disp   hp  drat     wt   qsec  vs  am  gear  \\\n",
       "0          Mazda RX4  21.0    6  160.0  110  3.90  2.620  16.46   0   1     4   \n",
       "1      Mazda RX4 Wag  21.0    6  160.0  110  3.90  2.875  17.02   0   1     4   \n",
       "2         Datsun 710  22.8    4  108.0   93  3.85  2.320  18.61   1   1     4   \n",
       "3     Hornet 4 Drive  21.4    6  258.0  110  3.08  3.215  19.44   1   0     3   \n",
       "4  Hornet Sportabout  18.7    8  360.0  175  3.15  3.440  17.02   0   0     3   \n",
       "\n",
       "   carb  \n",
       "0     4  \n",
       "1     4  \n",
       "2     1  \n",
       "3     1  \n",
       "4     2  "
      ]
     },
     "execution_count": 74,
     "metadata": {},
     "output_type": "execute_result"
    }
   ],
   "source": [
    "import pandas as pd\n",
    "import numpy as np\n",
    "\n",
    "df = pd.read_csv(\"/Users/jinyeonglee/BigData_Certification/Data/mtcars.csv\")\n",
    "df.head()"
   ]
  },
  {
   "cell_type": "code",
   "execution_count": 75,
   "metadata": {},
   "outputs": [
    {
     "data": {
      "text/plain": [
       "15"
      ]
     },
     "execution_count": 75,
     "metadata": {},
     "output_type": "execute_result"
    }
   ],
   "source": [
    "# ⭕️ 문제 1) mpg 변수의 제 1사분위수를 구하고 정수값으로 출력하시오\n",
    "mpg_q1 = df['mpg'].quantile(.25)\n",
    "round(mpg_q1)"
   ]
  },
  {
   "cell_type": "code",
   "execution_count": 76,
   "metadata": {},
   "outputs": [
    {
     "data": {
      "text/plain": [
       "5"
      ]
     },
     "execution_count": 76,
     "metadata": {},
     "output_type": "execute_result"
    }
   ],
   "source": [
    "# ⭕️ 문제 2) mpg 값이 19 이상 21 이하인 데이터의 수를 구하시오.\n",
    "cond1 = df['mpg'] >= 19\n",
    "cond2 = df['mpg'] <= 21\n",
    "len(df[cond1 & cond2])"
   ]
  },
  {
   "cell_type": "code",
   "execution_count": 77,
   "metadata": {},
   "outputs": [
    {
     "data": {
      "text/plain": [
       "83.5"
      ]
     },
     "execution_count": 77,
     "metadata": {},
     "output_type": "execute_result"
    }
   ],
   "source": [
    "# ⭕️ 문제 3) hp 변수의 IQR 값을 구하시오\n",
    "# IQR = Q3 - Q1\n",
    "hp_q1 = df['hp'].quantile(.25)\n",
    "hp_q3 = df['hp'].quantile(.75)\n",
    "hp_IQR = hp_q3 - hp_q1\n",
    "hp_IQR"
   ]
  },
  {
   "cell_type": "code",
   "execution_count": 78,
   "metadata": {},
   "outputs": [
    {
     "data": {
      "text/plain": [
       "count    32.000000\n",
       "mean      3.217250\n",
       "std       0.978457\n",
       "min       1.513000\n",
       "25%       2.581250\n",
       "50%       3.325000\n",
       "75%       3.610000\n",
       "max       5.424000\n",
       "Name: wt, dtype: float64"
      ]
     },
     "execution_count": 78,
     "metadata": {},
     "output_type": "execute_result"
    }
   ],
   "source": [
    "df['wt'].describe()"
   ]
  },
  {
   "cell_type": "code",
   "execution_count": 79,
   "metadata": {},
   "outputs": [
    {
     "data": {
      "text/plain": [
       "42"
      ]
     },
     "execution_count": 79,
     "metadata": {},
     "output_type": "execute_result"
    }
   ],
   "source": [
    "# 🔺 문제 4) wt 변수의 상위 10개 값의 총합을 구하여 소수점을 버리고 정수로 출력하시오.\t\n",
    "# round(df['wt'].sort_values(ascending=False).head(10).sum())\n",
    "int(df['wt'].sort_values(ascending=False).head(10).sum())\n",
    "\n",
    "# ▶️ round()는 반올림하는 함수이기 때문에 소수점을 버리려면 int()가 더 적절하다."
   ]
  },
  {
   "cell_type": "code",
   "execution_count": 80,
   "metadata": {},
   "outputs": [
    {
     "data": {
      "text/plain": [
       "0.2"
      ]
     },
     "execution_count": 80,
     "metadata": {},
     "output_type": "execute_result"
    }
   ],
   "source": [
    "# ⭕️ 문제 5) 전체 자동차에서 cyl가 6인 비율이 얼마인지 소수점 첫째 자리까지 출력하시오.\n",
    "cond_cyl = (df['cyl'] == 6)\n",
    "round(len(df[cond_cyl]) / len(df['cyl']), 1)"
   ]
  },
  {
   "cell_type": "code",
   "execution_count": 81,
   "metadata": {},
   "outputs": [
    {
     "data": {
      "text/plain": [
       "20"
      ]
     },
     "execution_count": 81,
     "metadata": {},
     "output_type": "execute_result"
    }
   ],
   "source": [
    "# ⭕️ 문제 6) 첫번째 행부터 순서대로 10개 뽑은 후 mpg 열의 평균값을 반올림하여 정수로 출력하시오.\n",
    "df10 = df.head(10)\n",
    "round(df10['mpg'].mean())"
   ]
  },
  {
   "cell_type": "code",
   "execution_count": 82,
   "metadata": {},
   "outputs": [
    {
     "data": {
      "text/plain": [
       "3.44"
      ]
     },
     "execution_count": 82,
     "metadata": {},
     "output_type": "execute_result"
    }
   ],
   "source": [
    "# ⭕️ 문제 7) 첫번째 행부터 순서대로 50%까지 데이터를 뽑아 wt 변수의 중앙값을 구하시오.\n",
    "df_half = df.head(int(len(df)*0.5))\n",
    "df_half['wt'].median()"
   ]
  },
  {
   "cell_type": "code",
   "execution_count": 83,
   "metadata": {},
   "outputs": [
    {
     "data": {
      "text/plain": [
       "5"
      ]
     },
     "execution_count": 83,
     "metadata": {},
     "output_type": "execute_result"
    }
   ],
   "source": [
    "# ❌ 문제 8) 다음 데이터에서 결측값이 있는 데이터의 수를 출력하시오.\n",
    "\n",
    "# 데이터 생성\n",
    "df = pd.DataFrame( \n",
    "    {\n",
    "        '날짜': ['20220103','20220105', None,'20230127','20220203', '20220205', '20230210','20230223','20230312','20230422', '20220505', '20230511'],\n",
    "        '제품' : ['A','B', None, 'B', 'A', None,'A', 'B', 'A', 'B', 'A', 'A'],\n",
    "        '판매수': [3, None, 5, 10, 10, 10, 15, 15, 20, None, 30, 40],\n",
    "        '개당수익': [300, 400, 500, 600, 400, 500, 500, 600, 600, 700, 600, 600] \n",
    "    }\n",
    ")\n",
    "\n",
    "df.isnull().sum().sum()"
   ]
  },
  {
   "cell_type": "code",
   "execution_count": 84,
   "metadata": {},
   "outputs": [
    {
     "data": {
      "text/plain": [
       "15"
      ]
     },
     "execution_count": 84,
     "metadata": {},
     "output_type": "execute_result"
    }
   ],
   "source": [
    "# ❌ 문제 9) '판매수' 컬럼의 결측값을 판매수의 중앙값으로 대체하고 판매수의 평균값을 반올림하여 정수로 출력하시오.\n",
    "df = pd.DataFrame( \n",
    "    {\n",
    "        '날짜': ['20220103','20220105', None,'20230127','20220203', '20220205', '20230210','20230223','20230312','20230422', '20220505', '20230511'],\n",
    "        '제품' : ['A','B', None, 'B', 'A', None,'A', 'B', 'A', 'B', 'A', 'A'],\n",
    "        '판매수': [3, None, 5, 10, 10, 10, 15, 15, 20, None, 30, 40],\n",
    "        '개당수익': [300, 400, 500, 600, 400, 500, 500, 600, 600, 700, 600, 600] \n",
    "    }\n",
    ")\n",
    "\n",
    "# 판매수 중앙값 계산\n",
    "soldCounts_median = df['판매수'].median()\n",
    "soldCounts_median\n",
    "\n",
    "# 판매수 결측값 중앙값으로 대체\n",
    "df['판매수'] = df['판매수'].fillna(soldCounts_median)\n",
    "\n",
    "# 판매수의 평균값을 반올림하여 정수로 출력\n",
    "round(df['판매수'].mean())"
   ]
  },
  {
   "cell_type": "code",
   "execution_count": 88,
   "metadata": {},
   "outputs": [
    {
     "data": {
      "text/plain": [
       "0      3.0\n",
       "2      5.0\n",
       "3     10.0\n",
       "4     10.0\n",
       "5     10.0\n",
       "6     15.0\n",
       "7     15.0\n",
       "8     20.0\n",
       "10    30.0\n",
       "11    40.0\n",
       "Name: 판매수, dtype: float64"
      ]
     },
     "execution_count": 88,
     "metadata": {},
     "output_type": "execute_result"
    }
   ],
   "source": [
    "# 문제 10) 판매수 컬럼에 결측치가 있는 행을 제거하고, 첫번째 행부터 순서대로 50%까지의 데이터를 추출하여 판매수 변수의 Q1(제1사분위수)값을 반올림하여 정수로 출력하시오.\n",
    "df = pd.DataFrame( \n",
    "    {\n",
    "        '날짜': ['20220103','20220105', None,'20230127','20220203', '20220205', '20230210','20230223','20230312','20230422', '20220505', '20230511'],\n",
    "        '제품' : ['A','B', None, 'B', 'A', None,'A', 'B', 'A', 'B', 'A', 'A'],\n",
    "        '판매수': [3, None, 5, 10, 10, 10, 15, 15, 20, None, 30, 40],\n",
    "        '개당수익': [300, 400, 500, 600, 400, 500, 500, 600, 600, 700, 600, 600] \n",
    "    }\n",
    ")\n",
    "\n",
    "# 판매수 컬럼의 결측치 행 제거\n",
    "df = df['판매수'].dropna(axis=0)\n",
    "df\n",
    "\n",
    "# "
   ]
  },
  {
   "cell_type": "code",
   "execution_count": null,
   "metadata": {},
   "outputs": [],
   "source": []
  }
 ],
 "metadata": {
  "language_info": {
   "name": "python"
  }
 },
 "nbformat": 4,
 "nbformat_minor": 2
}
