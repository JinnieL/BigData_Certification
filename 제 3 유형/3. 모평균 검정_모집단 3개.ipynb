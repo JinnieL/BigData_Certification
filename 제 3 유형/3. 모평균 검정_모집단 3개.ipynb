{
 "cells": [
  {
   "cell_type": "markdown",
   "metadata": {},
   "source": [
    "# 제 3유형 - 모평균 검정_모집단 3개 이상"
   ]
  },
  {
   "cell_type": "markdown",
   "metadata": {},
   "source": [
    "## ✅ 검정방법 제일 마지막 16:50~\n",
    "### 1. 분산분석(ANOVA) : A집단 vs B집단 vs C집단 vs ....            \n",
    "- (정규성을 만족) : ANOVA 분석. 등장하는 모든 모집단의 평균이 같은지 비교\n",
    "- (정규성을 만족X) : 크루스칼-왈리스 검정(kruskal-wallis test)"
   ]
  },
  {
   "cell_type": "markdown",
   "metadata": {},
   "source": [
    "### ✅ 가설검정 순서(중요!)\n",
    "> 1. 가설 설정\n",
    "> 2. 유의수준 확인\n",
    "> 3. 정규성 검정 (주의 : 집단 모두 정규성을 따를 경우에!)\n",
    "> 4. 등분산 검정\n",
    "> 5. 검정실시(통계량, p-value 확인) (주의 : 등분산 여부 확인!!)\n",
    "> 6. 귀무가설 기각여부 결정(채택/기각)"
   ]
  },
  {
   "cell_type": "markdown",
   "metadata": {},
   "source": [
    "#### 예제 문제           \n",
    "#### 문제 1-1\n",
    "다음은 A, B, C 그룹 인원 성적 데이터이다.           \n",
    "세 그룹의 성적 평균이 같다고 할 수 있는지 ANOVA 분석을 실시하시오. (유의수준 5%)\n",
    "- A, B, C : 각 그룹 인원의 성적         \n",
    "- H0 : A(평균) = B(평균) = C(평균)  \n",
    "- H1 : not H0(적어도 하나는 같지 않다.)"
   ]
  },
  {
   "cell_type": "code",
   "execution_count": 12,
   "metadata": {},
   "outputs": [],
   "source": [
    "import pandas as pd\n",
    "import numpy as np"
   ]
  },
  {
   "cell_type": "code",
   "execution_count": 13,
   "metadata": {},
   "outputs": [
    {
     "name": "stdout",
     "output_type": "stream",
     "text": [
      "     A    B    C\n",
      "0  120  110  130\n",
      "1  135  132  120\n",
      "2  122  123  115\n"
     ]
    }
   ],
   "source": [
    "# 데이터 만들기\n",
    "df = pd.DataFrame( {\n",
    "    'A': [120, 135, 122, 124, 135, 122, 145, 160, 155, 142, 144, 135, 167],\n",
    "    'B' : [110, 132, 123, 119, 123, 115, 140, 162, 142, 138, 135, 142, 160],\n",
    "    'C' : [130, 120, 115, 122, 133, 144, 122, 120, 110, 134, 125, 122, 122]})\n",
    "print(df.head(3))"
   ]
  },
  {
   "cell_type": "code",
   "execution_count": 14,
   "metadata": {},
   "outputs": [],
   "source": [
    "import scipy.stats as stats\n",
    "from scipy.stats import shapiro"
   ]
  },
  {
   "cell_type": "markdown",
   "metadata": {},
   "source": [
    "##### 1. 가설 설정\n",
    "H0 : 세 그룹 성적의 평균이 같다.            \n",
    "H1 : 세 그룹의 성적 평균값이 적어도 하나는 같지 않다."
   ]
  },
  {
   "cell_type": "markdown",
   "metadata": {},
   "source": [
    "##### 2. 유의수준 확인\n",
    "문제에서 5%로 제공"
   ]
  },
  {
   "cell_type": "markdown",
   "metadata": {},
   "source": [
    "##### 3. 정규성 검정\n",
    "H0 : 세 그룹이 모두 정규분포를 따른다.          \n",
    "H1 : 하나라도 정규분포를 따르지 않는다."
   ]
  },
  {
   "cell_type": "code",
   "execution_count": 15,
   "metadata": {},
   "outputs": [
    {
     "name": "stdout",
     "output_type": "stream",
     "text": [
      "ShapiroResult(statistic=0.9314374327659607, pvalue=0.3558504581451416)\n",
      "ShapiroResult(statistic=0.9498199224472046, pvalue=0.5955632925033569)\n",
      "ShapiroResult(statistic=0.9396705031394958, pvalue=0.4526498317718506)\n"
     ]
    }
   ],
   "source": [
    "print(stats.shapiro(df['A']))\n",
    "print(stats.shapiro(df['B']))\n",
    "print(stats.shapiro(df['C']))"
   ]
  },
  {
   "cell_type": "markdown",
   "metadata": {},
   "source": [
    "세 그룹의 p-value가 모두 유의수준 0.05보다 크므로 귀무가설 채택 (모두 정규분포를 따른다고 할 수 있다)            \n",
    "만약 하나라도 정규분포를 따르지 않는다면 비모수 검정방법을 써야함(크루스칼-왈리스 검정)"
   ]
  },
  {
   "cell_type": "markdown",
   "metadata": {},
   "source": [
    "##### 4. 등분산성 검정\n",
    "H0 : 등분산 한다.           \n",
    "H1 : 등분산 하지 않는다."
   ]
  },
  {
   "cell_type": "code",
   "execution_count": 16,
   "metadata": {},
   "outputs": [
    {
     "name": "stdout",
     "output_type": "stream",
     "text": [
      "BartlettResult(statistic=4.222248448848066, pvalue=0.12110174433684852)\n"
     ]
    }
   ],
   "source": [
    "print(stats.bartlett(df['A'], df['B'], df['C']))"
   ]
  },
  {
   "cell_type": "markdown",
   "metadata": {},
   "source": [
    "p-value=0.121로 유의수준 0.05보다 크므로 귀무가설 채택 (등분산 한다고 할 수 있다.)"
   ]
  },
  {
   "cell_type": "markdown",
   "metadata": {},
   "source": [
    "##### 5. 검정실시(통계량, p-value 확인)"
   ]
  },
  {
   "cell_type": "code",
   "execution_count": 17,
   "metadata": {},
   "outputs": [
    {
     "name": "stdout",
     "output_type": "stream",
     "text": [
      "3.6971 0.0346\n"
     ]
    }
   ],
   "source": [
    "# 5.1 (정규성O, 등분산성O) : 분산분석(f_oneway)\n",
    "import scipy.stats as stats\n",
    "statistic, pvalue = stats.f_oneway(df['A'], df['B'], df['C'])           # 그룹 데이터가 각각 모두 들어가야함\n",
    "print(round(statistic, 4), round(pvalue, 4))"
   ]
  },
  {
   "cell_type": "markdown",
   "metadata": {},
   "source": [
    "p-value=0.0346으로 유의수준 0.05보다 작으므로 귀무가설을 기각한다.          \n",
    "세 그룹의 평균 중 적어도 하나는 같지 않다고 할 수 있다."
   ]
  },
  {
   "cell_type": "code",
   "execution_count": 18,
   "metadata": {},
   "outputs": [],
   "source": [
    "# # 5.2 (정규성O, 등분산성X) : welch_anova 분석 (현재 미지원)\n",
    "# import pingouin as pg\n",
    "# pg.welch_anova(dv='그룹변수명', between='성적데이터', data=데이터)\n",
    "# pg.welch_anova(df['A'], df['B'], df['C']) 형태로 분석 불가"
   ]
  },
  {
   "cell_type": "code",
   "execution_count": 19,
   "metadata": {},
   "outputs": [
    {
     "name": "stdout",
     "output_type": "stream",
     "text": [
      "6.897 0.0318\n"
     ]
    }
   ],
   "source": [
    "# 5.3 (정규성 X) : 크루스칼-왈리스 검정 (kruskal)\n",
    "import scipy.stats as stats\n",
    "statistic, pvalue = stats.kruskal(df['A'], df['B'], df['C'])\n",
    "print(round(statistic, 4), round(pvalue, 4))"
   ]
  },
  {
   "cell_type": "markdown",
   "metadata": {},
   "source": [
    "p-value가 0.05보다 작으므로 귀무가설 기각"
   ]
  },
  {
   "cell_type": "markdown",
   "metadata": {},
   "source": [
    "##### 6. 귀무가설 기각여부 결정\n",
    "p-value 값이 0.05보다 작기 때문에 귀무가설을 기각           \n",
    "즉 A, B, C 그룹의 성적 평균이 같다고 할 수 없다."
   ]
  },
  {
   "cell_type": "markdown",
   "metadata": {},
   "source": [
    "#### 문제 1-2 데이터 형태가 다를 경우"
   ]
  },
  {
   "cell_type": "code",
   "execution_count": 20,
   "metadata": {},
   "outputs": [
    {
     "name": "stdout",
     "output_type": "stream",
     "text": [
      "  항목  value\n",
      "0  A    120\n",
      "1  A    135\n",
      "2  A    122\n"
     ]
    }
   ],
   "source": [
    "# 데이터 만들기\n",
    "df2 = pd.DataFrame( {\n",
    "'항목': ['A','A','A','A','A','A','A','A','A','A','A','A','A',\n",
    "           'B','B','B','B','B','B','B','B','B','B','B','B','B',\n",
    "           'C','C','C','C','C','C','C','C','C','C','C','C','C',],\n",
    "    'value': [120, 135, 122, 124, 135, 122, 145, 160, 155, 142, 144, 135, 167,\n",
    "             110, 132, 123, 119, 123, 115, 140, 162, 142, 138, 135, 142, 160,\n",
    "             130, 120, 115, 122, 133, 144, 122, 120, 110, 134, 125, 122, 122]\n",
    "}) \n",
    "print(df2.head(3))"
   ]
  },
  {
   "cell_type": "markdown",
   "metadata": {},
   "source": [
    "f_oneway의 경우 데이터 각각이 들어가야 하기 때문에 필터링해서 변수명에 저장하고 분석 진행해야함."
   ]
  },
  {
   "cell_type": "code",
   "execution_count": 21,
   "metadata": {},
   "outputs": [],
   "source": [
    "a = df2[df2['항목'] == 'A']['value']\n",
    "b = df2[df2['항목'] == 'B']['value']\n",
    "c = df2[df2['항목'] == 'B']['value']"
   ]
  },
  {
   "cell_type": "code",
   "execution_count": 22,
   "metadata": {},
   "outputs": [
    {
     "name": "stdout",
     "output_type": "stream",
     "text": [
      "0.4401 0.6474\n"
     ]
    }
   ],
   "source": [
    "# 분산분석(f_oneway)\n",
    "import scipy.stats as stats\n",
    "statistic, pvalue = stats.f_oneway(a, b, c)\n",
    "print(round(statistic, 4), round(pvalue, 4))"
   ]
  },
  {
   "cell_type": "markdown",
   "metadata": {},
   "source": [
    "##### 5번, 6번이 나올 가능성이 큼!"
   ]
  }
 ],
 "metadata": {
  "kernelspec": {
   "display_name": "tensorflow",
   "language": "python",
   "name": "python3"
  },
  "language_info": {
   "codemirror_mode": {
    "name": "ipython",
    "version": 3
   },
   "file_extension": ".py",
   "mimetype": "text/x-python",
   "name": "python",
   "nbconvert_exporter": "python",
   "pygments_lexer": "ipython3",
   "version": "3.10.12"
  }
 },
 "nbformat": 4,
 "nbformat_minor": 2
}
