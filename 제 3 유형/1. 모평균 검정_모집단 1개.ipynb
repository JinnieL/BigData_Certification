{
 "cells": [
  {
   "cell_type": "markdown",
   "metadata": {},
   "source": [
    "# 제 3유형 - 모평균 검정_모집단 1개(집단의 평균 vs 특정값)"
   ]
  },
  {
   "cell_type": "markdown",
   "metadata": {},
   "source": [
    "## ✅ 검정방법\n",
    "### 1) 정규성을 따른다 → 단일표본t검정(1sample t-test)\n",
    "### 2) 정규성을 따르지 않는다. → 윌콕슨 부호순위 검정"
   ]
  },
  {
   "cell_type": "markdown",
   "metadata": {},
   "source": [
    "### ✅ 가설검정 순서(중요!)\n",
    "> 1. 가설 설정\n",
    "> 2. 유의수준 확인\n",
    "> 3. 정규성 검정\n",
    "> 4. 검정실시(통계량, p-value 확인)\n",
    "> 5. 귀무가설 기각여부 결정(채택/기각)"
   ]
  },
  {
   "cell_type": "markdown",
   "metadata": {},
   "source": [
    "#### ✅ 데이터 불러오기"
   ]
  },
  {
   "cell_type": "code",
   "execution_count": 1,
   "metadata": {},
   "outputs": [],
   "source": [
    "import numpy as np\n",
    "import pandas as pd"
   ]
  },
  {
   "cell_type": "code",
   "execution_count": 2,
   "metadata": {},
   "outputs": [
    {
     "data": {
      "text/html": [
       "<div>\n",
       "<style scoped>\n",
       "    .dataframe tbody tr th:only-of-type {\n",
       "        vertical-align: middle;\n",
       "    }\n",
       "\n",
       "    .dataframe tbody tr th {\n",
       "        vertical-align: top;\n",
       "    }\n",
       "\n",
       "    .dataframe thead th {\n",
       "        text-align: right;\n",
       "    }\n",
       "</style>\n",
       "<table border=\"1\" class=\"dataframe\">\n",
       "  <thead>\n",
       "    <tr style=\"text-align: right;\">\n",
       "      <th></th>\n",
       "      <th>car</th>\n",
       "      <th>mpg</th>\n",
       "      <th>cyl</th>\n",
       "      <th>disp</th>\n",
       "      <th>hp</th>\n",
       "      <th>drat</th>\n",
       "      <th>wt</th>\n",
       "      <th>qsec</th>\n",
       "      <th>vs</th>\n",
       "      <th>am</th>\n",
       "      <th>gear</th>\n",
       "      <th>carb</th>\n",
       "    </tr>\n",
       "  </thead>\n",
       "  <tbody>\n",
       "    <tr>\n",
       "      <th>0</th>\n",
       "      <td>Mazda RX4</td>\n",
       "      <td>21.0</td>\n",
       "      <td>6</td>\n",
       "      <td>160.0</td>\n",
       "      <td>110</td>\n",
       "      <td>3.90</td>\n",
       "      <td>2.620</td>\n",
       "      <td>16.46</td>\n",
       "      <td>0</td>\n",
       "      <td>1</td>\n",
       "      <td>4</td>\n",
       "      <td>4</td>\n",
       "    </tr>\n",
       "    <tr>\n",
       "      <th>1</th>\n",
       "      <td>Mazda RX4 Wag</td>\n",
       "      <td>21.0</td>\n",
       "      <td>6</td>\n",
       "      <td>160.0</td>\n",
       "      <td>110</td>\n",
       "      <td>3.90</td>\n",
       "      <td>2.875</td>\n",
       "      <td>17.02</td>\n",
       "      <td>0</td>\n",
       "      <td>1</td>\n",
       "      <td>4</td>\n",
       "      <td>4</td>\n",
       "    </tr>\n",
       "    <tr>\n",
       "      <th>2</th>\n",
       "      <td>Datsun 710</td>\n",
       "      <td>22.8</td>\n",
       "      <td>4</td>\n",
       "      <td>108.0</td>\n",
       "      <td>93</td>\n",
       "      <td>3.85</td>\n",
       "      <td>2.320</td>\n",
       "      <td>18.61</td>\n",
       "      <td>1</td>\n",
       "      <td>1</td>\n",
       "      <td>4</td>\n",
       "      <td>1</td>\n",
       "    </tr>\n",
       "    <tr>\n",
       "      <th>3</th>\n",
       "      <td>Hornet 4 Drive</td>\n",
       "      <td>21.4</td>\n",
       "      <td>6</td>\n",
       "      <td>258.0</td>\n",
       "      <td>110</td>\n",
       "      <td>3.08</td>\n",
       "      <td>3.215</td>\n",
       "      <td>19.44</td>\n",
       "      <td>1</td>\n",
       "      <td>0</td>\n",
       "      <td>3</td>\n",
       "      <td>1</td>\n",
       "    </tr>\n",
       "    <tr>\n",
       "      <th>4</th>\n",
       "      <td>Hornet Sportabout</td>\n",
       "      <td>18.7</td>\n",
       "      <td>8</td>\n",
       "      <td>360.0</td>\n",
       "      <td>175</td>\n",
       "      <td>3.15</td>\n",
       "      <td>3.440</td>\n",
       "      <td>17.02</td>\n",
       "      <td>0</td>\n",
       "      <td>0</td>\n",
       "      <td>3</td>\n",
       "      <td>2</td>\n",
       "    </tr>\n",
       "  </tbody>\n",
       "</table>\n",
       "</div>"
      ],
      "text/plain": [
       "                 car   mpg  cyl   disp   hp  drat     wt   qsec  vs  am  gear  \\\n",
       "0          Mazda RX4  21.0    6  160.0  110  3.90  2.620  16.46   0   1     4   \n",
       "1      Mazda RX4 Wag  21.0    6  160.0  110  3.90  2.875  17.02   0   1     4   \n",
       "2         Datsun 710  22.8    4  108.0   93  3.85  2.320  18.61   1   1     4   \n",
       "3     Hornet 4 Drive  21.4    6  258.0  110  3.08  3.215  19.44   1   0     3   \n",
       "4  Hornet Sportabout  18.7    8  360.0  175  3.15  3.440  17.02   0   0     3   \n",
       "\n",
       "   carb  \n",
       "0     4  \n",
       "1     4  \n",
       "2     1  \n",
       "3     1  \n",
       "4     2  "
      ]
     },
     "execution_count": 2,
     "metadata": {},
     "output_type": "execute_result"
    }
   ],
   "source": [
    "# 데이터 불러오기 mtcars \n",
    "df = pd.read_csv(\"/Users/jinyeonglee/BigData_Certification/Data/mtcars.csv\")\n",
    "df.head()"
   ]
  },
  {
   "cell_type": "markdown",
   "metadata": {},
   "source": [
    "#### 예제 문제           \n",
    "#### 1. mtcars 데이터셋의 mpg열 데이터의 평균이 20과 같다고 할 수 있는지 검정하시오. (유의수준 5%)"
   ]
  },
  {
   "cell_type": "code",
   "execution_count": 3,
   "metadata": {},
   "outputs": [],
   "source": [
    "import scipy.stats as stats\n",
    "from scipy.stats import shapiro             # 정규성 검정"
   ]
  },
  {
   "cell_type": "markdown",
   "metadata": {},
   "source": [
    "##### 1. 가설 설정\n",
    "H0 : mpg열 데이터의 평균이 20과 같다.           \n",
    "H1 : mpg열 데이터의 평균이 20과 같지 않다."
   ]
  },
  {
   "cell_type": "markdown",
   "metadata": {},
   "source": [
    "##### 2. 유의수준 확인\n",
    "문제에서 유의수준 5%로 제공"
   ]
  },
  {
   "cell_type": "markdown",
   "metadata": {},
   "source": [
    "##### 3. 정규성 검정\n",
    "정규성 가정이 되어야 단일표본 t-test가 가능하지만 문제에서 단일표본 t-test를 하라고 했다면 정규성 검정을 할 필요가 없다.    \n",
    "H0 : 정규분포를 따른다.     \n",
    "H1 : 정규분포를 따르지 않는다."
   ]
  },
  {
   "cell_type": "code",
   "execution_count": 7,
   "metadata": {},
   "outputs": [
    {
     "name": "stdout",
     "output_type": "stream",
     "text": [
      "ShapiroResult(statistic=0.9475648403167725, pvalue=0.1228824257850647)\n",
      "statstic :  0.9476 , p-value :  0.1229\n"
     ]
    }
   ],
   "source": [
    "# shapiro 테스트로 데이터의 분포가 정규분포인지 검정\n",
    "# 통계값과 pvalue 값을 줌.\n",
    "result = stats.shapiro(df['mpg'])\n",
    "print(result)\n",
    "\n",
    "statistic, pvalue = stats.shapiro(df['mpg'])\n",
    "print(\"statstic : \", round(statistic, 4), \", p-value : \", round(pvalue, 4))"
   ]
  },
  {
   "cell_type": "markdown",
   "metadata": {},
   "source": [
    "- p-value 값이 유의수준(0.05)보다 크다. → 귀무가설(H0) 채택     \n",
    "- 만약 정규분포를 따르지 않는다면 비모수 검정방법 사용 (윌콕슨의 부호순위 검정)\n",
    "- 정규성을 만족한다면 t-test 실시"
   ]
  },
  {
   "cell_type": "markdown",
   "metadata": {},
   "source": [
    "##### 4. 검정실시(통계량, p-value 확인)\n",
    "4-1) 데이터가 정규성을 만족할 때 : t-test 실시.   \n",
    "      \n",
    "1sample t-test : 어떤 그룹의 평균값과 특정값을 비교     \n",
    "> stats.ttest_1samp(a, popmean=, alternative='two-sided(default) | greater | less')\n",
    "- a : 어떤 그룹\n",
    "- popmean : 비교할 값(평균)\n",
    "- alternative : 대립 가설(H1)       \n",
    "    - two-sided : 좌변의 값과 우변의 값이 같지 않다."
   ]
  },
  {
   "cell_type": "code",
   "execution_count": 11,
   "metadata": {},
   "outputs": [
    {
     "name": "stdout",
     "output_type": "stream",
     "text": [
      "0.9476 0.9328\n",
      "TtestResult(statistic=0.08506003568133688, pvalue=0.9327606409093872, df=31)\n"
     ]
    }
   ],
   "source": [
    "# 4.1 (정규성 만족) t-test 실시\n",
    "result = stats.ttest_1samp(df['mpg'], popmean=20, alternative='two-sided')\n",
    "statistics, pvalue = stats.ttest_1samp(df['mpg'], popmean=20, alternative='two-sided')\n",
    "print(round(statistic, 4), round(pvalue, 4))\n",
    "print(result)"
   ]
  },
  {
   "cell_type": "markdown",
   "metadata": {},
   "source": [
    "4-2) 데이터가 정규성을 만족하지 않을 때 : wilcoxon 부호순위 검정\n",
    "> stats.wilcoxon(어떤 그룹 - 비교할 평균, alternative='two-sided(default) | greater | less')"
   ]
  },
  {
   "cell_type": "code",
   "execution_count": 10,
   "metadata": {},
   "outputs": [
    {
     "name": "stdout",
     "output_type": "stream",
     "text": [
      "0.9476 0.7891\n"
     ]
    }
   ],
   "source": [
    "# 4.2 (정규성 만족 X) wilcoxon 부호순위 검정\n",
    "statstic, pvalue = stats.wilcoxon(df['mpg']-20, alternative='two-sided')\n",
    "print(round(statistic, 4), round(pvalue, 4))"
   ]
  },
  {
   "cell_type": "markdown",
   "metadata": {},
   "source": [
    "##### 5. 귀무가설 기각여부 결정\n",
    "p-value = 0.9328로 0.05보다 크기 때문에 귀무가설을 채택한다.        \n",
    "즉, mpg 열의 평균이 20과 같다고 할 수 있다."
   ]
  },
  {
   "cell_type": "code",
   "execution_count": 12,
   "metadata": {},
   "outputs": [
    {
     "data": {
      "text/plain": [
       "20.090625000000003"
      ]
     },
     "execution_count": 12,
     "metadata": {},
     "output_type": "execute_result"
    }
   ],
   "source": [
    "# 실제 평균 계산\n",
    "df['mpg'].mean()"
   ]
  },
  {
   "cell_type": "markdown",
   "metadata": {},
   "source": [
    "#### 2. mtcars 데이터셋의 mpg열 데이터의 평균이 17보다 크다고 할 수 있는지 검정하시오. (유의수준 5%)"
   ]
  },
  {
   "cell_type": "code",
   "execution_count": 13,
   "metadata": {},
   "outputs": [],
   "source": [
    "import scipy.stats as stats\n",
    "from scipy.stats import shapiro"
   ]
  },
  {
   "cell_type": "markdown",
   "metadata": {},
   "source": [
    "##### 1. 가설 설정\n",
    "H0 : mpg열 데이터의 평균이 17보다 크지 않다(작거나 같다). (→ mpg_mean <= 17)        \n",
    "H1 : mpg열 데이터의 평균이 17보다 크다. (→ mpg_mean > 17)"
   ]
  },
  {
   "cell_type": "markdown",
   "metadata": {},
   "source": [
    "##### 2. 유의수준 확인\n",
    "문제에서 5%로 제공"
   ]
  },
  {
   "cell_type": "markdown",
   "metadata": {},
   "source": [
    "##### 3. 정규성 검정\n",
    "정규성 H0 : 정규분포를 따른다.          \n",
    "H1 : 정규분포를 따르지 않는다."
   ]
  },
  {
   "cell_type": "code",
   "execution_count": 14,
   "metadata": {},
   "outputs": [
    {
     "name": "stdout",
     "output_type": "stream",
     "text": [
      "0.9476 0.1229\n"
     ]
    }
   ],
   "source": [
    "# 정규성 검정\n",
    "statistic, pvalue = stats.shapiro(df['mpg'])\n",
    "print(round(statistic, 4), round(pvalue, 4))"
   ]
  },
  {
   "cell_type": "markdown",
   "metadata": {},
   "source": [
    "p-value = 0.1229로 유의수준 0.05보다 크므로 귀무가설 채택           \n",
    "→ 데이터는 정규분포를 따른다."
   ]
  },
  {
   "cell_type": "markdown",
   "metadata": {},
   "source": [
    "##### 4. 검정실시(통계량, p-value 확인)"
   ]
  },
  {
   "cell_type": "code",
   "execution_count": 15,
   "metadata": {},
   "outputs": [
    {
     "name": "stdout",
     "output_type": "stream",
     "text": [
      "2.9008 0.0034\n"
     ]
    }
   ],
   "source": [
    "# 4-1) 정규성을 만족 -> t-test 진행\n",
    "statistic, pvalue = stats.ttest_1samp(df['mpg'], 17, alternative='greater')     # alternative : 17보다 \"크다\" → greater\n",
    "print(round(statistic, 4), round(pvalue, 4))"
   ]
  },
  {
   "cell_type": "code",
   "execution_count": 16,
   "metadata": {},
   "outputs": [
    {
     "name": "stdout",
     "output_type": "stream",
     "text": [
      "395.5 0.0066\n"
     ]
    }
   ],
   "source": [
    "# 만약 정규성을 만족하지 않을 때 → wilcoxon 부호검정 진행\n",
    "statistic, pvalue = stats.wilcoxon(df['mpg']-17, alternative='greater')\n",
    "print(round(statistic, 4), round(pvalue, 4))"
   ]
  },
  {
   "cell_type": "markdown",
   "metadata": {},
   "source": [
    "##### 5. 귀무가설 기각여부 결정\n",
    "t-test 검정 결과 p-value = 0.0034로 유의수준 0.05보다 작으므로 귀무가설을 기각한다.         \n",
    "→ mpg열 데이터의 평균이 17보다 크다."
   ]
  },
  {
   "cell_type": "code",
   "execution_count": 17,
   "metadata": {},
   "outputs": [
    {
     "data": {
      "text/plain": [
       "20.090625000000003"
      ]
     },
     "execution_count": 17,
     "metadata": {},
     "output_type": "execute_result"
    }
   ],
   "source": [
    "# 실제 mpg열 데이터의 평균\n",
    "df['mpg'].mean()"
   ]
  },
  {
   "cell_type": "markdown",
   "metadata": {},
   "source": [
    "#### 3. mtcars 데이터셋의 mpg열 데이터의 평균이 17보다 작다고 할 수 있는지 검정하시오.(유의수준 5%)"
   ]
  },
  {
   "cell_type": "code",
   "execution_count": 18,
   "metadata": {},
   "outputs": [],
   "source": [
    "import scipy.stats as stats\n",
    "from scipy.stats import shapiro"
   ]
  },
  {
   "cell_type": "markdown",
   "metadata": {},
   "source": [
    "##### 1. 가설 설정\n",
    "H0 : mpg열 데이터의 평균이 17보다 작지 않다 (크거나 같다.)              \n",
    "H1 : mpg열 데이터의 평균이 17보다 작다."
   ]
  },
  {
   "cell_type": "markdown",
   "metadata": {},
   "source": [
    "##### 2. 유의수준 확인\n",
    "문제에서 5%로 제공"
   ]
  },
  {
   "cell_type": "markdown",
   "metadata": {},
   "source": [
    "##### 3. 정규성 검정\n",
    "H0 : 데이터가 정규분포를 따른다.            \n",
    "H1 : 데이터가 정규분포를 따르지 않는다."
   ]
  },
  {
   "cell_type": "code",
   "execution_count": 19,
   "metadata": {},
   "outputs": [
    {
     "name": "stdout",
     "output_type": "stream",
     "text": [
      "0.9476 0.1229\n"
     ]
    }
   ],
   "source": [
    "# 정규성 검정 : shapiro\n",
    "statistic, pvalue = stats.shapiro(df['mpg'])\n",
    "print(round(statistic, 4), round(pvalue, 4))"
   ]
  },
  {
   "cell_type": "markdown",
   "metadata": {},
   "source": [
    "정규성 검정 결과 p-value = 0.1229로 유의수준 0.05보다 크므로 귀무가설을 채택한다.           \n",
    "→ 데이터가 정규분포를 따른다."
   ]
  },
  {
   "cell_type": "markdown",
   "metadata": {},
   "source": [
    "##### 4. 검정실시(통계량, p-value 확인)"
   ]
  },
  {
   "cell_type": "code",
   "execution_count": 20,
   "metadata": {},
   "outputs": [
    {
     "name": "stdout",
     "output_type": "stream",
     "text": [
      "2.9008 0.9966\n"
     ]
    }
   ],
   "source": [
    "# 4-1) 정규성을 만족 → t-test 진행\n",
    "statistic, pvalue = stats.ttest_1samp(df['mpg'], popmean=17, alternative='less')\n",
    "print(round(statistic, 4), round(pvalue, 4))"
   ]
  },
  {
   "cell_type": "code",
   "execution_count": 21,
   "metadata": {},
   "outputs": [
    {
     "name": "stdout",
     "output_type": "stream",
     "text": [
      "395.5 0.9938\n"
     ]
    }
   ],
   "source": [
    "# 4-2) 정규성을 만족 못했을 때 → wilcoxon 부호검정\n",
    "statistic, pvalue = stats.wilcoxon(df['mpg']-17, alternative='less')\n",
    "print(round(statistic, 4), round(pvalue, 4))"
   ]
  },
  {
   "cell_type": "markdown",
   "metadata": {},
   "source": [
    "##### 5. 귀무가설 기각여부 결정\n",
    "단일표본 t-test 검정 결과 p-value=0.9966으로 유의수준 0.05보다 크므로 귀무가설을 채택한다.          \n",
    "→ mpg열 데이터의 평균이 17보다 작지 않다. (크거나 같다.)"
   ]
  },
  {
   "cell_type": "code",
   "execution_count": 22,
   "metadata": {},
   "outputs": [
    {
     "data": {
      "text/plain": [
       "20.090625000000003"
      ]
     },
     "execution_count": 22,
     "metadata": {},
     "output_type": "execute_result"
    }
   ],
   "source": [
    "# 실제 mpg열 평균\n",
    "df['mpg'].mean()"
   ]
  }
 ],
 "metadata": {
  "kernelspec": {
   "display_name": "tensorflow",
   "language": "python",
   "name": "python3"
  },
  "language_info": {
   "codemirror_mode": {
    "name": "ipython",
    "version": 3
   },
   "file_extension": ".py",
   "mimetype": "text/x-python",
   "name": "python",
   "nbconvert_exporter": "python",
   "pygments_lexer": "ipython3",
   "version": "3.10.12"
  }
 },
 "nbformat": 4,
 "nbformat_minor": 2
}
