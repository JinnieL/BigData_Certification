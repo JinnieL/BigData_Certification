{
 "cells": [
  {
   "cell_type": "markdown",
   "metadata": {},
   "source": [
    "# 제 3유형 - 모평균 검정_모집단 2개"
   ]
  },
  {
   "cell_type": "markdown",
   "metadata": {},
   "source": [
    "## ✅ 검정방법\n",
    "### 1. 대응표본(쌍체) : 동일한 객체의 전 vs 후 평균 비교\n",
    "- 정규성 O : 대응표본(쌍체) t 검정(paired t-test) : 동일한 객체의 전 vs 후 평균 비교            \n",
    "- 정규성 X : 윌콕슨 부호순위 검정(wilcoxon)         \n",
    "### 2. 독립표본 : A 집단의 평균 vs B 집단의 평균\n",
    "- 정규성 O : 독립표본 t검정(2sample t-test)            \n",
    "- 정규성 X : 윌콕슨 순위합 검정 (ranksums)"
   ]
  },
  {
   "cell_type": "markdown",
   "metadata": {},
   "source": [
    "### ✅ 가설검정 순서(중요!)\n",
    "#### 1. 대응표본(쌍체) t 검정(paired t-test)\n",
    "> 1. 가설 설정\n",
    "> 2. 유의수준 확인\n",
    "> 3. 정규성 검정 (주의! 차이값에 대한 정규성)\n",
    "> 4. 검정실시(통계량, p-value 확인)\n",
    "> 5. 귀무가설 기각여부 결정(채택/기각)\n",
    "\n",
    "#### 2. 독립표본 t 검정(2sample t-test)\n",
    "> 1. 가설 설정\n",
    "> 2. 유의수준 확인\n",
    "> 3. 정규성 검정 (주의! 두 집단 모두 정규성을 따를 경우)\n",
    "> 4. 등분산 검정\n",
    "> 5. 검정실시(통계량, p-value 확인) (주의! 등분산 여부 확인)\n",
    "> 6. 귀무가설 기각여부 결정(채택/기각)"
   ]
  },
  {
   "cell_type": "markdown",
   "metadata": {},
   "source": [
    "#### 예제 문제           \n",
    "#### Case1) 대응표본(쌍체) t 검정(paired t-test)\n",
    "\n",
    "문제 1-1. 다음은 혈압약을 먹은 전, 후의 혈압 데이터이다.            \n",
    "혈압약을 먹기 전, 후의 차이가 있는지 쌍체 t 검정을 실시하시오. (유의수준 5%)\n",
    "- before : 혈압약을 먹기 전 혈압            \n",
    "- after : 혈압약을 먹은 후 혈압     \n",
    "- H0(귀무가설) : after - before = 0 \n",
    "- H1(대립가설) : after - before != 0 "
   ]
  },
  {
   "cell_type": "code",
   "execution_count": 1,
   "metadata": {},
   "outputs": [],
   "source": [
    "import pandas as pd\n",
    "import numpy as np"
   ]
  },
  {
   "cell_type": "code",
   "execution_count": 2,
   "metadata": {},
   "outputs": [
    {
     "name": "stdout",
     "output_type": "stream",
     "text": [
      "   before  after\n",
      "0     120    110\n",
      "1     135    132\n",
      "2     122    123\n",
      "3     124    119\n",
      "4     135    123\n"
     ]
    }
   ],
   "source": [
    "# 데이터 만들기\n",
    "df = pd.DataFrame({\n",
    "    'before': [120, 135, 122, 124, 135, 122, 145, 160, 155, 142, 144, 135, 167],\n",
    "    'after' : [110, 132, 123, 119, 123, 115, 140, 162, 142, 138, 135, 142, 160] \n",
    "})\n",
    "print(df.head())"
   ]
  },
  {
   "cell_type": "markdown",
   "metadata": {},
   "source": [
    "##### 1. 가설 설정"
   ]
  },
  {
   "cell_type": "markdown",
   "metadata": {},
   "source": [
    "##### 2. 유의수준 확인"
   ]
  },
  {
   "cell_type": "markdown",
   "metadata": {},
   "source": [
    "##### 3. 정규성 검정"
   ]
  },
  {
   "cell_type": "markdown",
   "metadata": {},
   "source": [
    "##### 4. 검정실시(통계량, p-value 확인)"
   ]
  },
  {
   "cell_type": "markdown",
   "metadata": {},
   "source": [
    "##### 5. 귀무가설 기각여부 결정"
   ]
  },
  {
   "cell_type": "markdown",
   "metadata": {},
   "source": [
    "문제 1-2. 다음은 혈압약을 먹은 전, 후의 혈압 데이터이다.            \n",
    "혈압약을 먹은 후 혈압이 감소했는지 확인하기 위해 쌍체 t 검정을 실시하시오. (유의수준 5%)\n",
    "- before : 혈압약을 먹기 전 혈압            \n",
    "- after : 혈압약을 먹은 후 혈압     \n",
    "- H0(귀무가설) : after - before >= 0 \n",
    "- H1(대립가설) : after - before < 0 "
   ]
  },
  {
   "cell_type": "code",
   "execution_count": null,
   "metadata": {},
   "outputs": [],
   "source": [
    "import pandas as pd\n",
    "import numpy as np"
   ]
  },
  {
   "cell_type": "code",
   "execution_count": 3,
   "metadata": {},
   "outputs": [
    {
     "name": "stdout",
     "output_type": "stream",
     "text": [
      "   before  after\n",
      "0     120    110\n",
      "1     135    132\n",
      "2     122    123\n",
      "3     124    119\n",
      "4     135    123\n"
     ]
    }
   ],
   "source": [
    "# 데이터 만들기\n",
    "df = pd.DataFrame({\n",
    "    'before': [120, 135, 122, 124, 135, 122, 145, 160, 155, 142, 144, 135, 167],\n",
    "    'after' : [110, 132, 123, 119, 123, 115, 140, 162, 142, 138, 135, 142, 160] \n",
    "})\n",
    "print(df.head())"
   ]
  },
  {
   "cell_type": "markdown",
   "metadata": {},
   "source": [
    "##### 1. 가설 설정"
   ]
  },
  {
   "cell_type": "markdown",
   "metadata": {},
   "source": [
    "##### 2. 유의수준 확인"
   ]
  },
  {
   "cell_type": "markdown",
   "metadata": {},
   "source": [
    "##### 3. 정규성 검정"
   ]
  },
  {
   "cell_type": "markdown",
   "metadata": {},
   "source": [
    "##### 4. 검정실시(통계량, p-value 확인)"
   ]
  },
  {
   "cell_type": "markdown",
   "metadata": {},
   "source": [
    "##### 5. 귀무가설 기각여부 결정"
   ]
  },
  {
   "cell_type": "markdown",
   "metadata": {},
   "source": [
    "#### Case2) 독립표본 t 검정(2sample t-test)\n",
    "\n",
    "문제 2-1. 다음은 A 그룹과 B 그룹 인원의 혈압 데이터이다.\n",
    "두 그룹의 혈압 평균이 다르다고 할 수 있는지 독립표본 t 검정을 실시하시오. (유의수준 5%)\n",
    "- A : A 그룹 인원의 혈압            \n",
    "- B : B 그룹 인원의 혈압            \n",
    "- H0(귀무가설) : A = B\n",
    "- H1(대립가설) : A ≠ B"
   ]
  },
  {
   "cell_type": "code",
   "execution_count": null,
   "metadata": {},
   "outputs": [],
   "source": [
    "import pandas as pd\n",
    "import numpy as np"
   ]
  },
  {
   "cell_type": "code",
   "execution_count": null,
   "metadata": {},
   "outputs": [
    {
     "name": "stdout",
     "output_type": "stream",
     "text": [
      "   before  after\n",
      "0     120    110\n",
      "1     135    132\n",
      "2     122    123\n",
      "3     124    119\n",
      "4     135    123\n"
     ]
    }
   ],
   "source": [
    "# 데이터 만들기\n",
    "df = pd.DataFrame({\n",
    "    'A': [120, 135, 122, 124, 135, 122, 145, 160, 155, 142, 144, 135, 167],\n",
    "    'B' : [110, 132, 123, 119, 123, 115, 140, 162, 142, 138, 135, 142, 160] \n",
    "})\n",
    "print(df.head())"
   ]
  },
  {
   "cell_type": "markdown",
   "metadata": {},
   "source": [
    "##### 1. 가설 설정"
   ]
  },
  {
   "cell_type": "markdown",
   "metadata": {},
   "source": [
    "##### 2. 유의수준 확인"
   ]
  },
  {
   "cell_type": "markdown",
   "metadata": {},
   "source": [
    "##### 3. 정규성 검정"
   ]
  },
  {
   "cell_type": "markdown",
   "metadata": {},
   "source": [
    "##### 4. 검정실시(통계량, p-value 확인)"
   ]
  },
  {
   "cell_type": "markdown",
   "metadata": {},
   "source": [
    "##### 5. 귀무가설 기각여부 결정"
   ]
  },
  {
   "cell_type": "markdown",
   "metadata": {},
   "source": [
    "문제 2-2. 다음은 A 그룹과 B 그룹 인원의 혈압 데이터이다.\n",
    "A 그룹의 혈압 평균이 B그룹보다 크다고 할 수 있는지 독립표본 t 검정을 실시하시오. (유의수준 5%)\n",
    "- A : A 그룹 인원의 혈압            \n",
    "- B : B 그룹 인원의 혈압            \n",
    "- H0(귀무가설) : A <= B\n",
    "- H1(대립가설) : A > B"
   ]
  },
  {
   "cell_type": "code",
   "execution_count": null,
   "metadata": {},
   "outputs": [],
   "source": [
    "import pandas as pd\n",
    "import numpy as np"
   ]
  },
  {
   "cell_type": "code",
   "execution_count": null,
   "metadata": {},
   "outputs": [
    {
     "name": "stdout",
     "output_type": "stream",
     "text": [
      "   before  after\n",
      "0     120    110\n",
      "1     135    132\n",
      "2     122    123\n",
      "3     124    119\n",
      "4     135    123\n"
     ]
    }
   ],
   "source": [
    "# 데이터 만들기\n",
    "df = pd.DataFrame({\n",
    "    'A': [120, 135, 122, 124, 135, 122, 145, 160, 155, 142, 144, 135, 167],\n",
    "    'B' : [110, 132, 123, 119, 123, 115, 140, 162, 142, 138, 135, 142, 160] \n",
    "})\n",
    "print(df.head())"
   ]
  },
  {
   "cell_type": "markdown",
   "metadata": {},
   "source": [
    "##### 1. 가설 설정"
   ]
  },
  {
   "cell_type": "markdown",
   "metadata": {},
   "source": [
    "##### 2. 유의수준 확인"
   ]
  },
  {
   "cell_type": "markdown",
   "metadata": {},
   "source": [
    "##### 3. 정규성 검정"
   ]
  },
  {
   "cell_type": "markdown",
   "metadata": {},
   "source": [
    "##### 4. 검정실시(통계량, p-value 확인)"
   ]
  },
  {
   "cell_type": "markdown",
   "metadata": {},
   "source": [
    "##### 5. 귀무가설 기각여부 결정"
   ]
  },
  {
   "cell_type": "markdown",
   "metadata": {},
   "source": [
    "##### 1. 가설 설정"
   ]
  },
  {
   "cell_type": "markdown",
   "metadata": {},
   "source": [
    "##### 2. 유의수준 확인"
   ]
  },
  {
   "cell_type": "markdown",
   "metadata": {},
   "source": [
    "##### 3. 정규성 검정"
   ]
  },
  {
   "cell_type": "markdown",
   "metadata": {},
   "source": [
    "##### 4. 검정실시(통계량, p-value 확인)"
   ]
  },
  {
   "cell_type": "markdown",
   "metadata": {},
   "source": [
    "##### 5. 귀무가설 기각여부 결정"
   ]
  },
  {
   "cell_type": "markdown",
   "metadata": {},
   "source": [
    "##### 1. 가설 설정"
   ]
  },
  {
   "cell_type": "markdown",
   "metadata": {},
   "source": [
    "##### 2. 유의수준 확인"
   ]
  },
  {
   "cell_type": "markdown",
   "metadata": {},
   "source": [
    "##### 3. 정규성 검정"
   ]
  },
  {
   "cell_type": "markdown",
   "metadata": {},
   "source": [
    "##### 4. 검정실시(통계량, p-value 확인)"
   ]
  },
  {
   "cell_type": "markdown",
   "metadata": {},
   "source": [
    "##### 5. 귀무가설 기각여부 결정"
   ]
  }
 ],
 "metadata": {
  "kernelspec": {
   "display_name": "tensorflow",
   "language": "python",
   "name": "python3"
  },
  "language_info": {
   "codemirror_mode": {
    "name": "ipython",
    "version": 3
   },
   "file_extension": ".py",
   "mimetype": "text/x-python",
   "name": "python",
   "nbconvert_exporter": "python",
   "pygments_lexer": "ipython3",
   "version": "3.10.12"
  }
 },
 "nbformat": 4,
 "nbformat_minor": 2
}
