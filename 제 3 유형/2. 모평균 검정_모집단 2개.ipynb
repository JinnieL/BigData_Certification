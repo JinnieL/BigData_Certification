{
 "cells": [
  {
   "cell_type": "markdown",
   "metadata": {},
   "source": [
    "# 제 3유형 - 모평균 검정_모집단 2개"
   ]
  },
  {
   "cell_type": "markdown",
   "metadata": {},
   "source": [
    "## ✅ 검정방법\n",
    "### 1. 대응표본(쌍체) : 동일한 객체의 전 vs 후 평균 비교\n",
    "- 정규성 O : 대응표본(쌍체) t 검정(paired t-test) : 동일한 객체의 전 vs 후 평균 비교 (전 후 매칭이 되어야 함-데이터 수도 같아야함)            \n",
    "- 정규성 X : 윌콕슨 부호순위 검정(wilcoxon)         \n",
    "### 2. 독립표본 : A 집단의 평균 vs B 집단의 평균\n",
    "- 정규성 O : 독립표본 t검정(2sample t-test)            \n",
    "- 정규성 X : 윌콕슨 순위합 검정 (ranksums)"
   ]
  },
  {
   "cell_type": "markdown",
   "metadata": {},
   "source": [
    "### ✅ 가설검정 순서(중요!)\n",
    "#### 1. 대응표본(쌍체) t 검정(paired t-test)\n",
    "> 1. 가설 설정\n",
    "> 2. 유의수준 확인\n",
    "> 3. 정규성 검정 (주의! 차이값에 대한 정규성)\n",
    "> 4. 검정실시(통계량, p-value 확인)\n",
    "> 5. 귀무가설 기각여부 결정(채택/기각)\n",
    "\n",
    "#### 2. 독립표본 t 검정(2sample t-test)\n",
    "> 1. 가설 설정\n",
    "> 2. 유의수준 확인\n",
    "> 3. 정규성 검정 (주의! 두 집단 모두 정규성을 따를 경우)\n",
    "> 4. 등분산 검정 (두 집단의 분산이 같은가)\n",
    "> 5. 검정실시(통계량, p-value 확인) (주의! 등분산 여부 확인)\n",
    "> 6. 귀무가설 기각여부 결정(채택/기각)"
   ]
  },
  {
   "cell_type": "markdown",
   "metadata": {},
   "source": [
    "#### 예제 문제           \n",
    "#### Case1) 대응표본(쌍체) t 검정(paired t-test)\n",
    "\n",
    "문제 1-1. 다음은 혈압약을 먹은 전, 후의 혈압 데이터이다.            \n",
    "혈압약을 먹기 전, 후의 차이가 있는지 쌍체 t 검정을 실시하시오. (유의수준 5%)\n",
    "- before : 혈압약을 먹기 전 혈압            \n",
    "- after : 혈압약을 먹은 후 혈압     \n",
    "- H0(귀무가설) : after - before = 0 \n",
    "- H1(대립가설) : after - before ≠ 0 "
   ]
  },
  {
   "cell_type": "code",
   "execution_count": 1,
   "metadata": {},
   "outputs": [],
   "source": [
    "import pandas as pd\n",
    "import numpy as np"
   ]
  },
  {
   "cell_type": "code",
   "execution_count": 4,
   "metadata": {},
   "outputs": [],
   "source": [
    "import scipy.stats as stats\n",
    "from scipy.stats import shapiro"
   ]
  },
  {
   "cell_type": "code",
   "execution_count": 2,
   "metadata": {},
   "outputs": [
    {
     "name": "stdout",
     "output_type": "stream",
     "text": [
      "   before  after\n",
      "0     120    110\n",
      "1     135    132\n",
      "2     122    123\n",
      "3     124    119\n",
      "4     135    123\n"
     ]
    }
   ],
   "source": [
    "# 데이터 만들기\n",
    "df = pd.DataFrame({\n",
    "    'before': [120, 135, 122, 124, 135, 122, 145, 160, 155, 142, 144, 135, 167],\n",
    "    'after' : [110, 132, 123, 119, 123, 115, 140, 162, 142, 138, 135, 142, 160] \n",
    "})\n",
    "print(df.head())"
   ]
  },
  {
   "cell_type": "markdown",
   "metadata": {},
   "source": [
    "##### 1. 가설 설정\n",
    "H0 : 약을 먹기 전과 후의 혈압 평균은 같다. (효과가 없다.)               \n",
    "H1 : 약을 먹기 전과 후의 혈압 평균은 같지 않다. (효과가 있다.) → 혈압 평균의 증감에 대한 언급이 없으므로 양측 검정."
   ]
  },
  {
   "cell_type": "markdown",
   "metadata": {},
   "source": [
    "##### 2. 유의수준 확인\n",
    "문제에서 5%로 제공"
   ]
  },
  {
   "cell_type": "markdown",
   "metadata": {},
   "source": [
    "##### 3. 정규성 검정 (\"차이값\"에 대한 정규성 확인)"
   ]
  },
  {
   "cell_type": "code",
   "execution_count": 5,
   "metadata": {},
   "outputs": [
    {
     "name": "stdout",
     "output_type": "stream",
     "text": [
      "0.9589 0.7363\n"
     ]
    }
   ],
   "source": [
    "# 문제에서 쌍체t-test 진행하라고 바로 언급했다 = 정규성을 가정하고 있다. (생략 가능?)\n",
    "statstic, pvalue = stats.shapiro(df['after'] - df['before'])\n",
    "print(round(statstic, 4), round(pvalue, 4))"
   ]
  },
  {
   "cell_type": "markdown",
   "metadata": {},
   "source": [
    "- p-value = 0.7363으로 유의수준 0.05보다 크므로 귀무가설을 채택한다.            \n",
    "→ 혈압약을 먹기 전 후 차이에 대한 데이터는 정규분포를 따른다."
   ]
  },
  {
   "cell_type": "markdown",
   "metadata": {},
   "source": [
    "##### 4. 검정실시(통계량, p-value 확인)"
   ]
  },
  {
   "cell_type": "code",
   "execution_count": 6,
   "metadata": {},
   "outputs": [
    {
     "name": "stdout",
     "output_type": "stream",
     "text": [
      "0.9589 0.0086\n"
     ]
    }
   ],
   "source": [
    "# 정규성이 있다 → 대응표본(쌍체) t 검정(paired t-test), ttest_rel(ated)\n",
    "statistic, pvalue = stats.ttest_rel(df['after'], df['before'], alternative='two-sided')\n",
    "print(round(statstic, 4), round(pvalue, 4))"
   ]
  },
  {
   "cell_type": "code",
   "execution_count": 7,
   "metadata": {},
   "outputs": [
    {
     "name": "stdout",
     "output_type": "stream",
     "text": [
      "0.9589 0.0134\n"
     ]
    }
   ],
   "source": [
    "# 정규성이 없다 → 윌콕슨 부호순위 검정\n",
    "statistic, pvalue = stats.wilcoxon(df['after']-df['before'], alternative='two-sided')\n",
    "print(round(statstic, 4), round(pvalue, 4))"
   ]
  },
  {
   "cell_type": "markdown",
   "metadata": {},
   "source": [
    "##### 5. 귀무가설 기각여부 결정\n",
    "p-value=0.0086으로 유의수준 0.05보다 작으므로 귀무가설을 기각한다.              \n",
    "→ 혈압약을 먹기 전과 후의 혈압 평균은 같지 않다.(효과가 있다.)"
   ]
  },
  {
   "cell_type": "markdown",
   "metadata": {},
   "source": [
    "---------\n",
    "문제 1-2. 다음은 혈압약을 먹은 전, 후의 혈압 데이터이다.            \n",
    "혈압약을 먹은 후 혈압이 감소했는지 확인하기 위해 쌍체 t 검정을 실시하시오. (유의수준 5%)\n",
    "- before : 혈압약을 먹기 전 혈압            \n",
    "- after : 혈압약을 먹은 후 혈압     \n",
    "- H0(귀무가설) : after - before >= 0 \n",
    "- H1(대립가설) : after - before < 0 "
   ]
  },
  {
   "cell_type": "code",
   "execution_count": 8,
   "metadata": {},
   "outputs": [],
   "source": [
    "import pandas as pd\n",
    "import numpy as np"
   ]
  },
  {
   "cell_type": "code",
   "execution_count": 9,
   "metadata": {},
   "outputs": [
    {
     "name": "stdout",
     "output_type": "stream",
     "text": [
      "   before  after\n",
      "0     120    110\n",
      "1     135    132\n",
      "2     122    123\n",
      "3     124    119\n",
      "4     135    123\n"
     ]
    }
   ],
   "source": [
    "# 데이터 만들기\n",
    "df = pd.DataFrame({\n",
    "    'before': [120, 135, 122, 124, 135, 122, 145, 160, 155, 142, 144, 135, 167],\n",
    "    'after' : [110, 132, 123, 119, 123, 115, 140, 162, 142, 138, 135, 142, 160] \n",
    "})\n",
    "print(df.head())"
   ]
  },
  {
   "cell_type": "markdown",
   "metadata": {},
   "source": [
    "##### 1. 가설 설정\n",
    "H0 : 혈압약을 먹은 후 혈압이 감소하지 않았다. (after - before >= 0)             \n",
    "H0 : 혈압약을 먹은 후 혈압이 감소했다. (after - before < 0)"
   ]
  },
  {
   "cell_type": "markdown",
   "metadata": {},
   "source": [
    "##### 2. 유의수준 확인\n",
    "문제에서 5%로 제공"
   ]
  },
  {
   "cell_type": "markdown",
   "metadata": {},
   "source": [
    "##### 3. 정규성 검정"
   ]
  },
  {
   "cell_type": "code",
   "execution_count": 10,
   "metadata": {},
   "outputs": [],
   "source": [
    "import scipy.stats as stats\n",
    "from scipy.stats import shapiro"
   ]
  },
  {
   "cell_type": "code",
   "execution_count": 11,
   "metadata": {},
   "outputs": [
    {
     "name": "stdout",
     "output_type": "stream",
     "text": [
      "0.9589 0.7363\n"
     ]
    }
   ],
   "source": [
    "statistic, pvalue = stats.shapiro(df['after']-df['before'])\n",
    "print(round(statstic, 4), round(pvalue, 4))"
   ]
  },
  {
   "cell_type": "markdown",
   "metadata": {},
   "source": [
    "p-value=0.7363으로 유의수준 0.05보다 높다.          \n",
    "→ 귀무가설 채택 (전 후 데이터의 차이는 정규성을 따른다.)            \n",
    "사실 문제에서 쌍체 t-test 검정 실시하라고 방향성 지시해서 안했어도 된다."
   ]
  },
  {
   "cell_type": "markdown",
   "metadata": {},
   "source": [
    "##### 4. 검정실시(통계량, p-value 확인)"
   ]
  },
  {
   "cell_type": "code",
   "execution_count": 12,
   "metadata": {},
   "outputs": [
    {
     "name": "stdout",
     "output_type": "stream",
     "text": [
      "0.9589 0.0043\n"
     ]
    }
   ],
   "source": [
    "# 4-1) 정규성을 따를때 : ttest_rel\n",
    "statistic, pvalue = stats.ttest_rel(df['after'], df['before'], alternative='less')\n",
    "print(round(statstic, 4), round(pvalue, 4))"
   ]
  },
  {
   "cell_type": "code",
   "execution_count": 13,
   "metadata": {},
   "outputs": [
    {
     "name": "stdout",
     "output_type": "stream",
     "text": [
      "0.9589 0.0067\n"
     ]
    }
   ],
   "source": [
    "# 4-2) 정규성을 따르지 않을 때 : wilcoxon\n",
    "statistic, pvalue = stats.wilcoxon(df['after'] - df['before'], alternative='less')\n",
    "print(round(statstic, 4), round(pvalue, 4))"
   ]
  },
  {
   "cell_type": "markdown",
   "metadata": {},
   "source": [
    "##### 5. 귀무가설 기각여부 결정\n",
    "p-value=0.0043으로 유의수준 0.05보다 작으므로 귀무가설을 기각.          \n",
    "→ 혈압약을 먹은 후 혈압이 감소했다고 할 수 있다."
   ]
  },
  {
   "cell_type": "markdown",
   "metadata": {},
   "source": [
    "-------\n",
    "-------\n",
    "#### Case2) 독립표본 t 검정(2sample t-test)\n",
    ": 두 모집단에서 샘플을 추출한 뒤에 표본을 가지고 두 모집단의 평균을 비교\n",
    "\n",
    "문제 2-1. 다음은 A 그룹과 B 그룹 인원의 혈압 데이터이다.            \n",
    "두 그룹의 혈압 평균이 다르다고 할 수 있는지 독립표본 t 검정을 실시하시오. (유의수준 5%)\n",
    "- A : A 그룹 인원의 혈압            \n",
    "- B : B 그룹 인원의 혈압            \n",
    "- H0(귀무가설) : A = B\n",
    "- H1(대립가설) : A ≠ B"
   ]
  },
  {
   "cell_type": "code",
   "execution_count": 14,
   "metadata": {},
   "outputs": [],
   "source": [
    "import pandas as pd\n",
    "import numpy as np"
   ]
  },
  {
   "cell_type": "code",
   "execution_count": 15,
   "metadata": {},
   "outputs": [
    {
     "name": "stdout",
     "output_type": "stream",
     "text": [
      "     A    B\n",
      "0  120  110\n",
      "1  135  132\n",
      "2  122  123\n",
      "3  124  119\n",
      "4  135  123\n"
     ]
    }
   ],
   "source": [
    "# 데이터 만들기\n",
    "df = pd.DataFrame({\n",
    "    'A': [120, 135, 122, 124, 135, 122, 145, 160, 155, 142, 144, 135, 167],\n",
    "    'B' : [110, 132, 123, 119, 123, 115, 140, 162, 142, 138, 135, 142, 160] \n",
    "})\n",
    "print(df.head())"
   ]
  },
  {
   "cell_type": "markdown",
   "metadata": {},
   "source": [
    "##### 1. 가설 설정\n",
    "H0 : A 그룹과 B 그룹의 혈압 평균은 같다. (A = B)            \n",
    "H1 : A 그룹과 B 그룹의 혈압 평균은 같지 않다. (A ≠ B)"
   ]
  },
  {
   "cell_type": "markdown",
   "metadata": {},
   "source": [
    "##### 2. 유의수준 확인\n",
    "문제에서 5%로 제공"
   ]
  },
  {
   "cell_type": "markdown",
   "metadata": {},
   "source": [
    "##### 3. 정규성 검정\n",
    "H0 : 정규분포를 따른다.             \n",
    "H1 : 정규분포를 따르지 않는다.          \n",
    "각 샘플이 모두 정규분포를 따르는지 검정해봐야 함"
   ]
  },
  {
   "cell_type": "code",
   "execution_count": 16,
   "metadata": {},
   "outputs": [
    {
     "name": "stdout",
     "output_type": "stream",
     "text": [
      "0.9314 0.3559\n",
      "0.9498 0.5956\n"
     ]
    }
   ],
   "source": [
    "import scipy.stats as stats\n",
    "from scipy.stats import shapiro\n",
    "\n",
    "statisticA, pvalueA = stats.shapiro(df['A'])\n",
    "statisticB, pvalueB = stats.shapiro(df['B'])\n",
    "print(round(statisticA, 4), round(pvalueA, 4))\n",
    "print(round(statisticB, 4), round(pvalueB, 4))"
   ]
  },
  {
   "cell_type": "markdown",
   "metadata": {},
   "source": [
    "A의 p-value=0.3559, B의 p-value=0.5956으로 둘 다 유의수준 0.05보다 크므로 귀무가설을 채택           \n",
    "→ A와 B 모두 정규분포를 따른다.         \n",
    "단, 만약 둘 중 하나라도 정규분포를 따르지 않는다면 비모수 검정방법을 써야함(윌콕슨의 순위합 검정 : ranksums)"
   ]
  },
  {
   "cell_type": "markdown",
   "metadata": {},
   "source": [
    "##### 4. 등분산성 검정(가설 검정에 옵션으로 들어있기 때문에 미리 실시)  \n",
    "H0 : 등분산 한다.               \n",
    "H1 : 등분산 하지 않는다.            \n",
    "두 그룹의 분산이 같지 않으면 평균을 비교하기 어려움 (데이터 퍼짐 정도가 비슷해야 평균 비교가 쉬움)"
   ]
  },
  {
   "cell_type": "code",
   "execution_count": 17,
   "metadata": {},
   "outputs": [
    {
     "name": "stdout",
     "output_type": "stream",
     "text": [
      "0.9589 0.8673\n"
     ]
    }
   ],
   "source": [
    "statistic, pvalue = stats.bartlett(df['A'], df['B'])\n",
    "print(round(statstic, 4), round(pvalue, 4))"
   ]
  },
  {
   "cell_type": "markdown",
   "metadata": {},
   "source": [
    "p-value=0.8673으로 유의수준 0.05보다 크다           \n",
    "→ 귀무가설 채택 (두 그룹의 분산은 같다.)"
   ]
  },
  {
   "cell_type": "markdown",
   "metadata": {},
   "source": [
    "##### 5. 검정실시(통계량, p-value 확인)"
   ]
  },
  {
   "cell_type": "code",
   "execution_count": 18,
   "metadata": {},
   "outputs": [
    {
     "name": "stdout",
     "output_type": "stream",
     "text": [
      "0.9589 0.4207\n",
      "0.9589 0.4208\n"
     ]
    }
   ],
   "source": [
    "# 5.1 (정규성 O, 등분산성 O/X) : t검정 (ttest_ind)\n",
    "statistic, pvalue = stats.ttest_ind(df['A'], df['B'], equal_var=True, alternative='two-sided')\n",
    "print(round(statstic, 4), round(pvalue, 4))\n",
    "\n",
    "# (정규성 O, 등분산성 X) : equal_var=False로 설정\n",
    "statistic, pvalue = stats.ttest_ind(df['A'], df['B'], equal_var=False, alternative='two-sided')\n",
    "print(round(statstic, 4), round(pvalue, 4))"
   ]
  },
  {
   "cell_type": "code",
   "execution_count": 19,
   "metadata": {},
   "outputs": [
    {
     "name": "stdout",
     "output_type": "stream",
     "text": [
      "0.9589 0.3975\n"
     ]
    }
   ],
   "source": [
    "# 5.2 (정규성 X) : 윌콕슨 순위합 검정 (비모수 검정)\n",
    "statistic, pvalue = stats.ranksums(df['A'], df['B'], alternative='two-sided')\n",
    "print(round(statstic, 4), round(pvalue, 4))"
   ]
  },
  {
   "cell_type": "markdown",
   "metadata": {},
   "source": [
    "##### 5. 귀무가설 기각여부 결정\n",
    "p-value=0.4207로 유의수준 0.05보다 크므로 귀무가설을 채택한다.          \n",
    "→ A 그룹과 B 그룹의 혈압 평균은 같다고 할 수 있다."
   ]
  },
  {
   "cell_type": "code",
   "execution_count": 20,
   "metadata": {},
   "outputs": [
    {
     "name": "stdout",
     "output_type": "stream",
     "text": [
      "138.92307692307693\n",
      "133.92307692307693\n"
     ]
    }
   ],
   "source": [
    "print(df['A'].mean())\n",
    "print(df['B'].mean())"
   ]
  },
  {
   "cell_type": "markdown",
   "metadata": {},
   "source": [
    "------\n",
    "문제 2-2. 다음은 A 그룹과 B 그룹 인원의 혈압 데이터이다.\n",
    "A 그룹의 혈압 평균이 B그룹보다 크다고 할 수 있는지 독립표본 t 검정을 실시하시오. (유의수준 5%)\n",
    "- A : A 그룹 인원의 혈압            \n",
    "- B : B 그룹 인원의 혈압            \n",
    "- H0(귀무가설) : A <= B\n",
    "- H1(대립가설) : A > B"
   ]
  },
  {
   "cell_type": "code",
   "execution_count": null,
   "metadata": {},
   "outputs": [],
   "source": [
    "import pandas as pd\n",
    "import numpy as np"
   ]
  },
  {
   "cell_type": "code",
   "execution_count": null,
   "metadata": {},
   "outputs": [
    {
     "name": "stdout",
     "output_type": "stream",
     "text": [
      "   before  after\n",
      "0     120    110\n",
      "1     135    132\n",
      "2     122    123\n",
      "3     124    119\n",
      "4     135    123\n"
     ]
    }
   ],
   "source": [
    "# 데이터 만들기\n",
    "df = pd.DataFrame({\n",
    "    'A': [120, 135, 122, 124, 135, 122, 145, 160, 155, 142, 144, 135, 167],\n",
    "    'B' : [110, 132, 123, 119, 123, 115, 140, 162, 142, 138, 135, 142, 160] \n",
    "})\n",
    "print(df.head())"
   ]
  },
  {
   "cell_type": "markdown",
   "metadata": {},
   "source": [
    "##### 1. 가설 설정\n",
    "H0 : A 그룹의 혈압 평균이 B 그룹의 혈압 평균보다 높지 않다. (A <= B)            \n",
    "H1 : A 그룹의 혈압 평균이 B 그룹의 혈압 평균보다 높다. (A > B)"
   ]
  },
  {
   "cell_type": "markdown",
   "metadata": {},
   "source": [
    "##### 2. 유의수준 확인\n",
    "문제에서 5%로 제공"
   ]
  },
  {
   "cell_type": "markdown",
   "metadata": {},
   "source": [
    "##### 3. 정규성 검정\n",
    "H0 : 두 샘플은 모두 정규분포를 따른다.          \n",
    "H1 : 두 샘플 중 하나라도 정규분포를 따르지 않는다."
   ]
  },
  {
   "cell_type": "code",
   "execution_count": 21,
   "metadata": {},
   "outputs": [
    {
     "name": "stdout",
     "output_type": "stream",
     "text": [
      "0.9314 0.3559\n",
      "0.9498 0.5956\n"
     ]
    }
   ],
   "source": [
    "import scipy.stats as stats\n",
    "from scipy.stats import shapiro\n",
    "\n",
    "statisticA, pvalueA = stats.shapiro(df['A'])\n",
    "statisticB, pvalueB = stats.shapiro(df['B'])\n",
    "print(round(statisticA, 4), round(pvalueA, 4))\n",
    "print(round(statisticB, 4), round(pvalueB, 4))"
   ]
  },
  {
   "cell_type": "markdown",
   "metadata": {},
   "source": [
    "A 그룹의 p-value=0.3559, B 그룹의 p-value=0.5956으로 모두 유의수준 0.05보다 크므로 귀무가설을 채택.         \n",
    "→ 두 그룹은 모두 정규분포를 따른다."
   ]
  },
  {
   "cell_type": "markdown",
   "metadata": {},
   "source": [
    "##### 4. 등분산성 검정\n",
    "H0 : 두 그룹의 분산은 같다. (등분산한다)            \n",
    "H1 : 두 그룹의 분산은 같지 않다. (등분산하지 않는다)"
   ]
  },
  {
   "cell_type": "code",
   "execution_count": 22,
   "metadata": {},
   "outputs": [
    {
     "name": "stdout",
     "output_type": "stream",
     "text": [
      "0.0279 0.8673\n"
     ]
    }
   ],
   "source": [
    "statistic, pvalue = stats.bartlett(df['A'], df['B'])\n",
    "print(round(statistic, 4), round(pvalue, 4))"
   ]
  },
  {
   "cell_type": "markdown",
   "metadata": {},
   "source": [
    "p-value=0.8673으로 유의수준 0.05보다 크기 때문에 귀무가설을 채택            \n",
    "→ 두 그룹은 등분산 한다."
   ]
  },
  {
   "cell_type": "markdown",
   "metadata": {},
   "source": [
    "##### 5. 검정실시(통계량, p-value 확인)"
   ]
  },
  {
   "cell_type": "code",
   "execution_count": 25,
   "metadata": {},
   "outputs": [
    {
     "name": "stdout",
     "output_type": "stream",
     "text": [
      "0.8192 0.2104\n",
      "0.8192 0.2104\n"
     ]
    }
   ],
   "source": [
    "# 5.1 (정규성 O, 등분산성 O : ttest_ind\n",
    "statistic, pvalue = stats.ttest_ind(df['A'], df['B'], equal_var=True, alternative='greater')\n",
    "print(round(statistic, 4), round(pvalue, 4))\n",
    "\n",
    "# 정규성 O, 등분산성 X : ttest_ind\n",
    "statistic, pvalue = stats.ttest_ind(df['A'], df['B'], equal_var=False, alternative='greater')\n",
    "print(round(statistic, 4), round(pvalue, 4))"
   ]
  },
  {
   "cell_type": "code",
   "execution_count": 26,
   "metadata": {},
   "outputs": [
    {
     "name": "stdout",
     "output_type": "stream",
     "text": [
      "0.8462 0.1987\n"
     ]
    }
   ],
   "source": [
    "# 5.2 정규성 X\n",
    "statistic, pvalue = stats.ranksums(df['A'], df['B'], alternative='greater')\n",
    "print(round(statistic, 4), round(pvalue, 4))"
   ]
  },
  {
   "cell_type": "markdown",
   "metadata": {},
   "source": [
    "##### 6. 귀무가설 기각여부 결정\n",
    "p-value=0.2104로 유의수준 0.05보다 크므로 귀무가설을 채택           \n",
    "→ A 그룹의 혈압 평균이 B 그룹의 혈압 평균보다 높다 할 수 없다."
   ]
  }
 ],
 "metadata": {
  "kernelspec": {
   "display_name": "tensorflow",
   "language": "python",
   "name": "python3"
  },
  "language_info": {
   "codemirror_mode": {
    "name": "ipython",
    "version": 3
   },
   "file_extension": ".py",
   "mimetype": "text/x-python",
   "name": "python",
   "nbconvert_exporter": "python",
   "pygments_lexer": "ipython3",
   "version": "3.10.12"
  }
 },
 "nbformat": 4,
 "nbformat_minor": 2
}
